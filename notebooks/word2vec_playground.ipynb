{
 "cells": [
  {
   "cell_type": "code",
   "execution_count": 2,
   "metadata": {
    "collapsed": true
   },
   "outputs": [
    {
     "name": "stderr",
     "output_type": "stream",
     "text": [
      "/Users/mert.tunc/.virtualenvs/personal/lib/python3.9/site-packages/gensim/similarities/__init__.py:15: UserWarning: The gensim.similarities.levenshtein submodule is disabled, because the optional Levenshtein package <https://pypi.org/project/python-Levenshtein/> is unavailable. Install Levenhstein (e.g. `pip install python-Levenshtein`) to suppress this warning.\n",
      "  warnings.warn(msg)\n"
     ]
    }
   ],
   "source": [
    "from gensim.models import Word2Vec\n",
    "w2v_model = Word2Vec.load('../cached_data/word2vec__Digital_Music_5model_epochs_100__vector_size_250__window_51508473049.model')"
   ]
  },
  {
   "cell_type": "code",
   "execution_count": 3,
   "outputs": [
    {
     "data": {
      "text/plain": "[('indie', 0.4538566768169403),\n ('rock', 0.4381600022315979),\n ('folk', 0.436489075422287),\n ('alt', 0.4132254719734192),\n ('poppy', 0.40255874395370483),\n ('alternative', 0.3911769688129425),\n ('country', 0.38971731066703796),\n ('modern', 0.3877893090248108),\n ('electronic', 0.38015037775039673),\n ('techno', 0.38007596135139465)]"
     },
     "execution_count": 3,
     "metadata": {},
     "output_type": "execute_result"
    }
   ],
   "source": [
    "w2v_model.wv.similar_by_word('pop')\n"
   ],
   "metadata": {
    "collapsed": false,
    "pycharm": {
     "name": "#%%\n"
    }
   }
  },
  {
   "cell_type": "code",
   "execution_count": 4,
   "outputs": [
    {
     "data": {
      "text/plain": "[('cordier', 0.46610990166664124),\n ('b000apytkm', 0.4610570967197418),\n ('phelps', 0.44852137565612793),\n ('readman', 0.43759968876838684),\n ('zinman', 0.4185716509819031),\n ('coe', 0.4100378155708313),\n ('lindley', 0.40998539328575134),\n ('kosten', 0.40973371267318726),\n ('hod', 0.39740878343582153),\n ('pizzaro', 0.39237385988235474)]"
     },
     "execution_count": 4,
     "metadata": {},
     "output_type": "execute_result"
    }
   ],
   "source": [
    "w2v_model.wv.similar_by_word('bowie')\n",
    "\n"
   ],
   "metadata": {
    "collapsed": false,
    "pycharm": {
     "name": "#%%\n"
    }
   }
  },
  {
   "cell_type": "code",
   "execution_count": 5,
   "outputs": [
    {
     "data": {
      "text/plain": "[('b000apytkm', 0.5323783755302429),\n ('phelps', 0.5076796412467957),\n ('cordier', 0.4874705970287323),\n ('hod', 0.4738844931125641),\n ('readman', 0.46268072724342346),\n ('arkenstones', 0.4601556956768036),\n ('zinman', 0.4597649872303009),\n ('sitek', 0.4412258565425873),\n ('crowder', 0.4392874538898468),\n ('apologists', 0.4312274754047394)]"
     },
     "execution_count": 5,
     "metadata": {},
     "output_type": "execute_result"
    }
   ],
   "source": [
    "w2v_model.wv.similar_by_word('guetta')"
   ],
   "metadata": {
    "collapsed": false,
    "pycharm": {
     "name": "#%%\n"
    }
   }
  },
  {
   "cell_type": "code",
   "execution_count": 6,
   "outputs": [
    {
     "data": {
      "text/plain": "[('amazing', 0.7592633366584778),\n ('great', 0.6050328612327576),\n ('fantastic', 0.5906696319580078),\n ('incredible', 0.5881993174552917),\n ('excellent', 0.5803936719894409),\n ('outstanding', 0.5362429618835449),\n ('wonderful', 0.5154017210006714),\n ('awsome', 0.46797975897789),\n ('anointed', 0.46343645453453064),\n ('beautiful', 0.4387767016887665)]"
     },
     "execution_count": 6,
     "metadata": {},
     "output_type": "execute_result"
    }
   ],
   "source": [
    "w2v_model.wv.similar_by_word('awesome')"
   ],
   "metadata": {
    "collapsed": false,
    "pycharm": {
     "name": "#%%\n"
    }
   }
  },
  {
   "cell_type": "code",
   "execution_count": 7,
   "outputs": [
    {
     "data": {
      "text/plain": "[('holiday', 0.5814400315284729),\n ('xmas', 0.43971601128578186),\n ('holidays', 0.41432735323905945),\n ('seasonal', 0.3808351159095764),\n ('christams', 0.32430508732795715),\n ('b0007xt87g', 0.3213961124420166),\n ('burl', 0.31407299637794495),\n ('b00b40r7ro', 0.307412326335907),\n ('folger', 0.30119788646698),\n ('carroling', 0.2987629175186157)]"
     },
     "execution_count": 7,
     "metadata": {},
     "output_type": "execute_result"
    }
   ],
   "source": [
    "w2v_model.wv.similar_by_word('christmas')"
   ],
   "metadata": {
    "collapsed": false,
    "pycharm": {
     "name": "#%%\n"
    }
   }
  },
  {
   "cell_type": "code",
   "execution_count": null,
   "outputs": [],
   "source": [],
   "metadata": {
    "collapsed": false,
    "pycharm": {
     "name": "#%%\n"
    }
   }
  }
 ],
 "metadata": {
  "kernelspec": {
   "display_name": "Python 3",
   "language": "python",
   "name": "python3"
  },
  "language_info": {
   "codemirror_mode": {
    "name": "ipython",
    "version": 2
   },
   "file_extension": ".py",
   "mimetype": "text/x-python",
   "name": "python",
   "nbconvert_exporter": "python",
   "pygments_lexer": "ipython2",
   "version": "2.7.6"
  }
 },
 "nbformat": 4,
 "nbformat_minor": 0
}