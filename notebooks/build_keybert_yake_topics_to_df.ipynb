{
 "cells": [
  {
   "cell_type": "code",
   "execution_count": 1,
   "metadata": {
    "collapsed": true
   },
   "outputs": [
    {
     "name": "stderr",
     "output_type": "stream",
     "text": [
      "[nltk_data] Downloading package wordnet to\n",
      "[nltk_data]     /Users/mert.tunc/nltk_data...\n",
      "[nltk_data]   Package wordnet is already up-to-date!\n"
     ]
    },
    {
     "name": "stdout",
     "output_type": "stream",
     "text": [
      "        overall  verified   reviewTime      reviewerID        asin  \\\n",
      "0             5      True  10 30, 2016  A3FO5AKVTFRCRJ  0739079891   \n",
      "1             5      True  06 30, 2016  A3UCGC1DHFMBCE  0739079891   \n",
      "2             5      True   05 9, 2016  A2S9SLRYLPGYZB  0739079891   \n",
      "3             4      True  04 10, 2016  A15RTJWPG8OKOE  0739079891   \n",
      "4             1      True   02 6, 2016  A12ET1WO3OAVU7  0739079891   \n",
      "...         ...       ...          ...             ...         ...   \n",
      "231387        5      True  03 29, 2018  A2GLR2Q3M1PC7P  B01HIDOPP2   \n",
      "231388        5      True  11 18, 2017  A3S1LSTRW57BP9  B01HIDOPP2   \n",
      "231389        4      True   06 5, 2017  A2BNWRRADDBSVO  B01HIDOPP2   \n",
      "231390        1      True  05 27, 2017  A1KRL5ZRON6DPT  B01HIDOPP2   \n",
      "231391        5      True  03 24, 2017  A3QN3W0PJ1DXIT  B01HIDOPP2   \n",
      "\n",
      "            reviewerName                                         reviewText  \\\n",
      "0              francisco                            It's good for beginners   \n",
      "1         Eb Jack Murray  I recommend this starter Ukulele kit.  I has e...   \n",
      "2           Clara LaMarr  G'daughter received this for Christmas present...   \n",
      "3                Eagle80  According to my order history, I bought this t...   \n",
      "4        Amazon Customer  Please pay attention better than I did to the ...   \n",
      "...                  ...                                                ...   \n",
      "231387         nic field                                 It's pretty great.   \n",
      "231388             2gene  Good inexpensive wiring harness. It will do th...   \n",
      "231389               Tim           Easily installed and worked as expected.   \n",
      "231390  Jude the Obscure  The description stated they were full size pot...   \n",
      "231391     Doug Clayburg  They are dime size not \"full size\" pots but it...   \n",
      "\n",
      "                                                  summary  unixReviewTime  \\\n",
      "0                                              Five Stars      1477785600   \n",
      "1                                              Five Stars      1467244800   \n",
      "2                    Learning new songs to play regularly      1462752000   \n",
      "3       A bargain-bin good-enough ukulele that's held ...      1460246400   \n",
      "4                                   Poor Quality product.      1454716800   \n",
      "...                                                   ...             ...   \n",
      "231387                                         Five Stars      1522281600   \n",
      "231388                                         Five Stars      1510963200   \n",
      "231389                                         Four Stars      1496620800   \n",
      "231390                                  Not as described.      1495843200   \n",
      "231391                                        Works great      1490313600   \n",
      "\n",
      "       vote style image  \n",
      "0       NaN   NaN   NaN  \n",
      "1       NaN   NaN   NaN  \n",
      "2       NaN   NaN   NaN  \n",
      "3       NaN   NaN   NaN  \n",
      "4       NaN   NaN   NaN  \n",
      "...     ...   ...   ...  \n",
      "231387  NaN   NaN   NaN  \n",
      "231388  NaN   NaN   NaN  \n",
      "231389  NaN   NaN   NaN  \n",
      "231390  NaN   NaN   NaN  \n",
      "231391  NaN   NaN   NaN  \n",
      "\n",
      "[231392 rows x 12 columns]\n"
     ]
    }
   ],
   "source": [
    "\n",
    "import pandas as pd\n",
    "import numpy as np\n",
    "from dataset.amazon.loader import AmazonDatasetLoader\n",
    "from dataset.yelp.loader import YelpDatasetLoader\n",
    "from models.nlp.KeyBERT import KeyBERTExtractor\n",
    "from models.nlp.yake import YakeExtractor\n",
    "\n",
    "\n",
    "amazon_dataloader = AmazonDatasetLoader()\n",
    "#yelp_dataloader = YelpDatasetLoader()\n",
    "\n",
    "df = amazon_dataloader.get_pandas_df()\n",
    "\n",
    "\n"
   ]
  },
  {
   "cell_type": "code",
   "execution_count": null,
   "outputs": [
    {
     "data": {
      "text/plain": "Pandas Apply:   0%|          | 0/231344 [00:00<?, ?it/s]",
      "application/vnd.jupyter.widget-view+json": {
       "version_major": 2,
       "version_minor": 0,
       "model_id": "c211d14de239486cafaeaa053e2d3070"
      }
     },
     "metadata": {},
     "output_type": "display_data"
    }
   ],
   "source": [
    "df = KeyBERTExtractor().extract_keywords(df, {'top_n':15})"
   ],
   "metadata": {
    "collapsed": false,
    "pycharm": {
     "name": "#%%\n",
     "is_executing": true
    }
   }
  },
  {
   "cell_type": "code",
   "execution_count": null,
   "outputs": [],
   "source": [
    "df.to_pickle('Arts_Crafts_and_Sewing_5_with_extracted_topics.gzip')\n",
    "df = YakeExtractor().extract_keywords(df)\n",
    "\n"
   ],
   "metadata": {
    "collapsed": false,
    "pycharm": {
     "name": "#%%\n",
     "is_executing": true
    }
   }
  },
  {
   "cell_type": "code",
   "execution_count": null,
   "outputs": [],
   "source": [
    "#reviews = df['review'].to_list()\n",
    "#res = KeyBERTExtractor().model.extract_keywords(reviews)\n"
   ],
   "metadata": {
    "collapsed": false,
    "pycharm": {
     "name": "#%%\n",
     "is_executing": true
    }
   }
  },
  {
   "cell_type": "code",
   "execution_count": null,
   "outputs": [],
   "source": [
    "from models.nlp.tfidf import tfidfExtractor\n",
    "\n",
    "\n",
    "#df = amazon_dataloader.get_processed_pandas_df()\n",
    "\n",
    "df = tfidfExtractor().extract_keywords(df)"
   ],
   "metadata": {
    "collapsed": false,
    "pycharm": {
     "name": "#%%\n",
     "is_executing": true
    }
   }
  },
  {
   "cell_type": "code",
   "execution_count": null,
   "outputs": [],
   "source": [
    "df.to_pickle('Arts_Crafts_and_Sewing_5_with_extracted_topics.gzip')"
   ],
   "metadata": {
    "collapsed": false,
    "pycharm": {
     "name": "#%%\n",
     "is_executing": true
    }
   }
  },
  {
   "cell_type": "code",
   "execution_count": null,
   "outputs": [],
   "source": [
    "df\n"
   ],
   "metadata": {
    "collapsed": false,
    "pycharm": {
     "name": "#%%\n",
     "is_executing": true
    }
   }
  },
  {
   "cell_type": "code",
   "execution_count": 9,
   "outputs": [],
   "source": [],
   "metadata": {
    "collapsed": false,
    "pycharm": {
     "name": "#%%\n"
    }
   }
  },
  {
   "cell_type": "code",
   "execution_count": null,
   "outputs": [],
   "source": [],
   "metadata": {
    "collapsed": false,
    "pycharm": {
     "name": "#%%\n"
    }
   }
  }
 ],
 "metadata": {
  "kernelspec": {
   "display_name": "Python 3",
   "language": "python",
   "name": "python3"
  },
  "language_info": {
   "codemirror_mode": {
    "name": "ipython",
    "version": 2
   },
   "file_extension": ".py",
   "mimetype": "text/x-python",
   "name": "python",
   "nbconvert_exporter": "python",
   "pygments_lexer": "ipython2",
   "version": "2.7.6"
  }
 },
 "nbformat": 4,
 "nbformat_minor": 0
}