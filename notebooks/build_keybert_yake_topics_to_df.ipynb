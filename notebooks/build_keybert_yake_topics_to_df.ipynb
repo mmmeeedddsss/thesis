{
 "cells": [
  {
   "cell_type": "code",
   "execution_count": 1,
   "metadata": {
    "collapsed": true
   },
   "outputs": [
    {
     "name": "stderr",
     "output_type": "stream",
     "text": [
      "[nltk_data] Downloading package wordnet to\n",
      "[nltk_data]     /Users/mert.tunc/nltk_data...\n",
      "[nltk_data]   Package wordnet is already up-to-date!\n",
      "100%|██████████| 169623/169623 [00:00<00:00, 626636.44it/s]\n",
      "100%|██████████| 169623/169623 [00:01<00:00, 96923.27it/s] \n",
      "100%|██████████| 169623/169623 [00:01<00:00, 92430.71it/s] \n"
     ]
    },
    {
     "name": "stdout",
     "output_type": "stream",
     "text": [
      "        overall  vote  verified   reviewTime      reviewerID        asin  \\\n",
      "0             5   3.0      True   06 3, 2013  A2TYZ821XXK2YZ  3426958910   \n",
      "1             5   NaN      True  10 11, 2014  A3OFSREZADFUDY  3426958910   \n",
      "2             5   NaN      True  02 11, 2014  A2VAMODP8M77NG  3426958910   \n",
      "3             4   3.0     False   12 7, 2013   AAKSLZ9IDTEH0  3426958910   \n",
      "4             5   NaN      True  06 12, 2016  A3OH43OZJLKI09  5557706259   \n",
      "...         ...   ...       ...          ...             ...         ...   \n",
      "169776        5   NaN      True  08 19, 2018  A1SR2T84IXOMAQ  B01HJ91MTW   \n",
      "169777        5   NaN      True  03 18, 2018  A2SR3DWJR1PYR6  B01HJ91MTW   \n",
      "169778        5   NaN      True   03 7, 2018  A24V7X30NIMOIY  B01HJ91MTW   \n",
      "169779        5   NaN      True  02 12, 2018  A1LW10GYP2EYM1  B01HJ91MTW   \n",
      "169780        5   NaN      True  01 27, 2018  A26TH3YW0QWPI7  B01HJ91MTW   \n",
      "\n",
      "                            style       reviewerName  \\\n",
      "0        {'Format:': ' Audio CD'}            Garrett   \n",
      "1        {'Format:': ' Audio CD'}                 Ad   \n",
      "2        {'Format:': ' Audio CD'}             JTGabq   \n",
      "3        {'Format:': ' Audio CD'}  john F&#039;n doe   \n",
      "4        {'Format:': ' Audio CD'}  melinda a goodman   \n",
      "...                           ...                ...   \n",
      "169776  {'Format:': ' MP3 Music'}           Diane B.   \n",
      "169777  {'Format:': ' MP3 Music'}             jan c.   \n",
      "169778  {'Format:': ' MP3 Music'}             Lori Y   \n",
      "169779  {'Format:': ' MP3 Music'}                N F   \n",
      "169780  {'Format:': ' MP3 Music'}         Susan Lane   \n",
      "\n",
      "                                               reviewText  \\\n",
      "0       This is awesome to listen to, A must-have for ...   \n",
      "1                                                    bien   \n",
      "2       It was great to hear the old stuff again and I...   \n",
      "3       well best of's are a bit poison normally but t...   \n",
      "4       What can I say? This is Casting Crowns!!!This ...   \n",
      "...                                                   ...   \n",
      "169776           Casting Crowns songs are all wonderful!!   \n",
      "169777         Just reminds you that you are never alone.   \n",
      "169778                        Good product, good service.   \n",
      "169779  I love every single song this group sings. The...   \n",
      "169780                                         Great song   \n",
      "\n",
      "                                                  summary  unixReviewTime  \\\n",
      "0                                           Slayer Rules!      1370217600   \n",
      "1                                              Five Stars      1412985600   \n",
      "2                             SLAYER!!!!!!!!!!!!!!!!!!!!!      1392076800   \n",
      "3       slayer greatest hits! you mean everything righ...      1386374400   \n",
      "4                         This is a good, blessing filled      1465689600   \n",
      "...                                                   ...             ...   \n",
      "169776                                       Great song!!      1534636800   \n",
      "169777                                         Five Stars      1521331200   \n",
      "169778                                         Five Stars      1520380800   \n",
      "169779                            Absolutely beautiful...      1518393600   \n",
      "169780                                         Five Stars      1517011200   \n",
      "\n",
      "       image  \n",
      "0        NaN  \n",
      "1        NaN  \n",
      "2        NaN  \n",
      "3        NaN  \n",
      "4        NaN  \n",
      "...      ...  \n",
      "169776   NaN  \n",
      "169777   NaN  \n",
      "169778   NaN  \n",
      "169779   NaN  \n",
      "169780   NaN  \n",
      "\n",
      "[169781 rows x 12 columns]\n",
      "to_lower\n",
      "clean_non_alphanumeric_and_nums\n",
      "trim_whitespaces\n"
     ]
    }
   ],
   "source": [
    "\n",
    "import pandas as pd\n",
    "import numpy as np\n",
    "from dataset.amazon.loader import AmazonDatasetLoader\n",
    "from dataset.yelp.loader import YelpDatasetLoader\n",
    "from models.nlp.KeyBERT import KeyBERTExtractor\n",
    "from models.nlp.yake import YakeExtractor\n",
    "\n",
    "\n",
    "amazon_dataloader = AmazonDatasetLoader()\n",
    "#yelp_dataloader = YelpDatasetLoader()\n",
    "\n",
    "df = amazon_dataloader.get_pandas_df()\n"
   ]
  },
  {
   "cell_type": "code",
   "execution_count": 3,
   "outputs": [
    {
     "data": {
      "text/plain": "        rating  vote          userID      itemID                      style  \\\n0            5   3.0  A2TYZ821XXK2YZ  3426958910   {'Format:': ' Audio CD'}   \n1            5   NaN  A3OFSREZADFUDY  3426958910   {'Format:': ' Audio CD'}   \n2            5   NaN  A2VAMODP8M77NG  3426958910   {'Format:': ' Audio CD'}   \n3            4   3.0   AAKSLZ9IDTEH0  3426958910   {'Format:': ' Audio CD'}   \n4            5   NaN  A3OH43OZJLKI09  5557706259   {'Format:': ' Audio CD'}   \n...        ...   ...             ...         ...                        ...   \n169776       5   NaN  A1SR2T84IXOMAQ  B01HJ91MTW  {'Format:': ' MP3 Music'}   \n169777       5   NaN  A2SR3DWJR1PYR6  B01HJ91MTW  {'Format:': ' MP3 Music'}   \n169778       5   NaN  A24V7X30NIMOIY  B01HJ91MTW  {'Format:': ' MP3 Music'}   \n169779       5   NaN  A1LW10GYP2EYM1  B01HJ91MTW  {'Format:': ' MP3 Music'}   \n169780       5   NaN  A26TH3YW0QWPI7  B01HJ91MTW  {'Format:': ' MP3 Music'}   \n\n                                                   review image  \\\n0       this is awesome to listen to a must have for a...   NaN   \n1                                                    bien   NaN   \n2       it was great to hear the old stuff again and i...   NaN   \n3       well best of s are a bit poison normally but t...   NaN   \n4       what can i say this is casting crowns this is ...   NaN   \n...                                                   ...   ...   \n169776             casting crowns songs are all wonderful   NaN   \n169777          just reminds you that you are never alone   NaN   \n169778                          good product good service   NaN   \n169779  i love every single song this group sings they...   NaN   \n169780                                         great song   NaN   \n\n                            topics_KeyBERTExtractor_2gram  \\\n0       [(listen slayer, 0.6384), (slayer fans, 0.5982...   \n1                                                      []   \n2       [(recommend slayer, 0.6193), (slayer fan, 0.55...   \n3       [(cd greatest, 0.4289), (tracks worse, 0.421),...   \n4       [(casting crowns, 0.7523), (crowns good, 0.621...   \n...                                                   ...   \n169776  [(casting crowns, 0.7734), (crowns songs, 0.76...   \n169777                           [(just reminds, 0.5702)]   \n169778  [(good service, 0.8162), (good product, 0.6955...   \n169779  [(praise song, 0.6362), (song group, 0.5653), ...   \n169780                                [(great song, 1.0)]   \n\n                               topics_YakeExtractor_2gram  \\\n0       [(slayer fans, 0.013527995261974615), (fans sa...   \n1                           [(bien, 0.04491197687864554)]   \n2       [(slayer fan, 0.021567786782198985), (fan, 0.1...   \n3       [(hell await, 0.008932087041096813), (couple m...   \n4       [(casting crowns, 0.02570861714399338), (good ...   \n...                                                   ...   \n169776  [(casting crowns, 0.04940384002065631), (crown...   \n169777                   [(reminds, 0.15831692877998726)]   \n169778  [(good service, 0.035552851931764155), (good p...   \n169779  [(group sings, 0.03346752176983843), (gods chi...   \n169780  [(great song, 0.02570861714399338), (great, 0....   \n\n                                    topics_tfidfExtractor  \n0       [(awesome, 0.747808887564659), (listen, 0.6639...  \n1                                                      []  \n2       [(fan, 0.43822935289547155), (recommend, 0.436...  \n3       [(track, 0.4691617632862605), (cd, 0.428001514...  \n4       [(say, 0.6558348037485904), (cd, 0.62383989693...  \n...                                                   ...  \n169776  [(wonderful, 0.8369439633991801), (songs, 0.54...  \n169777                                      [(just, 1.0)]  \n169778                                      [(good, 1.0)]  \n169779                                 [(beautiful, 1.0)]  \n169780                                                 []  \n\n[169623 rows x 10 columns]",
      "text/html": "<div>\n<style scoped>\n    .dataframe tbody tr th:only-of-type {\n        vertical-align: middle;\n    }\n\n    .dataframe tbody tr th {\n        vertical-align: top;\n    }\n\n    .dataframe thead th {\n        text-align: right;\n    }\n</style>\n<table border=\"1\" class=\"dataframe\">\n  <thead>\n    <tr style=\"text-align: right;\">\n      <th></th>\n      <th>rating</th>\n      <th>vote</th>\n      <th>userID</th>\n      <th>itemID</th>\n      <th>style</th>\n      <th>review</th>\n      <th>image</th>\n      <th>topics_KeyBERTExtractor_2gram</th>\n      <th>topics_YakeExtractor_2gram</th>\n      <th>topics_tfidfExtractor</th>\n    </tr>\n  </thead>\n  <tbody>\n    <tr>\n      <th>0</th>\n      <td>5</td>\n      <td>3.0</td>\n      <td>A2TYZ821XXK2YZ</td>\n      <td>3426958910</td>\n      <td>{'Format:': ' Audio CD'}</td>\n      <td>this is awesome to listen to a must have for a...</td>\n      <td>NaN</td>\n      <td>[(listen slayer, 0.6384), (slayer fans, 0.5982...</td>\n      <td>[(slayer fans, 0.013527995261974615), (fans sa...</td>\n      <td>[(awesome, 0.747808887564659), (listen, 0.6639...</td>\n    </tr>\n    <tr>\n      <th>1</th>\n      <td>5</td>\n      <td>NaN</td>\n      <td>A3OFSREZADFUDY</td>\n      <td>3426958910</td>\n      <td>{'Format:': ' Audio CD'}</td>\n      <td>bien</td>\n      <td>NaN</td>\n      <td>[]</td>\n      <td>[(bien, 0.04491197687864554)]</td>\n      <td>[]</td>\n    </tr>\n    <tr>\n      <th>2</th>\n      <td>5</td>\n      <td>NaN</td>\n      <td>A2VAMODP8M77NG</td>\n      <td>3426958910</td>\n      <td>{'Format:': ' Audio CD'}</td>\n      <td>it was great to hear the old stuff again and i...</td>\n      <td>NaN</td>\n      <td>[(recommend slayer, 0.6193), (slayer fan, 0.55...</td>\n      <td>[(slayer fan, 0.021567786782198985), (fan, 0.1...</td>\n      <td>[(fan, 0.43822935289547155), (recommend, 0.436...</td>\n    </tr>\n    <tr>\n      <th>3</th>\n      <td>4</td>\n      <td>3.0</td>\n      <td>AAKSLZ9IDTEH0</td>\n      <td>3426958910</td>\n      <td>{'Format:': ' Audio CD'}</td>\n      <td>well best of s are a bit poison normally but t...</td>\n      <td>NaN</td>\n      <td>[(cd greatest, 0.4289), (tracks worse, 0.421),...</td>\n      <td>[(hell await, 0.008932087041096813), (couple m...</td>\n      <td>[(track, 0.4691617632862605), (cd, 0.428001514...</td>\n    </tr>\n    <tr>\n      <th>4</th>\n      <td>5</td>\n      <td>NaN</td>\n      <td>A3OH43OZJLKI09</td>\n      <td>5557706259</td>\n      <td>{'Format:': ' Audio CD'}</td>\n      <td>what can i say this is casting crowns this is ...</td>\n      <td>NaN</td>\n      <td>[(casting crowns, 0.7523), (crowns good, 0.621...</td>\n      <td>[(casting crowns, 0.02570861714399338), (good ...</td>\n      <td>[(say, 0.6558348037485904), (cd, 0.62383989693...</td>\n    </tr>\n    <tr>\n      <th>...</th>\n      <td>...</td>\n      <td>...</td>\n      <td>...</td>\n      <td>...</td>\n      <td>...</td>\n      <td>...</td>\n      <td>...</td>\n      <td>...</td>\n      <td>...</td>\n      <td>...</td>\n    </tr>\n    <tr>\n      <th>169776</th>\n      <td>5</td>\n      <td>NaN</td>\n      <td>A1SR2T84IXOMAQ</td>\n      <td>B01HJ91MTW</td>\n      <td>{'Format:': ' MP3 Music'}</td>\n      <td>casting crowns songs are all wonderful</td>\n      <td>NaN</td>\n      <td>[(casting crowns, 0.7734), (crowns songs, 0.76...</td>\n      <td>[(casting crowns, 0.04940384002065631), (crown...</td>\n      <td>[(wonderful, 0.8369439633991801), (songs, 0.54...</td>\n    </tr>\n    <tr>\n      <th>169777</th>\n      <td>5</td>\n      <td>NaN</td>\n      <td>A2SR3DWJR1PYR6</td>\n      <td>B01HJ91MTW</td>\n      <td>{'Format:': ' MP3 Music'}</td>\n      <td>just reminds you that you are never alone</td>\n      <td>NaN</td>\n      <td>[(just reminds, 0.5702)]</td>\n      <td>[(reminds, 0.15831692877998726)]</td>\n      <td>[(just, 1.0)]</td>\n    </tr>\n    <tr>\n      <th>169778</th>\n      <td>5</td>\n      <td>NaN</td>\n      <td>A24V7X30NIMOIY</td>\n      <td>B01HJ91MTW</td>\n      <td>{'Format:': ' MP3 Music'}</td>\n      <td>good product good service</td>\n      <td>NaN</td>\n      <td>[(good service, 0.8162), (good product, 0.6955...</td>\n      <td>[(good service, 0.035552851931764155), (good p...</td>\n      <td>[(good, 1.0)]</td>\n    </tr>\n    <tr>\n      <th>169779</th>\n      <td>5</td>\n      <td>NaN</td>\n      <td>A1LW10GYP2EYM1</td>\n      <td>B01HJ91MTW</td>\n      <td>{'Format:': ' MP3 Music'}</td>\n      <td>i love every single song this group sings they...</td>\n      <td>NaN</td>\n      <td>[(praise song, 0.6362), (song group, 0.5653), ...</td>\n      <td>[(group sings, 0.03346752176983843), (gods chi...</td>\n      <td>[(beautiful, 1.0)]</td>\n    </tr>\n    <tr>\n      <th>169780</th>\n      <td>5</td>\n      <td>NaN</td>\n      <td>A26TH3YW0QWPI7</td>\n      <td>B01HJ91MTW</td>\n      <td>{'Format:': ' MP3 Music'}</td>\n      <td>great song</td>\n      <td>NaN</td>\n      <td>[(great song, 1.0)]</td>\n      <td>[(great song, 0.02570861714399338), (great, 0....</td>\n      <td>[]</td>\n    </tr>\n  </tbody>\n</table>\n<p>169623 rows × 10 columns</p>\n</div>"
     },
     "execution_count": 3,
     "metadata": {},
     "output_type": "execute_result"
    }
   ],
   "source": [
    "df = amazon_dataloader.get_processed_pandas_df()\n",
    "df"
   ],
   "metadata": {
    "collapsed": false,
    "pycharm": {
     "name": "#%%\n"
    }
   }
  },
  {
   "cell_type": "code",
   "execution_count": null,
   "outputs": [],
   "source": [],
   "metadata": {
    "collapsed": false,
    "pycharm": {
     "name": "#%%\n"
    }
   }
  },
  {
   "cell_type": "code",
   "execution_count": null,
   "outputs": [],
   "source": [],
   "metadata": {
    "collapsed": false,
    "pycharm": {
     "name": "#%%\n"
    }
   }
  },
  {
   "cell_type": "code",
   "execution_count": null,
   "outputs": [],
   "source": [
    "df = KeyBERTExtractor().extract_keywords(df, {'top_n':10})"
   ],
   "metadata": {
    "collapsed": false,
    "pycharm": {
     "name": "#%%\n",
     "is_executing": true
    }
   }
  },
  {
   "cell_type": "code",
   "execution_count": null,
   "outputs": [],
   "source": [
    "df.to_pickle('xd1.gzip')\n",
    "df = YakeExtractor().extract_keywords(df)\n",
    "\n"
   ],
   "metadata": {
    "collapsed": false,
    "pycharm": {
     "name": "#%%\n",
     "is_executing": true
    }
   }
  },
  {
   "cell_type": "code",
   "execution_count": null,
   "outputs": [],
   "source": [
    "#reviews = df['review'].to_list()\n",
    "#res = KeyBERTExtractor().model.extract_keywords(reviews)\n"
   ],
   "metadata": {
    "collapsed": false,
    "pycharm": {
     "name": "#%%\n"
    }
   }
  },
  {
   "cell_type": "code",
   "execution_count": null,
   "outputs": [],
   "source": [
    "from models.nlp.tfidf import tfidfExtractor\n",
    "\n",
    "\n",
    "#df = amazon_dataloader.get_processed_pandas_df()\n",
    "\n",
    "df = tfidfExtractor().extract_keywords(df)"
   ],
   "metadata": {
    "collapsed": false,
    "pycharm": {
     "name": "#%%\n"
    }
   }
  },
  {
   "cell_type": "code",
   "execution_count": null,
   "outputs": [],
   "source": [
    "df.to_pickle('xd2.gzip')"
   ],
   "metadata": {
    "collapsed": false,
    "pycharm": {
     "name": "#%%\n"
    }
   }
  },
  {
   "cell_type": "code",
   "execution_count": null,
   "outputs": [],
   "source": [
    "df\n"
   ],
   "metadata": {
    "collapsed": false,
    "pycharm": {
     "name": "#%%\n"
    }
   }
  },
  {
   "cell_type": "code",
   "execution_count": 9,
   "outputs": [],
   "source": [],
   "metadata": {
    "collapsed": false,
    "pycharm": {
     "name": "#%%\n"
    }
   }
  },
  {
   "cell_type": "code",
   "execution_count": null,
   "outputs": [],
   "source": [],
   "metadata": {
    "collapsed": false,
    "pycharm": {
     "name": "#%%\n"
    }
   }
  }
 ],
 "metadata": {
  "kernelspec": {
   "display_name": "Python 3",
   "language": "python",
   "name": "python3"
  },
  "language_info": {
   "codemirror_mode": {
    "name": "ipython",
    "version": 2
   },
   "file_extension": ".py",
   "mimetype": "text/x-python",
   "name": "python",
   "nbconvert_exporter": "python",
   "pygments_lexer": "ipython2",
   "version": "2.7.6"
  }
 },
 "nbformat": 4,
 "nbformat_minor": 0
}