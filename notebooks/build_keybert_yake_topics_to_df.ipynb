{
 "cells": [
  {
   "cell_type": "code",
   "execution_count": 10,
   "metadata": {
    "collapsed": true
   },
   "outputs": [
    {
     "name": "stdout",
     "output_type": "stream",
     "text": [
      "        overall  verified   reviewTime      reviewerID        asin  \\\n",
      "0             5      True  10 30, 2016  A3FO5AKVTFRCRJ  0739079891   \n",
      "1             5      True  06 30, 2016  A3UCGC1DHFMBCE  0739079891   \n",
      "2             5      True   05 9, 2016  A2S9SLRYLPGYZB  0739079891   \n",
      "3             4      True  04 10, 2016  A15RTJWPG8OKOE  0739079891   \n",
      "4             1      True   02 6, 2016  A12ET1WO3OAVU7  0739079891   \n",
      "...         ...       ...          ...             ...         ...   \n",
      "231387        5      True  03 29, 2018  A2GLR2Q3M1PC7P  B01HIDOPP2   \n",
      "231388        5      True  11 18, 2017  A3S1LSTRW57BP9  B01HIDOPP2   \n",
      "231389        4      True   06 5, 2017  A2BNWRRADDBSVO  B01HIDOPP2   \n",
      "231390        1      True  05 27, 2017  A1KRL5ZRON6DPT  B01HIDOPP2   \n",
      "231391        5      True  03 24, 2017  A3QN3W0PJ1DXIT  B01HIDOPP2   \n",
      "\n",
      "            reviewerName                                         reviewText  \\\n",
      "0              francisco                            It's good for beginners   \n",
      "1         Eb Jack Murray  I recommend this starter Ukulele kit.  I has e...   \n",
      "2           Clara LaMarr  G'daughter received this for Christmas present...   \n",
      "3                Eagle80  According to my order history, I bought this t...   \n",
      "4        Amazon Customer  Please pay attention better than I did to the ...   \n",
      "...                  ...                                                ...   \n",
      "231387         nic field                                 It's pretty great.   \n",
      "231388             2gene  Good inexpensive wiring harness. It will do th...   \n",
      "231389               Tim           Easily installed and worked as expected.   \n",
      "231390  Jude the Obscure  The description stated they were full size pot...   \n",
      "231391     Doug Clayburg  They are dime size not \"full size\" pots but it...   \n",
      "\n",
      "                                                  summary  unixReviewTime  \\\n",
      "0                                              Five Stars      1477785600   \n",
      "1                                              Five Stars      1467244800   \n",
      "2                    Learning new songs to play regularly      1462752000   \n",
      "3       A bargain-bin good-enough ukulele that's held ...      1460246400   \n",
      "4                                   Poor Quality product.      1454716800   \n",
      "...                                                   ...             ...   \n",
      "231387                                         Five Stars      1522281600   \n",
      "231388                                         Five Stars      1510963200   \n",
      "231389                                         Four Stars      1496620800   \n",
      "231390                                  Not as described.      1495843200   \n",
      "231391                                        Works great      1490313600   \n",
      "\n",
      "       vote style image  \n",
      "0       NaN   NaN   NaN  \n",
      "1       NaN   NaN   NaN  \n",
      "2       NaN   NaN   NaN  \n",
      "3       NaN   NaN   NaN  \n",
      "4       NaN   NaN   NaN  \n",
      "...     ...   ...   ...  \n",
      "231387  NaN   NaN   NaN  \n",
      "231388  NaN   NaN   NaN  \n",
      "231389  NaN   NaN   NaN  \n",
      "231390  NaN   NaN   NaN  \n",
      "231391  NaN   NaN   NaN  \n",
      "\n",
      "[231392 rows x 12 columns]\n"
     ]
    }
   ],
   "source": [
    "\n",
    "import pandas as pd\n",
    "import numpy as np\n",
    "from dataset.amazon.loader import AmazonDatasetLoader\n",
    "from dataset.yelp.loader import YelpDatasetLoader\n",
    "from models.nlp.KeyBERT import KeyBERTExtractor\n",
    "from models.nlp.yake import YakeExtractor\n",
    "\n",
    "\n",
    "amazon_dataloader = AmazonDatasetLoader()\n",
    "#yelp_dataloader = YelpDatasetLoader()\n",
    "\n",
    "df = amazon_dataloader.get_pandas_df()\n",
    "\n",
    "\n"
   ]
  },
  {
   "cell_type": "code",
   "execution_count": 2,
   "outputs": [
    {
     "data": {
      "text/plain": "Pandas Apply:   0%|          | 0/231344 [00:00<?, ?it/s]",
      "application/vnd.jupyter.widget-view+json": {
       "version_major": 2,
       "version_minor": 0,
       "model_id": "c211d14de239486cafaeaa053e2d3070"
      }
     },
     "metadata": {},
     "output_type": "display_data"
    }
   ],
   "source": [
    "df = KeyBERTExtractor().extract_keywords(df, {'top_n':15})"
   ],
   "metadata": {
    "collapsed": false,
    "pycharm": {
     "name": "#%%\n"
    }
   }
  },
  {
   "cell_type": "code",
   "execution_count": 9,
   "outputs": [
    {
     "data": {
      "text/plain": "Pandas Apply:   0%|          | 0/231344 [00:00<?, ?it/s]",
      "application/vnd.jupyter.widget-view+json": {
       "version_major": 2,
       "version_minor": 0,
       "model_id": "db8d0221e95d4c9a85118b594bfbc2b6"
      }
     },
     "metadata": {},
     "output_type": "display_data"
    }
   ],
   "source": [
    "df.to_pickle('Arts_Crafts_and_Sewing_5_with_extracted_topics.gzip')\n",
    "df = YakeExtractor().extract_keywords(df)\n",
    "\n"
   ],
   "metadata": {
    "collapsed": false,
    "pycharm": {
     "name": "#%%\n"
    }
   }
  },
  {
   "cell_type": "code",
   "execution_count": 4,
   "outputs": [],
   "source": [
    "#reviews = df['review'].to_list()\n",
    "#res = KeyBERTExtractor().model.extract_keywords(reviews)\n"
   ],
   "metadata": {
    "collapsed": false,
    "pycharm": {
     "name": "#%%\n"
    }
   }
  },
  {
   "cell_type": "code",
   "execution_count": 5,
   "outputs": [],
   "source": [
    "from models.nlp.tfidf import tfidfExtractor\n",
    "\n",
    "\n",
    "#df = amazon_dataloader.get_processed_pandas_df()\n",
    "\n",
    "df = tfidfExtractor().extract_keywords(df)"
   ],
   "metadata": {
    "collapsed": false,
    "pycharm": {
     "name": "#%%\n"
    }
   }
  },
  {
   "cell_type": "code",
   "execution_count": 6,
   "outputs": [],
   "source": [
    "df.to_pickle('Arts_Crafts_and_Sewing_5_with_extracted_topics.gzip')"
   ],
   "metadata": {
    "collapsed": false,
    "pycharm": {
     "name": "#%%\n"
    }
   }
  },
  {
   "cell_type": "code",
   "execution_count": 11,
   "outputs": [
    {
     "data": {
      "text/plain": "        rating  verified   reviewTime          userID      itemID  \\\n0            5      True  10 30, 2016  A3FO5AKVTFRCRJ  0739079891   \n1            5      True  06 30, 2016  A3UCGC1DHFMBCE  0739079891   \n2            5      True   05 9, 2016  A2S9SLRYLPGYZB  0739079891   \n3            4      True  04 10, 2016  A15RTJWPG8OKOE  0739079891   \n4            1      True   02 6, 2016  A12ET1WO3OAVU7  0739079891   \n...        ...       ...          ...             ...         ...   \n231387       5      True  03 29, 2018  A2GLR2Q3M1PC7P  B01HIDOPP2   \n231388       5      True  11 18, 2017  A3S1LSTRW57BP9  B01HIDOPP2   \n231389       4      True   06 5, 2017  A2BNWRRADDBSVO  B01HIDOPP2   \n231390       1      True  05 27, 2017  A1KRL5ZRON6DPT  B01HIDOPP2   \n231391       5      True  03 24, 2017  A3QN3W0PJ1DXIT  B01HIDOPP2   \n\n            reviewerName                                             review  \\\n0              francisco                            it s good for beginners   \n1         Eb Jack Murray  i recommend this starter ukulele kit i has eve...   \n2           Clara LaMarr  g daughter received this for christmas present...   \n3                Eagle80  according to my order history i bought this th...   \n4        Amazon Customer  please pay attention better than i did to the ...   \n...                  ...                                                ...   \n231387         nic field                                  it s pretty great   \n231388             2gene  good inexpensive wiring harness it will do the...   \n231389               Tim            easily installed and worked as expected   \n231390  Jude the Obscure  the description stated they were full size pot...   \n231391     Doug Clayburg  they are dime size not full size pots but it s...   \n\n                                                  summary  unixReviewTime  \\\n0                                              Five Stars      1477785600   \n1                                              Five Stars      1467244800   \n2                    Learning new songs to play regularly      1462752000   \n3       A bargain-bin good-enough ukulele that's held ...      1460246400   \n4                                   Poor Quality product.      1454716800   \n...                                                   ...             ...   \n231387                                         Five Stars      1522281600   \n231388                                         Five Stars      1510963200   \n231389                                         Four Stars      1496620800   \n231390                                  Not as described.      1495843200   \n231391                                        Works great      1490313600   \n\n       vote style image  \n0       NaN   NaN   NaN  \n1       NaN   NaN   NaN  \n2       NaN   NaN   NaN  \n3       NaN   NaN   NaN  \n4       NaN   NaN   NaN  \n...     ...   ...   ...  \n231387  NaN   NaN   NaN  \n231388  NaN   NaN   NaN  \n231389  NaN   NaN   NaN  \n231390  NaN   NaN   NaN  \n231391  NaN   NaN   NaN  \n\n[231344 rows x 12 columns]",
      "text/html": "<div>\n<style scoped>\n    .dataframe tbody tr th:only-of-type {\n        vertical-align: middle;\n    }\n\n    .dataframe tbody tr th {\n        vertical-align: top;\n    }\n\n    .dataframe thead th {\n        text-align: right;\n    }\n</style>\n<table border=\"1\" class=\"dataframe\">\n  <thead>\n    <tr style=\"text-align: right;\">\n      <th></th>\n      <th>rating</th>\n      <th>verified</th>\n      <th>reviewTime</th>\n      <th>userID</th>\n      <th>itemID</th>\n      <th>reviewerName</th>\n      <th>review</th>\n      <th>summary</th>\n      <th>unixReviewTime</th>\n      <th>vote</th>\n      <th>style</th>\n      <th>image</th>\n    </tr>\n  </thead>\n  <tbody>\n    <tr>\n      <th>0</th>\n      <td>5</td>\n      <td>True</td>\n      <td>10 30, 2016</td>\n      <td>A3FO5AKVTFRCRJ</td>\n      <td>0739079891</td>\n      <td>francisco</td>\n      <td>it s good for beginners</td>\n      <td>Five Stars</td>\n      <td>1477785600</td>\n      <td>NaN</td>\n      <td>NaN</td>\n      <td>NaN</td>\n    </tr>\n    <tr>\n      <th>1</th>\n      <td>5</td>\n      <td>True</td>\n      <td>06 30, 2016</td>\n      <td>A3UCGC1DHFMBCE</td>\n      <td>0739079891</td>\n      <td>Eb Jack Murray</td>\n      <td>i recommend this starter ukulele kit i has eve...</td>\n      <td>Five Stars</td>\n      <td>1467244800</td>\n      <td>NaN</td>\n      <td>NaN</td>\n      <td>NaN</td>\n    </tr>\n    <tr>\n      <th>2</th>\n      <td>5</td>\n      <td>True</td>\n      <td>05 9, 2016</td>\n      <td>A2S9SLRYLPGYZB</td>\n      <td>0739079891</td>\n      <td>Clara LaMarr</td>\n      <td>g daughter received this for christmas present...</td>\n      <td>Learning new songs to play regularly</td>\n      <td>1462752000</td>\n      <td>NaN</td>\n      <td>NaN</td>\n      <td>NaN</td>\n    </tr>\n    <tr>\n      <th>3</th>\n      <td>4</td>\n      <td>True</td>\n      <td>04 10, 2016</td>\n      <td>A15RTJWPG8OKOE</td>\n      <td>0739079891</td>\n      <td>Eagle80</td>\n      <td>according to my order history i bought this th...</td>\n      <td>A bargain-bin good-enough ukulele that's held ...</td>\n      <td>1460246400</td>\n      <td>NaN</td>\n      <td>NaN</td>\n      <td>NaN</td>\n    </tr>\n    <tr>\n      <th>4</th>\n      <td>1</td>\n      <td>True</td>\n      <td>02 6, 2016</td>\n      <td>A12ET1WO3OAVU7</td>\n      <td>0739079891</td>\n      <td>Amazon Customer</td>\n      <td>please pay attention better than i did to the ...</td>\n      <td>Poor Quality product.</td>\n      <td>1454716800</td>\n      <td>NaN</td>\n      <td>NaN</td>\n      <td>NaN</td>\n    </tr>\n    <tr>\n      <th>...</th>\n      <td>...</td>\n      <td>...</td>\n      <td>...</td>\n      <td>...</td>\n      <td>...</td>\n      <td>...</td>\n      <td>...</td>\n      <td>...</td>\n      <td>...</td>\n      <td>...</td>\n      <td>...</td>\n      <td>...</td>\n    </tr>\n    <tr>\n      <th>231387</th>\n      <td>5</td>\n      <td>True</td>\n      <td>03 29, 2018</td>\n      <td>A2GLR2Q3M1PC7P</td>\n      <td>B01HIDOPP2</td>\n      <td>nic field</td>\n      <td>it s pretty great</td>\n      <td>Five Stars</td>\n      <td>1522281600</td>\n      <td>NaN</td>\n      <td>NaN</td>\n      <td>NaN</td>\n    </tr>\n    <tr>\n      <th>231388</th>\n      <td>5</td>\n      <td>True</td>\n      <td>11 18, 2017</td>\n      <td>A3S1LSTRW57BP9</td>\n      <td>B01HIDOPP2</td>\n      <td>2gene</td>\n      <td>good inexpensive wiring harness it will do the...</td>\n      <td>Five Stars</td>\n      <td>1510963200</td>\n      <td>NaN</td>\n      <td>NaN</td>\n      <td>NaN</td>\n    </tr>\n    <tr>\n      <th>231389</th>\n      <td>4</td>\n      <td>True</td>\n      <td>06 5, 2017</td>\n      <td>A2BNWRRADDBSVO</td>\n      <td>B01HIDOPP2</td>\n      <td>Tim</td>\n      <td>easily installed and worked as expected</td>\n      <td>Four Stars</td>\n      <td>1496620800</td>\n      <td>NaN</td>\n      <td>NaN</td>\n      <td>NaN</td>\n    </tr>\n    <tr>\n      <th>231390</th>\n      <td>1</td>\n      <td>True</td>\n      <td>05 27, 2017</td>\n      <td>A1KRL5ZRON6DPT</td>\n      <td>B01HIDOPP2</td>\n      <td>Jude the Obscure</td>\n      <td>the description stated they were full size pot...</td>\n      <td>Not as described.</td>\n      <td>1495843200</td>\n      <td>NaN</td>\n      <td>NaN</td>\n      <td>NaN</td>\n    </tr>\n    <tr>\n      <th>231391</th>\n      <td>5</td>\n      <td>True</td>\n      <td>03 24, 2017</td>\n      <td>A3QN3W0PJ1DXIT</td>\n      <td>B01HIDOPP2</td>\n      <td>Doug Clayburg</td>\n      <td>they are dime size not full size pots but it s...</td>\n      <td>Works great</td>\n      <td>1490313600</td>\n      <td>NaN</td>\n      <td>NaN</td>\n      <td>NaN</td>\n    </tr>\n  </tbody>\n</table>\n<p>231344 rows × 12 columns</p>\n</div>"
     },
     "execution_count": 11,
     "metadata": {},
     "output_type": "execute_result"
    }
   ],
   "source": [
    "df\n"
   ],
   "metadata": {
    "collapsed": false,
    "pycharm": {
     "name": "#%%\n"
    }
   }
  },
  {
   "cell_type": "code",
   "execution_count": 9,
   "outputs": [],
   "source": [],
   "metadata": {
    "collapsed": false,
    "pycharm": {
     "name": "#%%\n"
    }
   }
  },
  {
   "cell_type": "code",
   "execution_count": null,
   "outputs": [],
   "source": [],
   "metadata": {
    "collapsed": false,
    "pycharm": {
     "name": "#%%\n"
    }
   }
  }
 ],
 "metadata": {
  "kernelspec": {
   "display_name": "Python 3",
   "language": "python",
   "name": "python3"
  },
  "language_info": {
   "codemirror_mode": {
    "name": "ipython",
    "version": 2
   },
   "file_extension": ".py",
   "mimetype": "text/x-python",
   "name": "python",
   "nbconvert_exporter": "python",
   "pygments_lexer": "ipython2",
   "version": "2.7.6"
  }
 },
 "nbformat": 4,
 "nbformat_minor": 0
}