{
 "cells": [
  {
   "cell_type": "code",
   "execution_count": null,
   "metadata": {
    "collapsed": true
   },
   "outputs": [],
   "source": []
  },
  {
   "cell_type": "code",
   "execution_count": 3,
   "outputs": [
    {
     "name": "stdout",
     "output_type": "stream",
     "text": [
      "         overall  verified   reviewTime      reviewerID        asin  \\\n",
      "0              5      True   11 9, 2012  A2M1CU2IRZG0K9  0005089549   \n",
      "1              5      True  12 30, 2011   AFTUJYISOFHY6  0005089549   \n",
      "2              5      True  04 21, 2005  A3JVF9Y53BEOGC  000503860X   \n",
      "3              5      True   04 6, 2005  A12VPEOEZS1KTC  000503860X   \n",
      "4              5      True   12 3, 2010   ATLZNVLYKP9AZ  000503860X   \n",
      "...          ...       ...          ...             ...         ...   \n",
      "3410014        4      True   01 1, 2017  A2MFARH7H7FSY1  B01HJ1INB0   \n",
      "3410015        5      True   12 6, 2016   AY532XZ00UTKN  B01HJ1INB0   \n",
      "3410016        4     False   12 6, 2016  A2VWQXWF1GO2ZE  B01HJ1INB0   \n",
      "3410017        5     False   11 6, 2016  A22AB77OD50U4M  B01HJ1INB0   \n",
      "3410018        4     False  08 21, 2016   ATGEMV4Z0GPOH  B01HJ1INB0   \n",
      "\n",
      "                            style            reviewerName  \\\n",
      "0        {'Format:': ' VHS Tape'}                   Terri   \n",
      "1        {'Format:': ' VHS Tape'}  Melissa D. Abercrombie   \n",
      "2             {'Format:': ' DVD'}        Anthony Thompson   \n",
      "3             {'Format:': ' DVD'}                JadeRain   \n",
      "4             {'Format:': ' DVD'}               T. Fisher   \n",
      "...                           ...                     ...   \n",
      "3410014       {'Format:': ' DVD'}             Ali A. Diba   \n",
      "3410015   {'Format:': ' Blu-ray'}         Amazon Customer   \n",
      "3410016   {'Format:': ' Blu-ray'}              Noam Eitan   \n",
      "3410017   {'Format:': ' Blu-ray'}         Amazon Customer   \n",
      "3410018   {'Format:': ' Blu-ray'}                   Peter   \n",
      "\n",
      "                                                reviewText  \\\n",
      "0        So sorry I didn't purchase this years ago when...   \n",
      "1        Believe me when I tell you that you will recei...   \n",
      "2        I have seen X live many times, both in the ear...   \n",
      "3        I was so excited for this!  Finally, a live co...   \n",
      "4        X is one of the best punk bands ever. I don't ...   \n",
      "...                                                    ...   \n",
      "3410014  The singing parts are very good as expected fr...   \n",
      "3410015  This recording of the 2015 production by the M...   \n",
      "3410016  I do not wish to write a review about this rel...   \n",
      "3410017                                     It was a gift.   \n",
      "3410018  This Otello originates from the Salzburg Festi...   \n",
      "\n",
      "                                                   summary  unixReviewTime  \\\n",
      "0                                                 Amazing!      1352419200   \n",
      "1                      Great Gospel VHS of the Cathedrals!      1325203200   \n",
      "2                         A great document of a great band      1114041600   \n",
      "3                                          YES!!  X LIVE!!      1112745600   \n",
      "4                                      X have still got it      1291334400   \n",
      "...                                                    ...             ...   \n",
      "3410014                                     Verdi's Otello      1483228800   \n",
      "3410015               Verdi's Take on Shakespear's Othello      1480982400   \n",
      "3410016  Voices on all MET video releases, broadcasts a...      1480982400   \n",
      "3410017                                         Five Stars      1478390400   \n",
      "3410018                                Not my first choice      1471737600   \n",
      "\n",
      "        vote image  \n",
      "0        NaN   NaN  \n",
      "1        NaN   NaN  \n",
      "2         11   NaN  \n",
      "3          5   NaN  \n",
      "4          5   NaN  \n",
      "...      ...   ...  \n",
      "3410014    4   NaN  \n",
      "3410015    8   NaN  \n",
      "3410016   11   NaN  \n",
      "3410017  NaN   NaN  \n",
      "3410018  NaN   NaN  \n",
      "\n",
      "[3410019 rows x 12 columns]\n"
     ]
    }
   ],
   "source": [
    "\n",
    "import pandas as pd\n",
    "import numpy as np\n",
    "from dataset.amazon.loader import AmazonDatasetLoader\n",
    "from dataset.yelp.loader import YelpDatasetLoader\n",
    "from models.nlp.KeyBERT import KeyBERTExtractor\n",
    "from models.nlp.yake import YakeExtractor\n",
    "\n",
    "\n",
    "amazon_dataloader = AmazonDatasetLoader()\n",
    "\n",
    "df = amazon_dataloader.get_pandas_df()"
   ],
   "metadata": {
    "collapsed": false,
    "pycharm": {
     "name": "#%%\n"
    }
   }
  },
  {
   "cell_type": "code",
   "execution_count": 5,
   "outputs": [
    {
     "data": {
      "text/plain": "['rating',\n 'verified',\n 'reviewTime',\n 'userID',\n 'itemID',\n 'style',\n 'reviewerName',\n 'review',\n 'summary',\n 'unixReviewTime',\n 'vote',\n 'image']"
     },
     "execution_count": 5,
     "metadata": {},
     "output_type": "execute_result"
    }
   ],
   "source": [
    "list(df.columns.values)"
   ],
   "metadata": {
    "collapsed": false,
    "pycharm": {
     "name": "#%%\n"
    }
   }
  },
  {
   "cell_type": "code",
   "execution_count": 8,
   "outputs": [],
   "source": [
    "grouped_by_user_id = df.groupby(\"userID\")"
   ],
   "metadata": {
    "collapsed": false,
    "pycharm": {
     "name": "#%%\n"
    }
   }
  },
  {
   "cell_type": "code",
   "execution_count": 11,
   "outputs": [
    {
     "ename": "SpecificationError",
     "evalue": "nested renamer is not supported",
     "output_type": "error",
     "traceback": [
      "\u001B[0;31m---------------------------------------------------------------------------\u001B[0m",
      "\u001B[0;31mSpecificationError\u001B[0m                        Traceback (most recent call last)",
      "\u001B[0;32m<ipython-input-11-1a5be511eeb3>\u001B[0m in \u001B[0;36m<module>\u001B[0;34m\u001B[0m\n\u001B[0;32m----> 1\u001B[0;31m df_top_freq = grouped_by_user_id['userID'].agg(\n\u001B[0m\u001B[1;32m      2\u001B[0m     \u001B[0;34m{\u001B[0m\u001B[0;34m\"code_count\"\u001B[0m\u001B[0;34m:\u001B[0m \u001B[0mlen\u001B[0m\u001B[0;34m}\u001B[0m\u001B[0;34m)\u001B[0m\u001B[0;34m.\u001B[0m\u001B[0msort_values\u001B[0m\u001B[0;34m(\u001B[0m\u001B[0;34m\u001B[0m\u001B[0;34m\u001B[0m\u001B[0m\n\u001B[1;32m      3\u001B[0m     \"code_count\", ascending=False).reset_index()\n",
      "\u001B[0;32m~/.virtualenvs/personal/lib/python3.9/site-packages/pandas/core/groupby/generic.py\u001B[0m in \u001B[0;36maggregate\u001B[0;34m(self, func, engine, engine_kwargs, *args, **kwargs)\u001B[0m\n\u001B[1;32m    245\u001B[0m             \u001B[0;31m# but not the class list / tuple itself.\u001B[0m\u001B[0;34m\u001B[0m\u001B[0;34m\u001B[0m\u001B[0;34m\u001B[0m\u001B[0m\n\u001B[1;32m    246\u001B[0m             \u001B[0mfunc\u001B[0m \u001B[0;34m=\u001B[0m \u001B[0mmaybe_mangle_lambdas\u001B[0m\u001B[0;34m(\u001B[0m\u001B[0mfunc\u001B[0m\u001B[0;34m)\u001B[0m\u001B[0;34m\u001B[0m\u001B[0;34m\u001B[0m\u001B[0m\n\u001B[0;32m--> 247\u001B[0;31m             \u001B[0mret\u001B[0m \u001B[0;34m=\u001B[0m \u001B[0mself\u001B[0m\u001B[0;34m.\u001B[0m\u001B[0m_aggregate_multiple_funcs\u001B[0m\u001B[0;34m(\u001B[0m\u001B[0mfunc\u001B[0m\u001B[0;34m)\u001B[0m\u001B[0;34m\u001B[0m\u001B[0;34m\u001B[0m\u001B[0m\n\u001B[0m\u001B[1;32m    248\u001B[0m             \u001B[0;32mif\u001B[0m \u001B[0mrelabeling\u001B[0m\u001B[0;34m:\u001B[0m\u001B[0;34m\u001B[0m\u001B[0;34m\u001B[0m\u001B[0m\n\u001B[1;32m    249\u001B[0m                 \u001B[0mret\u001B[0m\u001B[0;34m.\u001B[0m\u001B[0mcolumns\u001B[0m \u001B[0;34m=\u001B[0m \u001B[0mcolumns\u001B[0m\u001B[0;34m\u001B[0m\u001B[0;34m\u001B[0m\u001B[0m\n",
      "\u001B[0;32m~/.virtualenvs/personal/lib/python3.9/site-packages/pandas/core/groupby/generic.py\u001B[0m in \u001B[0;36m_aggregate_multiple_funcs\u001B[0;34m(self, arg)\u001B[0m\n\u001B[1;32m    286\u001B[0m             \u001B[0;31m# GH 15931\u001B[0m\u001B[0;34m\u001B[0m\u001B[0;34m\u001B[0m\u001B[0;34m\u001B[0m\u001B[0m\n\u001B[1;32m    287\u001B[0m             \u001B[0;32mif\u001B[0m \u001B[0misinstance\u001B[0m\u001B[0;34m(\u001B[0m\u001B[0mself\u001B[0m\u001B[0;34m.\u001B[0m\u001B[0m_selected_obj\u001B[0m\u001B[0;34m,\u001B[0m \u001B[0mSeries\u001B[0m\u001B[0;34m)\u001B[0m\u001B[0;34m:\u001B[0m\u001B[0;34m\u001B[0m\u001B[0;34m\u001B[0m\u001B[0m\n\u001B[0;32m--> 288\u001B[0;31m                 \u001B[0;32mraise\u001B[0m \u001B[0mSpecificationError\u001B[0m\u001B[0;34m(\u001B[0m\u001B[0;34m\"nested renamer is not supported\"\u001B[0m\u001B[0;34m)\u001B[0m\u001B[0;34m\u001B[0m\u001B[0;34m\u001B[0m\u001B[0m\n\u001B[0m\u001B[1;32m    289\u001B[0m \u001B[0;34m\u001B[0m\u001B[0m\n\u001B[1;32m    290\u001B[0m             \u001B[0mcolumns\u001B[0m \u001B[0;34m=\u001B[0m \u001B[0mlist\u001B[0m\u001B[0;34m(\u001B[0m\u001B[0marg\u001B[0m\u001B[0;34m.\u001B[0m\u001B[0mkeys\u001B[0m\u001B[0;34m(\u001B[0m\u001B[0;34m)\u001B[0m\u001B[0;34m)\u001B[0m\u001B[0;34m\u001B[0m\u001B[0;34m\u001B[0m\u001B[0m\n",
      "\u001B[0;31mSpecificationError\u001B[0m: nested renamer is not supported"
     ]
    }
   ],
   "source": [
    "df_top_freq = grouped_by_user_id['userID'].agg(\n",
    "    {\"code_count\": len}).sort_values(\n",
    "    \"code_count\", ascending=False).reset_index()"
   ],
   "metadata": {
    "collapsed": false,
    "pycharm": {
     "name": "#%%\n"
    }
   }
  },
  {
   "cell_type": "code",
   "execution_count": null,
   "outputs": [],
   "source": [],
   "metadata": {
    "collapsed": false,
    "pycharm": {
     "name": "#%%\n"
    }
   }
  }
 ],
 "metadata": {
  "kernelspec": {
   "display_name": "Python 3",
   "language": "python",
   "name": "python3"
  },
  "language_info": {
   "codemirror_mode": {
    "name": "ipython",
    "version": 2
   },
   "file_extension": ".py",
   "mimetype": "text/x-python",
   "name": "python",
   "nbconvert_exporter": "python",
   "pygments_lexer": "ipython2",
   "version": "2.7.6"
  }
 },
 "nbformat": 4,
 "nbformat_minor": 0
}