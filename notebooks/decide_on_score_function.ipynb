{
 "cells": [
  {
   "cell_type": "markdown",
   "source": [
    "I want to score the following cases:\n",
    "\n",
    "- (1) User gave 1 star to props, course has these props\n",
    "- (2) User gave 1 star to props, course has not these props\n",
    "- (3) User gave 5 stars to props, course has these props\n",
    "- (4) User game 5 starts to props, course has not these props\n",
    "------\n",
    "\n",
    "- 2 and 4 is irrelevancy, should close to 0\n",
    "- 1 is negative, should be negative\n",
    "- 3 is positive, should be positive\n",
    "----\n",
    "\n",
    "- Low r, low d: 1 (negative)\n",
    "- Low r, high d: 2 (irr)\n",
    "- High r, low d: 3 (positive)\n",
    "- High r, high d: 4 (irr)\n",
    "\n",
    "So, r is the score itself while 1-d defines its strength.\n",
    "\n",
    "----\n",
    "\n",
    "d is normalized\n",
    "r in [1,5]\n",
    "r_mean = 2.5\n",
    "\n",
    "What about (r-r_mean)*(1-d)?\n"
   ],
   "metadata": {
    "collapsed": false
   }
  }
 ],
 "metadata": {
  "kernelspec": {
   "display_name": "Python 3",
   "language": "python",
   "name": "python3"
  },
  "language_info": {
   "codemirror_mode": {
    "name": "ipython",
    "version": 2
   },
   "file_extension": ".py",
   "mimetype": "text/x-python",
   "name": "python",
   "nbconvert_exporter": "python",
   "pygments_lexer": "ipython2",
   "version": "2.7.6"
  }
 },
 "nbformat": 4,
 "nbformat_minor": 0
}