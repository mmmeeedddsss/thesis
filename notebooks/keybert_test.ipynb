{
 "cells": [
  {
   "cell_type": "code",
   "execution_count": 5,
   "metadata": {
    "collapsed": true
   },
   "outputs": [],
   "source": [
    "from keybert import KeyBERT\n",
    "\n",
    "\n",
    "\n",
    "\n",
    "review_text = \"There are countless excellent dramatic stories about people who tried and either succeeded or failed to cross the Iron Curtain to the West. Unfortunately, few films have been made on this topic. Night Crossing is just such a story, not only because of its intrisic worth, but because it was one of the very first to bring the topic to the screen at a time when it was nearly impossible to do so in the West, such was the Communist infiltration at the time of all branches of the mass media (East Germany began in 1945 and it wasn't until 1982 that a film on the topic was made). I was particularly surprised that Disney produced the movie, considering its penchant for fluff; maybe they decided to get back at the Communists in Chile who at that time declared (I am NOT making this up!) that Mickey Mouse was a Fascist.\\n\\nWhat I found particularly well handled in the film was the tediousness involved in the escape process; it took numerous purchases of cloth to make the balloon, numerous sessions of sewing the material together, numerous trials, numerous equipment modifications, yet the tediousness involved in such endeavors does not weigh in on the viewer, though the efforts are mentioned within the film. Two anomalies that I found in the movie: one, the American/British/Canadian measurement of feet and yards and miles in a continent that uses the metric system. The other were the haircuts by the men. If I remember right, such Western haircuts were anathema and Soviet style haircuts were almost mandatory (the same fashion since 1917).\"\n",
    "\n",
    "kw_model = KeyBERT()\n",
    "keywords = kw_model.extract_keywords(review_text)"
   ]
  },
  {
   "cell_type": "code",
   "execution_count": 6,
   "outputs": [
    {
     "name": "stdout",
     "output_type": "stream",
     "text": [
      "There are countless excellent dramatic stories about people who tried and either succeeded or failed to cross the Iron Curtain to the West. Unfortunately, few films have been made on this topic. Night Crossing is just such a story, not only because of its intrisic worth, but because it was one of the very first to bring the topic to the screen at a time when it was nearly impossible to do so in the West, such was the Communist infiltration at the time of all branches of the mass media (East Germany began in 1945 and it wasn't until 1982 that a film on the topic was made). I was particularly surprised that Disney produced the movie, considering its penchant for fluff; maybe they decided to get back at the Communists in Chile who at that time declared (I am NOT making this up!) that Mickey Mouse was a Fascist.\n",
      "\n",
      "What I found particularly well handled in the film was the tediousness involved in the escape process; it took numerous purchases of cloth to make the balloon, numerous sessions of sewing the material together, numerous trials, numerous equipment modifications, yet the tediousness involved in such endeavors does not weigh in on the viewer, though the efforts are mentioned within the film. Two anomalies that I found in the movie: one, the American/British/Canadian measurement of feet and yards and miles in a continent that uses the metric system. The other were the haircuts by the men. If I remember right, such Western haircuts were anathema and Soviet style haircuts were almost mandatory (the same fashion since 1917).\n"
     ]
    }
   ],
   "source": [
    "print(review_text)\n"
   ],
   "metadata": {
    "collapsed": false,
    "pycharm": {
     "name": "#%%\n"
    }
   }
  },
  {
   "cell_type": "code",
   "execution_count": 7,
   "outputs": [
    {
     "name": "stdout",
     "output_type": "stream",
     "text": [
      "[('tediousness', 0.1228), ('fascist', 0.1139), ('germany', 0.107), ('communist', 0.0824), ('1945', 0.0769)]\n"
     ]
    }
   ],
   "source": [
    "print(keywords)"
   ],
   "metadata": {
    "collapsed": false,
    "pycharm": {
     "name": "#%%\n"
    }
   }
  },
  {
   "cell_type": "code",
   "execution_count": null,
   "outputs": [],
   "source": [],
   "metadata": {
    "collapsed": false,
    "pycharm": {
     "name": "#%%\n"
    }
   }
  }
 ],
 "metadata": {
  "kernelspec": {
   "display_name": "Python 3",
   "language": "python",
   "name": "python3"
  },
  "language_info": {
   "codemirror_mode": {
    "name": "ipython",
    "version": 2
   },
   "file_extension": ".py",
   "mimetype": "text/x-python",
   "name": "python",
   "nbconvert_exporter": "python",
   "pygments_lexer": "ipython2",
   "version": "2.7.6"
  }
 },
 "nbformat": 4,
 "nbformat_minor": 0
}