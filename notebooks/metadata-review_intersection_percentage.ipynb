{
 "cells": [
  {
   "cell_type": "code",
   "execution_count": 1,
   "metadata": {
    "collapsed": true
   },
   "outputs": [
    {
     "name": "stderr",
     "output_type": "stream",
     "text": [
      "[nltk_data] Downloading package wordnet to\n",
      "[nltk_data]     /Users/mert.tunc/nltk_data...\n",
      "[nltk_data]   Package wordnet is already up-to-date!\n"
     ]
    },
    {
     "name": "stdout",
     "output_type": "stream",
     "text": [
      "/Users/mert.tunc/Code/ceng/thesis/dataset/amazon/meta_Digital_Music.json\n",
      "      category                                        description  \\\n",
      "9           []                                                [.]   \n",
      "10          []  [The Music Connection by Silver Burdett Ginn i...   \n",
      "12          []  [Spanish Before You Know It - Gold Edition. Le...   \n",
      "13          []  [Just the CD. The Book has long since vanished...   \n",
      "15          []  [The KING JAMES BIBLE is part of our deepest c...   \n",
      "...        ...                                                ...   \n",
      "74331       []  [Pianist and composer Anton Batagov is one of ...   \n",
      "74338       []  [Coldplay A HEAD FULL OF DREAMS TOUR Live at E...   \n",
      "74339       []  [only KNOWN LIVE VERSIONS OF THATS THE WAY LIF...   \n",
      "74342       []  [1. \"Free At Last\" Southside 1:21 2. \"Never Go...   \n",
      "74346       []  [album 2016: 01.Autogram 02.Dobrotvorne svrhe ...   \n",
      "\n",
      "                                                   title  \\\n",
      "9                      Sing &amp; Play Swamp Stomp Music   \n",
      "10                    The Music Connection Grade 3, CD 7   \n",
      "12             Spanish Before You Know It - Gold Edition   \n",
      "13                                 Puff the Magic Dragon   \n",
      "15                                           Speak To Me   \n",
      "...                                                  ...   \n",
      "74331                          Philip Glass - Prophecies   \n",
      "74338  <span class=\"a-size-medium a-color-secondary a...   \n",
      "74339                                    TEXAS TOUR 1993   \n",
      "74342                         FUTURE PRESENTS: 56 NIGHTS   \n",
      "74346  CD Svetlana Ceca Raznatovic New Album 2016 Aut...   \n",
      "\n",
      "                                                  brand  \\\n",
      "9      Totally Catholic Summer Program - Crocodile Dock   \n",
      "10                                  Silver Burdett Ginn   \n",
      "12                                 Transparent Language   \n",
      "13                                                        \n",
      "15                                          David Teems   \n",
      "...                                                 ...   \n",
      "74331                                     Anton Batagov   \n",
      "74338                                          Coldplay   \n",
      "74339                                       THE OUTLAWS   \n",
      "74342                                            FUTURE   \n",
      "74346                          Svetlana Ceca Raznatovic   \n",
      "\n",
      "                                 rank        asin  \\\n",
      "9            774,772 in CDs & Vinyl (  0159024684   \n",
      "10           694,369 in CDs & Vinyl (  0382262921   \n",
      "12     1,153,345 in CDs &amp; Vinyl (  0545069882   \n",
      "13       242,922 in CDs &amp; Vinyl (  0545109620   \n",
      "15       506,806 in CDs &amp; Vinyl (  0578077698   \n",
      "...                               ...         ...   \n",
      "74331        196,423 in CDs & Vinyl (  B01HDRMCXK   \n",
      "74338        671,226 in CDs & Vinyl (  B01HH5R7LK   \n",
      "74339        325,681 in CDs & Vinyl (  B01HH68B96   \n",
      "74342        695,581 in CDs & Vinyl (  B01HH7D5KU   \n",
      "74346        159,741 in CDs & Vinyl (  B01HIT3KZC   \n",
      "\n",
      "                                         imageURLHighRes  \\\n",
      "9      [https://images-na.ssl-images-amazon.com/image...   \n",
      "10     [https://images-na.ssl-images-amazon.com/image...   \n",
      "12     [https://images-na.ssl-images-amazon.com/image...   \n",
      "13     [https://images-na.ssl-images-amazon.com/image...   \n",
      "15     [https://images-na.ssl-images-amazon.com/image...   \n",
      "...                                                  ...   \n",
      "74331  [https://images-na.ssl-images-amazon.com/image...   \n",
      "74338  [https://images-na.ssl-images-amazon.com/image...   \n",
      "74339  [https://images-na.ssl-images-amazon.com/image...   \n",
      "74342  [https://images-na.ssl-images-amazon.com/image...   \n",
      "74346  [https://images-na.ssl-images-amazon.com/image...   \n",
      "\n",
      "                                                 details  \n",
      "9                                                    NaN  \n",
      "10                                                   NaN  \n",
      "12                                                   NaN  \n",
      "13                                                   NaN  \n",
      "15                                                   NaN  \n",
      "...                                                  ...  \n",
      "74331  {'Audio CD': '(August 26, 2016)', 'Number of D...  \n",
      "74338  {'Original Release Date:': '2016', 'Number of ...  \n",
      "74339  {'Label:': 'HT AUDIO LLC', 'ASIN:': 'B01HH68B96'}  \n",
      "74342           {'Label:': 'FBG', 'ASIN:': 'B01HH7D5KU'}  \n",
      "74346   {'Number of Discs:': '1', 'ASIN:': 'B01HIT3KZC'}  \n",
      "\n",
      "[11268 rows x 8 columns]\n",
      "             reviewerID        asin           reviewerName  verified  \\\n",
      "0        A1H1DL4K669VQ9  0001393774        Judith Paladino      True   \n",
      "1        A3V5XBBT7OZG5G  0001393774                 gflady      True   \n",
      "2        A3SNL7UJY7GWBI  0001393774       Lady Leatherneck      True   \n",
      "3        A3478QRKQDOPQ2  0001393774                  jacki      True   \n",
      "4        A23M5VTSN2C3H1  0001393774                Caliope      True   \n",
      "...                 ...         ...                    ...       ...   \n",
      "1443750  A30ZM19J0CNAGJ  B01HJDG28E  Reggie: a music lover      True   \n",
      "1443751   APXJ8QC63EG38  B01HJG3VZI         Steven Schubak      True   \n",
      "1443752   A5HIGHKQPINEO  B01HJG3VZI                   Oman      True   \n",
      "1443753  A1B26TNQEWHQ4K  B01HJG3VZI      David W. Barsness      True   \n",
      "1443754  A1KCWOF28NPM3M  B01HJG3VZI               Peter G.      True   \n",
      "\n",
      "                                                reviewText  overall  \\\n",
      "0                                 Love it!!  Great seller!        5   \n",
      "1        One of my very favourite albums from one of my...        5   \n",
      "2        THank you Jesus Lord God, that brother Green's...        5   \n",
      "3        I recall loving his other albums and maybe thi...        5   \n",
      "4        Keith Green was a pioneer in the field of Chri...        5   \n",
      "...                                                    ...      ...   \n",
      "1443750  Night Hawk is ten outstanding new recordings o...        5   \n",
      "1443751                                                 ok        3   \n",
      "1443752  Great music great sound love the music lots of...        5   \n",
      "1443753                      Really good fun quality stuff        5   \n",
      "1443754  Great 5 LP by The Guess Who, love all these al...        5   \n",
      "\n",
      "          reviewTime                                            summary  \\\n",
      "0        04 29, 2016                                         Five Stars   \n",
      "1        02 23, 2016  One of my very favourite albums from one of my...   \n",
      "2        02 11, 2016                                         Five Stars   \n",
      "3        11 28, 2015  forgot but I figured on some of these artists ...   \n",
      "4        12 16, 2014                and I have loved every album he did   \n",
      "...              ...                                                ...   \n",
      "1443750  12 31, 2016  My favorite cut is the cover of \"(Ghost) Rider...   \n",
      "1443751  07 25, 2018                                        Three Stars   \n",
      "1443752  07 17, 2018               The sound quality and number of hits   \n",
      "1443753  06 23, 2018                                               5fer   \n",
      "1443754   11 4, 2017                                  Guess Who 5 Pack!   \n",
      "\n",
      "         unixReviewTime                     style vote image  \n",
      "0            1461888000                       NaN  NaN   NaN  \n",
      "1            1456185600                       NaN  NaN   NaN  \n",
      "2            1455148800                       NaN  NaN   NaN  \n",
      "3            1448668800                       NaN  NaN   NaN  \n",
      "4            1418688000                       NaN  NaN   NaN  \n",
      "...                 ...                       ...  ...   ...  \n",
      "1443750      1483142400  {'Format:': ' Audio CD'}  NaN   NaN  \n",
      "1443751      1532476800  {'Format:': ' Audio CD'}  NaN   NaN  \n",
      "1443752      1531785600  {'Format:': ' Audio CD'}  NaN   NaN  \n",
      "1443753      1529712000  {'Format:': ' Audio CD'}  NaN   NaN  \n",
      "1443754      1509753600  {'Format:': ' Audio CD'}  NaN   NaN  \n",
      "\n",
      "[1443755 rows x 12 columns]\n"
     ]
    },
    {
     "data": {
      "text/plain": "                 userID      itemID  \\\n0        A1H1DL4K669VQ9  0001393774   \n1        A3V5XBBT7OZG5G  0001393774   \n2        A3SNL7UJY7GWBI  0001393774   \n3        A3478QRKQDOPQ2  0001393774   \n4        A23M5VTSN2C3H1  0001393774   \n...                 ...         ...   \n1443750  A30ZM19J0CNAGJ  B01HJDG28E   \n1443751   APXJ8QC63EG38  B01HJG3VZI   \n1443752   A5HIGHKQPINEO  B01HJG3VZI   \n1443753  A1B26TNQEWHQ4K  B01HJG3VZI   \n1443754  A1KCWOF28NPM3M  B01HJG3VZI   \n\n                                                    review  rating  \\\n0                                 Love it!!  Great seller!       5   \n1        One of my very favourite albums from one of my...       5   \n2        THank you Jesus Lord God, that brother Green's...       5   \n3        I recall loving his other albums and maybe thi...       5   \n4        Keith Green was a pioneer in the field of Chri...       5   \n...                                                    ...     ...   \n1443750  Night Hawk is ten outstanding new recordings o...       5   \n1443751                                                 ok       3   \n1443752  Great music great sound love the music lots of...       5   \n1443753                      Really good fun quality stuff       5   \n1443754  Great 5 LP by The Guess Who, love all these al...       5   \n\n                            style vote image  \n0                             NaN  NaN   NaN  \n1                             NaN  NaN   NaN  \n2                             NaN  NaN   NaN  \n3                             NaN  NaN   NaN  \n4                             NaN  NaN   NaN  \n...                           ...  ...   ...  \n1443750  {'Format:': ' Audio CD'}  NaN   NaN  \n1443751  {'Format:': ' Audio CD'}  NaN   NaN  \n1443752  {'Format:': ' Audio CD'}  NaN   NaN  \n1443753  {'Format:': ' Audio CD'}  NaN   NaN  \n1443754  {'Format:': ' Audio CD'}  NaN   NaN  \n\n[1443475 rows x 7 columns]",
      "text/html": "<div>\n<style scoped>\n    .dataframe tbody tr th:only-of-type {\n        vertical-align: middle;\n    }\n\n    .dataframe tbody tr th {\n        vertical-align: top;\n    }\n\n    .dataframe thead th {\n        text-align: right;\n    }\n</style>\n<table border=\"1\" class=\"dataframe\">\n  <thead>\n    <tr style=\"text-align: right;\">\n      <th></th>\n      <th>userID</th>\n      <th>itemID</th>\n      <th>review</th>\n      <th>rating</th>\n      <th>style</th>\n      <th>vote</th>\n      <th>image</th>\n    </tr>\n  </thead>\n  <tbody>\n    <tr>\n      <th>0</th>\n      <td>A1H1DL4K669VQ9</td>\n      <td>0001393774</td>\n      <td>Love it!!  Great seller!</td>\n      <td>5</td>\n      <td>NaN</td>\n      <td>NaN</td>\n      <td>NaN</td>\n    </tr>\n    <tr>\n      <th>1</th>\n      <td>A3V5XBBT7OZG5G</td>\n      <td>0001393774</td>\n      <td>One of my very favourite albums from one of my...</td>\n      <td>5</td>\n      <td>NaN</td>\n      <td>NaN</td>\n      <td>NaN</td>\n    </tr>\n    <tr>\n      <th>2</th>\n      <td>A3SNL7UJY7GWBI</td>\n      <td>0001393774</td>\n      <td>THank you Jesus Lord God, that brother Green's...</td>\n      <td>5</td>\n      <td>NaN</td>\n      <td>NaN</td>\n      <td>NaN</td>\n    </tr>\n    <tr>\n      <th>3</th>\n      <td>A3478QRKQDOPQ2</td>\n      <td>0001393774</td>\n      <td>I recall loving his other albums and maybe thi...</td>\n      <td>5</td>\n      <td>NaN</td>\n      <td>NaN</td>\n      <td>NaN</td>\n    </tr>\n    <tr>\n      <th>4</th>\n      <td>A23M5VTSN2C3H1</td>\n      <td>0001393774</td>\n      <td>Keith Green was a pioneer in the field of Chri...</td>\n      <td>5</td>\n      <td>NaN</td>\n      <td>NaN</td>\n      <td>NaN</td>\n    </tr>\n    <tr>\n      <th>...</th>\n      <td>...</td>\n      <td>...</td>\n      <td>...</td>\n      <td>...</td>\n      <td>...</td>\n      <td>...</td>\n      <td>...</td>\n    </tr>\n    <tr>\n      <th>1443750</th>\n      <td>A30ZM19J0CNAGJ</td>\n      <td>B01HJDG28E</td>\n      <td>Night Hawk is ten outstanding new recordings o...</td>\n      <td>5</td>\n      <td>{'Format:': ' Audio CD'}</td>\n      <td>NaN</td>\n      <td>NaN</td>\n    </tr>\n    <tr>\n      <th>1443751</th>\n      <td>APXJ8QC63EG38</td>\n      <td>B01HJG3VZI</td>\n      <td>ok</td>\n      <td>3</td>\n      <td>{'Format:': ' Audio CD'}</td>\n      <td>NaN</td>\n      <td>NaN</td>\n    </tr>\n    <tr>\n      <th>1443752</th>\n      <td>A5HIGHKQPINEO</td>\n      <td>B01HJG3VZI</td>\n      <td>Great music great sound love the music lots of...</td>\n      <td>5</td>\n      <td>{'Format:': ' Audio CD'}</td>\n      <td>NaN</td>\n      <td>NaN</td>\n    </tr>\n    <tr>\n      <th>1443753</th>\n      <td>A1B26TNQEWHQ4K</td>\n      <td>B01HJG3VZI</td>\n      <td>Really good fun quality stuff</td>\n      <td>5</td>\n      <td>{'Format:': ' Audio CD'}</td>\n      <td>NaN</td>\n      <td>NaN</td>\n    </tr>\n    <tr>\n      <th>1443754</th>\n      <td>A1KCWOF28NPM3M</td>\n      <td>B01HJG3VZI</td>\n      <td>Great 5 LP by The Guess Who, love all these al...</td>\n      <td>5</td>\n      <td>{'Format:': ' Audio CD'}</td>\n      <td>NaN</td>\n      <td>NaN</td>\n    </tr>\n  </tbody>\n</table>\n<p>1443475 rows × 7 columns</p>\n</div>"
     },
     "execution_count": 1,
     "metadata": {},
     "output_type": "execute_result"
    }
   ],
   "source": [
    "from dataset.amazon.loader import AmazonDatasetLoader\n",
    "from user_study.metadata import MetadataLoader\n",
    "amazon_dataloader = AmazonDatasetLoader()\n",
    "\n",
    "reviews_df = amazon_dataloader.get_pandas_df()\n",
    "reviews_df"
   ]
  },
  {
   "cell_type": "code",
   "execution_count": 2,
   "outputs": [
    {
     "data": {
      "text/plain": "73713"
     },
     "execution_count": 2,
     "metadata": {},
     "output_type": "execute_result"
    }
   ],
   "source": [
    "review_set = set(reviews_df.loc[:,\"itemID\"])\n",
    "len(review_set)"
   ],
   "metadata": {
    "collapsed": false,
    "pycharm": {
     "name": "#%%\n"
    }
   }
  },
  {
   "cell_type": "code",
   "execution_count": 3,
   "outputs": [
    {
     "name": "stdout",
     "output_type": "stream",
     "text": [
      "/Users/mert.tunc/Code/ceng/thesis/dataset/amazon/meta_CDs_and_Vinyl.json\n",
      "                                          category  \\\n",
      "23              [CDs & Vinyl, New Age, Meditation]   \n",
      "25            [CDs & Vinyl, Christian, Children's]   \n",
      "27      [CDs & Vinyl, Children's Music, Lullabies]   \n",
      "44              [CDs & Vinyl, New Age, Meditation]   \n",
      "48                   [CDs & Vinyl, Pop, Vocal Pop]   \n",
      "...                                            ...   \n",
      "516907       [CDs & Vinyl, Folk, Traditional Folk]   \n",
      "516910                      [CDs & Vinyl, Country]   \n",
      "516911               [CDs & Vinyl, Pop, Vocal Pop]   \n",
      "516912                          [CDs & Vinyl, Pop]   \n",
      "516913                          [CDs & Vinyl, Pop]   \n",
      "\n",
      "                                              description  \\\n",
      "23      [Meditation for Success by Michael Midkiff ena...   \n",
      "25      [No artists specified on back inlay. Songs are...   \n",
      "27      [12 Greatest Hits created for little ears, to ...   \n",
      "44      [Devotional chants from Cosmic Chants by Param...   \n",
      "48      [Joined by several thousand voices in an outpo...   \n",
      "...                                                   ...   \n",
      "516907  [Reissue. 2016 release. The O'Reillys And The ...   \n",
      "516910                 [CHARLIE DANIELS - NIGHTHAWK - CD]   \n",
      "516911  [Five CD set containing a quintet of albums by...   \n",
      "516912  [2016 five CD set containing a quintet of orig...   \n",
      "516913  [2016 album by US-born Australian singer-songw...   \n",
      "\n",
      "                                                    title  \\\n",
      "23      <span class=\"a-size-medium a-color-secondary a...   \n",
      "25                                       Music Makers 1.1   \n",
      "27                                      Rock'in Lullabies   \n",
      "44      I Will Be Thine Always: Devotional Chants from...   \n",
      "48      Light the Lamp of Thy Love: Devotional Chantin...   \n",
      "...                                                   ...   \n",
      "516907                            Seven Hearts - One Soul   \n",
      "516910                                         Night Hawk   \n",
      "516911                            Original Album Classics   \n",
      "516912                            Original Album Classics   \n",
      "516913                                          Americana   \n",
      "\n",
      "                                      brand                        rank  \\\n",
      "23                          Michael Midkiff  2,026,582 in CDs & Vinyl (   \n",
      "25                  Children's Music Series  1,294,384 in CDs & Vinyl (   \n",
      "27                              Baby Basics    687,970 in CDs & Vinyl (   \n",
      "44       Nuns of the Self-Realization Order    231,446 in CDs & Vinyl (   \n",
      "48      Nuns of Self-Realization Fellowship    367,000 in CDs & Vinyl (   \n",
      "...                                     ...                         ...   \n",
      "516907                O'reillys / PADDYHATS     77,971 in CDs & Vinyl (   \n",
      "516910                 Charlie Daniels Band     68,288 in CDs & Vinyl (   \n",
      "516911                       Dionne Warwick     69,386 in CDs & Vinyl (   \n",
      "516912                        The Guess Who      1,795 in CDs & Vinyl (   \n",
      "516913                               DIESEL  1,759,107 in CDs & Vinyl (   \n",
      "\n",
      "              asin                                    imageURLHighRes  \\\n",
      "23      0615205399  [https://images-na.ssl-images-amazon.com/image...   \n",
      "25      0633199028  [https://images-na.ssl-images-amazon.com/image...   \n",
      "27      0741304066  [https://images-na.ssl-images-amazon.com/image...   \n",
      "44      0876124961  [https://images-na.ssl-images-amazon.com/image...   \n",
      "48      0876125771  [https://images-na.ssl-images-amazon.com/image...   \n",
      "...            ...                                                ...   \n",
      "516907  B01HJ1IHHU  [https://images-na.ssl-images-amazon.com/image...   \n",
      "516910  B01HJDG28E  [https://images-na.ssl-images-amazon.com/image...   \n",
      "516911  B01HJG3UQI  [https://images-na.ssl-images-amazon.com/image...   \n",
      "516912  B01HJG3VZI  [https://images-na.ssl-images-amazon.com/image...   \n",
      "516913  B01HJHLNIY  [https://images-na.ssl-images-amazon.com/image...   \n",
      "\n",
      "                                                  details  \n",
      "23                                                    NaN  \n",
      "25                                                    NaN  \n",
      "27                                                    NaN  \n",
      "44                                                    NaN  \n",
      "48                                                    NaN  \n",
      "...                                                   ...  \n",
      "516907  {'Audio CD': '(July 7, 2017)', 'Number of Disc...  \n",
      "516910  {'Audio CD': '(August 26, 2016)', 'Original Re...  \n",
      "516911  {'Audio CD': '(September 9, 2016)', 'Original ...  \n",
      "516912  {'Audio CD': '(September 9, 2016)', 'Original ...  \n",
      "516913  {'Audio CD': '(July 1, 2016)', 'Number of Disc...  \n",
      "\n",
      "[111390 rows x 8 columns]\n"
     ]
    },
    {
     "data": {
      "text/plain": "93167"
     },
     "execution_count": 3,
     "metadata": {},
     "output_type": "execute_result"
    }
   ],
   "source": [
    "metadata_set = set(MetadataLoader('meta_CDs_and_Vinyl.json').df.loc[:, \"asin\"])\n",
    "len(metadata_set)"
   ],
   "metadata": {
    "collapsed": false,
    "pycharm": {
     "name": "#%%\n"
    }
   }
  },
  {
   "cell_type": "code",
   "execution_count": 4,
   "outputs": [
    {
     "name": "stdout",
     "output_type": "stream",
     "text": [
      "Intersection:  24740\n",
      "Metadata/Review:  68427\n",
      "Review/Metadata 48973\n"
     ]
    }
   ],
   "source": [
    "l = len(review_set.intersection(metadata_set))\n",
    "print('Intersection: ', l)\n",
    "print('Metadata/Review: ', len(metadata_set) - l)\n",
    "print('Review/Metadata', len(review_set) - l)\n"
   ],
   "metadata": {
    "collapsed": false,
    "pycharm": {
     "name": "#%%\n"
    }
   }
  }
 ],
 "metadata": {
  "kernelspec": {
   "display_name": "Python 3",
   "language": "python",
   "name": "python3"
  },
  "language_info": {
   "codemirror_mode": {
    "name": "ipython",
    "version": 2
   },
   "file_extension": ".py",
   "mimetype": "text/x-python",
   "name": "python",
   "nbconvert_exporter": "python",
   "pygments_lexer": "ipython2",
   "version": "2.7.6"
  }
 },
 "nbformat": 4,
 "nbformat_minor": 0
}