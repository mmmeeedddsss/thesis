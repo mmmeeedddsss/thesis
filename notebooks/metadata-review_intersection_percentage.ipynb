{
 "cells": [
  {
   "cell_type": "code",
   "execution_count": 1,
   "metadata": {
    "collapsed": true
   },
   "outputs": [
    {
     "name": "stderr",
     "output_type": "stream",
     "text": [
      "[nltk_data] Downloading package wordnet to\n",
      "[nltk_data]     /Users/mert.tunc/nltk_data...\n",
      "[nltk_data]   Package wordnet is already up-to-date!\n"
     ]
    },
    {
     "name": "stdout",
     "output_type": "stream",
     "text": [
      "/Users/mert.tunc/Code/ceng/thesis/dataset/amazon/meta_Digital_Music.json\n",
      "      category                                        description  \\\n",
      "9           []                                                [.]   \n",
      "10          []  [The Music Connection by Silver Burdett Ginn i...   \n",
      "12          []  [Spanish Before You Know It - Gold Edition. Le...   \n",
      "13          []  [Just the CD. The Book has long since vanished...   \n",
      "15          []  [The KING JAMES BIBLE is part of our deepest c...   \n",
      "...        ...                                                ...   \n",
      "74331       []  [Pianist and composer Anton Batagov is one of ...   \n",
      "74338       []  [Coldplay A HEAD FULL OF DREAMS TOUR Live at E...   \n",
      "74339       []  [only KNOWN LIVE VERSIONS OF THATS THE WAY LIF...   \n",
      "74342       []  [1. \"Free At Last\" Southside 1:21 2. \"Never Go...   \n",
      "74346       []  [album 2016: 01.Autogram 02.Dobrotvorne svrhe ...   \n",
      "\n",
      "                                                   title  \\\n",
      "9                      Sing &amp; Play Swamp Stomp Music   \n",
      "10                    The Music Connection Grade 3, CD 7   \n",
      "12             Spanish Before You Know It - Gold Edition   \n",
      "13                                 Puff the Magic Dragon   \n",
      "15                                           Speak To Me   \n",
      "...                                                  ...   \n",
      "74331                          Philip Glass - Prophecies   \n",
      "74338  <span class=\"a-size-medium a-color-secondary a...   \n",
      "74339                                    TEXAS TOUR 1993   \n",
      "74342                         FUTURE PRESENTS: 56 NIGHTS   \n",
      "74346  CD Svetlana Ceca Raznatovic New Album 2016 Aut...   \n",
      "\n",
      "                                                  brand  \\\n",
      "9      Totally Catholic Summer Program - Crocodile Dock   \n",
      "10                                  Silver Burdett Ginn   \n",
      "12                                 Transparent Language   \n",
      "13                                                        \n",
      "15                                          David Teems   \n",
      "...                                                 ...   \n",
      "74331                                     Anton Batagov   \n",
      "74338                                          Coldplay   \n",
      "74339                                       THE OUTLAWS   \n",
      "74342                                            FUTURE   \n",
      "74346                          Svetlana Ceca Raznatovic   \n",
      "\n",
      "                                 rank        asin  \\\n",
      "9            774,772 in CDs & Vinyl (  0159024684   \n",
      "10           694,369 in CDs & Vinyl (  0382262921   \n",
      "12     1,153,345 in CDs &amp; Vinyl (  0545069882   \n",
      "13       242,922 in CDs &amp; Vinyl (  0545109620   \n",
      "15       506,806 in CDs &amp; Vinyl (  0578077698   \n",
      "...                               ...         ...   \n",
      "74331        196,423 in CDs & Vinyl (  B01HDRMCXK   \n",
      "74338        671,226 in CDs & Vinyl (  B01HH5R7LK   \n",
      "74339        325,681 in CDs & Vinyl (  B01HH68B96   \n",
      "74342        695,581 in CDs & Vinyl (  B01HH7D5KU   \n",
      "74346        159,741 in CDs & Vinyl (  B01HIT3KZC   \n",
      "\n",
      "                                         imageURLHighRes  \\\n",
      "9      [https://images-na.ssl-images-amazon.com/image...   \n",
      "10     [https://images-na.ssl-images-amazon.com/image...   \n",
      "12     [https://images-na.ssl-images-amazon.com/image...   \n",
      "13     [https://images-na.ssl-images-amazon.com/image...   \n",
      "15     [https://images-na.ssl-images-amazon.com/image...   \n",
      "...                                                  ...   \n",
      "74331  [https://images-na.ssl-images-amazon.com/image...   \n",
      "74338  [https://images-na.ssl-images-amazon.com/image...   \n",
      "74339  [https://images-na.ssl-images-amazon.com/image...   \n",
      "74342  [https://images-na.ssl-images-amazon.com/image...   \n",
      "74346  [https://images-na.ssl-images-amazon.com/image...   \n",
      "\n",
      "                                                 details  \n",
      "9                                                    NaN  \n",
      "10                                                   NaN  \n",
      "12                                                   NaN  \n",
      "13                                                   NaN  \n",
      "15                                                   NaN  \n",
      "...                                                  ...  \n",
      "74331  {'Audio CD': '(August 26, 2016)', 'Number of D...  \n",
      "74338  {'Original Release Date:': '2016', 'Number of ...  \n",
      "74339  {'Label:': 'HT AUDIO LLC', 'ASIN:': 'B01HH68B96'}  \n",
      "74342           {'Label:': 'FBG', 'ASIN:': 'B01HH7D5KU'}  \n",
      "74346   {'Number of Discs:': '1', 'ASIN:': 'B01HIT3KZC'}  \n",
      "\n",
      "[11268 rows x 8 columns]\n"
     ]
    },
    {
     "data": {
      "text/plain": "        rating  vote          userID      itemID                      style  \\\n0            5   3.0  A2TYZ821XXK2YZ  3426958910   {'Format:': ' Audio CD'}   \n1            5   NaN  A3OFSREZADFUDY  3426958910   {'Format:': ' Audio CD'}   \n2            5   NaN  A2VAMODP8M77NG  3426958910   {'Format:': ' Audio CD'}   \n3            4   3.0   AAKSLZ9IDTEH0  3426958910   {'Format:': ' Audio CD'}   \n4            5   NaN  A3OH43OZJLKI09  5557706259   {'Format:': ' Audio CD'}   \n...        ...   ...             ...         ...                        ...   \n169776       5   NaN  A1SR2T84IXOMAQ  B01HJ91MTW  {'Format:': ' MP3 Music'}   \n169777       5   NaN  A2SR3DWJR1PYR6  B01HJ91MTW  {'Format:': ' MP3 Music'}   \n169778       5   NaN  A24V7X30NIMOIY  B01HJ91MTW  {'Format:': ' MP3 Music'}   \n169779       5   NaN  A1LW10GYP2EYM1  B01HJ91MTW  {'Format:': ' MP3 Music'}   \n169780       5   NaN  A26TH3YW0QWPI7  B01HJ91MTW  {'Format:': ' MP3 Music'}   \n\n                                                   review image  \\\n0       this is awesome to listen to a must have for a...   NaN   \n1                                                    bien   NaN   \n2       it was great to hear the old stuff again and i...   NaN   \n3       well best of s are a bit poison normally but t...   NaN   \n4       what can i say this is casting crowns this is ...   NaN   \n...                                                   ...   ...   \n169776             casting crowns songs are all wonderful   NaN   \n169777          just reminds you that you are never alone   NaN   \n169778                          good product good service   NaN   \n169779  i love every single song this group sings they...   NaN   \n169780                                         great song   NaN   \n\n                          topics_KeyBERTExtractor_1-2gram  \\\n0       [(listen slayer, 0.6384), (slayer fans, 0.5982...   \n1                                           [(bien, 1.0)]   \n2       [(recommend slayer, 0.6193), (slayer fan, 0.55...   \n3       [(cd greatest, 0.4289), (tracks worse, 0.421),...   \n4       [(casting crowns, 0.7523), (crowns, 0.634), (c...   \n...                                                   ...   \n169776  [(casting crowns, 0.7734), (crowns songs, 0.76...   \n169777  [(just reminds, 0.5702), (reminds, 0.4461), (j...   \n169778  [(good service, 0.8162), (good product, 0.6955...   \n169779  [(praise song, 0.6362), (song group, 0.5653), ...   \n169780  [(great song, 1.0), (song, 0.7158), (great, 0....   \n\n                             topics_YakeExtractor_1-2gram  \\\n0       [(slayer fans, 0.013527995261974615), (fans sa...   \n1                           [(bien, 0.04491197687864554)]   \n2       [(slayer fan, 0.021567786782198985), (fan, 0.1...   \n3       [(hell await, 0.008932087041096813), (couple m...   \n4       [(casting crowns, 0.02570861714399338), (good ...   \n...                                                   ...   \n169776  [(casting crowns, 0.04940384002065631), (crown...   \n169777                   [(reminds, 0.15831692877998726)]   \n169778  [(good service, 0.035552851931764155), (good p...   \n169779  [(group sings, 0.03346752176983843), (gods chi...   \n169780  [(great song, 0.02570861714399338), (great, 0....   \n\n                                    topics_tfidfExtractor  \n0       [(awesome, 0.747808887564659), (listen, 0.6639...  \n1                                                      []  \n2       [(fan, 0.43822935289547155), (recommend, 0.436...  \n3       [(track, 0.4691617632862605), (cd, 0.428001514...  \n4       [(say, 0.6558348037485904), (cd, 0.62383989693...  \n...                                                   ...  \n169776  [(wonderful, 0.8369439633991801), (songs, 0.54...  \n169777                                      [(just, 1.0)]  \n169778                                      [(good, 1.0)]  \n169779                                 [(beautiful, 1.0)]  \n169780                                                 []  \n\n[169623 rows x 10 columns]",
      "text/html": "<div>\n<style scoped>\n    .dataframe tbody tr th:only-of-type {\n        vertical-align: middle;\n    }\n\n    .dataframe tbody tr th {\n        vertical-align: top;\n    }\n\n    .dataframe thead th {\n        text-align: right;\n    }\n</style>\n<table border=\"1\" class=\"dataframe\">\n  <thead>\n    <tr style=\"text-align: right;\">\n      <th></th>\n      <th>rating</th>\n      <th>vote</th>\n      <th>userID</th>\n      <th>itemID</th>\n      <th>style</th>\n      <th>review</th>\n      <th>image</th>\n      <th>topics_KeyBERTExtractor_1-2gram</th>\n      <th>topics_YakeExtractor_1-2gram</th>\n      <th>topics_tfidfExtractor</th>\n    </tr>\n  </thead>\n  <tbody>\n    <tr>\n      <th>0</th>\n      <td>5</td>\n      <td>3.0</td>\n      <td>A2TYZ821XXK2YZ</td>\n      <td>3426958910</td>\n      <td>{'Format:': ' Audio CD'}</td>\n      <td>this is awesome to listen to a must have for a...</td>\n      <td>NaN</td>\n      <td>[(listen slayer, 0.6384), (slayer fans, 0.5982...</td>\n      <td>[(slayer fans, 0.013527995261974615), (fans sa...</td>\n      <td>[(awesome, 0.747808887564659), (listen, 0.6639...</td>\n    </tr>\n    <tr>\n      <th>1</th>\n      <td>5</td>\n      <td>NaN</td>\n      <td>A3OFSREZADFUDY</td>\n      <td>3426958910</td>\n      <td>{'Format:': ' Audio CD'}</td>\n      <td>bien</td>\n      <td>NaN</td>\n      <td>[(bien, 1.0)]</td>\n      <td>[(bien, 0.04491197687864554)]</td>\n      <td>[]</td>\n    </tr>\n    <tr>\n      <th>2</th>\n      <td>5</td>\n      <td>NaN</td>\n      <td>A2VAMODP8M77NG</td>\n      <td>3426958910</td>\n      <td>{'Format:': ' Audio CD'}</td>\n      <td>it was great to hear the old stuff again and i...</td>\n      <td>NaN</td>\n      <td>[(recommend slayer, 0.6193), (slayer fan, 0.55...</td>\n      <td>[(slayer fan, 0.021567786782198985), (fan, 0.1...</td>\n      <td>[(fan, 0.43822935289547155), (recommend, 0.436...</td>\n    </tr>\n    <tr>\n      <th>3</th>\n      <td>4</td>\n      <td>3.0</td>\n      <td>AAKSLZ9IDTEH0</td>\n      <td>3426958910</td>\n      <td>{'Format:': ' Audio CD'}</td>\n      <td>well best of s are a bit poison normally but t...</td>\n      <td>NaN</td>\n      <td>[(cd greatest, 0.4289), (tracks worse, 0.421),...</td>\n      <td>[(hell await, 0.008932087041096813), (couple m...</td>\n      <td>[(track, 0.4691617632862605), (cd, 0.428001514...</td>\n    </tr>\n    <tr>\n      <th>4</th>\n      <td>5</td>\n      <td>NaN</td>\n      <td>A3OH43OZJLKI09</td>\n      <td>5557706259</td>\n      <td>{'Format:': ' Audio CD'}</td>\n      <td>what can i say this is casting crowns this is ...</td>\n      <td>NaN</td>\n      <td>[(casting crowns, 0.7523), (crowns, 0.634), (c...</td>\n      <td>[(casting crowns, 0.02570861714399338), (good ...</td>\n      <td>[(say, 0.6558348037485904), (cd, 0.62383989693...</td>\n    </tr>\n    <tr>\n      <th>...</th>\n      <td>...</td>\n      <td>...</td>\n      <td>...</td>\n      <td>...</td>\n      <td>...</td>\n      <td>...</td>\n      <td>...</td>\n      <td>...</td>\n      <td>...</td>\n      <td>...</td>\n    </tr>\n    <tr>\n      <th>169776</th>\n      <td>5</td>\n      <td>NaN</td>\n      <td>A1SR2T84IXOMAQ</td>\n      <td>B01HJ91MTW</td>\n      <td>{'Format:': ' MP3 Music'}</td>\n      <td>casting crowns songs are all wonderful</td>\n      <td>NaN</td>\n      <td>[(casting crowns, 0.7734), (crowns songs, 0.76...</td>\n      <td>[(casting crowns, 0.04940384002065631), (crown...</td>\n      <td>[(wonderful, 0.8369439633991801), (songs, 0.54...</td>\n    </tr>\n    <tr>\n      <th>169777</th>\n      <td>5</td>\n      <td>NaN</td>\n      <td>A2SR3DWJR1PYR6</td>\n      <td>B01HJ91MTW</td>\n      <td>{'Format:': ' MP3 Music'}</td>\n      <td>just reminds you that you are never alone</td>\n      <td>NaN</td>\n      <td>[(just reminds, 0.5702), (reminds, 0.4461), (j...</td>\n      <td>[(reminds, 0.15831692877998726)]</td>\n      <td>[(just, 1.0)]</td>\n    </tr>\n    <tr>\n      <th>169778</th>\n      <td>5</td>\n      <td>NaN</td>\n      <td>A24V7X30NIMOIY</td>\n      <td>B01HJ91MTW</td>\n      <td>{'Format:': ' MP3 Music'}</td>\n      <td>good product good service</td>\n      <td>NaN</td>\n      <td>[(good service, 0.8162), (good product, 0.6955...</td>\n      <td>[(good service, 0.035552851931764155), (good p...</td>\n      <td>[(good, 1.0)]</td>\n    </tr>\n    <tr>\n      <th>169779</th>\n      <td>5</td>\n      <td>NaN</td>\n      <td>A1LW10GYP2EYM1</td>\n      <td>B01HJ91MTW</td>\n      <td>{'Format:': ' MP3 Music'}</td>\n      <td>i love every single song this group sings they...</td>\n      <td>NaN</td>\n      <td>[(praise song, 0.6362), (song group, 0.5653), ...</td>\n      <td>[(group sings, 0.03346752176983843), (gods chi...</td>\n      <td>[(beautiful, 1.0)]</td>\n    </tr>\n    <tr>\n      <th>169780</th>\n      <td>5</td>\n      <td>NaN</td>\n      <td>A26TH3YW0QWPI7</td>\n      <td>B01HJ91MTW</td>\n      <td>{'Format:': ' MP3 Music'}</td>\n      <td>great song</td>\n      <td>NaN</td>\n      <td>[(great song, 1.0), (song, 0.7158), (great, 0....</td>\n      <td>[(great song, 0.02570861714399338), (great, 0....</td>\n      <td>[]</td>\n    </tr>\n  </tbody>\n</table>\n<p>169623 rows × 10 columns</p>\n</div>"
     },
     "execution_count": 1,
     "metadata": {},
     "output_type": "execute_result"
    }
   ],
   "source": [
    "from dataset.amazon.loader import AmazonDatasetLoader\n",
    "from user_study.metadata import MetadataLoader, metadata_loader\n",
    "amazon_dataloader = AmazonDatasetLoader()\n",
    "\n",
    "reviews_df = amazon_dataloader.get_processed_pandas_df()[1]\n",
    "reviews_df"
   ]
  },
  {
   "cell_type": "code",
   "execution_count": 2,
   "outputs": [
    {
     "data": {
      "text/plain": "11797"
     },
     "execution_count": 2,
     "metadata": {},
     "output_type": "execute_result"
    }
   ],
   "source": [
    "review_set = set(reviews_df.loc[:,\"itemID\"])\n",
    "len(review_set)"
   ],
   "metadata": {
    "collapsed": false,
    "pycharm": {
     "name": "#%%\n"
    }
   }
  },
  {
   "cell_type": "code",
   "execution_count": 3,
   "outputs": [
    {
     "data": {
      "text/plain": "9787"
     },
     "execution_count": 3,
     "metadata": {},
     "output_type": "execute_result"
    }
   ],
   "source": [
    "metadata_set = set(metadata_loader.df.loc[:, \"asin\"])\n",
    "len(metadata_set)"
   ],
   "metadata": {
    "collapsed": false,
    "pycharm": {
     "name": "#%%\n"
    }
   }
  },
  {
   "cell_type": "code",
   "execution_count": 4,
   "outputs": [
    {
     "name": "stdout",
     "output_type": "stream",
     "text": [
      "Intersection:  46\n",
      "Metadata/Review:  9741\n",
      "Review/Metadata 11751\n"
     ]
    }
   ],
   "source": [
    "l = len(review_set.intersection(metadata_set))\n",
    "print('Intersection: ', l)\n",
    "print('Metadata/Review: ', len(metadata_set) - l)\n",
    "print('Review/Metadata', len(review_set) - l)"
   ],
   "metadata": {
    "collapsed": false,
    "pycharm": {
     "name": "#%%\n"
    }
   }
  },
  {
   "cell_type": "code",
   "execution_count": 5,
   "outputs": [
    {
     "data": {
      "text/plain": "{'B00136NEX0',\n 'B0018CMBMY',\n 'B001NBNR7S',\n 'B004CTBWXO',\n 'B00137MH00',\n 'B002FVKMGE',\n 'B00CMD3RE4',\n 'B00123D00G',\n 'B00TKKKOUM',\n 'B000W11NQ2',\n 'B003MOHXBK',\n 'B00136JCGS',\n 'B005V0VIQY',\n 'B001NAZQPK',\n 'B00CM1NXHC',\n 'B00136JPIS',\n 'B00136NMRI',\n 'B0012UX108',\n 'B0013GH1ZM',\n 'B00AAQU5MM',\n 'B00137KEVO',\n 'B00AOMSQPU',\n 'B00DHMXLUY',\n 'B005UZ0L90',\n 'B003HB7OFS',\n 'B00CZXBA54',\n 'B0091LH1WE',\n 'B0025W8UVW',\n 'B00124B0MA',\n 'B001UQS29E',\n 'B000VO1LC6',\n 'B00BLZNBYA',\n 'B001KEMQFW',\n 'B00O2RCEVA',\n 'B000TDWOAM',\n 'B00L1XWPD0',\n 'B008XCJ0KI',\n 'B002A4VNSC',\n 'B005BIBRVC',\n 'B0013CROI0',\n 'B000W20GLO',\n 'B004AV2JZO',\n 'B00CMBUOJW',\n 'B00138E67G',\n 'B0011DNO12',\n 'B0014JAJYI',\n 'B00YX1GY0M',\n 'B001KWGTRU',\n 'B0011ZTUFO',\n 'B01167GBYO',\n 'B005JCU392',\n 'B00116D4MS',\n 'B01G9RNZXG',\n 'B00136Q5V8',\n 'B00138BJ58',\n 'B002NRW2YK',\n 'B01DHI4S22',\n 'B00C6MQ1S0',\n 'B00136PZ46',\n 'B00JX4PDJ2',\n 'B00137KH3Y',\n 'B00HZW27UM',\n 'B000W1Q010',\n 'B001AXKW9A',\n 'B0052Q3T6E',\n 'B0098HJ11U',\n 'B000W105XO',\n 'B00136PRI0',\n 'B00DH72QZA',\n 'B00LLMJAI4',\n 'B001O3Y7GK',\n 'B00137GDNC',\n 'B00CMIUNXM',\n 'B0186SEARQ',\n 'B00108H3OM',\n 'B0011Z4WT8',\n 'B015GU358W',\n 'B006W9T31K',\n 'B00IXBOM3O',\n 'B00121WWXO',\n 'B000TE54Q2',\n 'B00HZ4N664',\n 'B0014EVOCE',\n 'B0013FUMLI',\n 'B01C9VPMZU',\n 'B00160R70E',\n 'B002TSKCFY',\n 'B00JWNVU9G',\n 'B00UMI9A2Y',\n 'B000TE598U',\n 'B001CDKFYK',\n 'B00137MKC0',\n 'B0014LUQ9Y',\n 'B000VZLQ48',\n 'B0097BO2HK',\n 'B00TAJX7U2',\n 'B001C3FR70',\n 'B00IOMX72Y',\n 'B000WQ6XK8',\n 'B00JGEYCJG',\n 'B0011Z8PU0',\n 'B000VZYF9G',\n 'B000V64O3C',\n 'B00136M210',\n 'B001WB8RNI',\n 'B00330WF7K',\n 'B00122M0D0',\n 'B00CBUNUAO',\n 'B002QU9O4K',\n 'B00168MYM2',\n 'B00O0PV0U0',\n 'B002R9HWT4',\n 'B004EK6UGU',\n 'B013YY29EI',\n 'B001KP2E4Y',\n 'B00IL15I48',\n 'B0047FPY64',\n 'B00OJXK8PG',\n 'B0012F6U38',\n 'B001NCUEY6',\n 'B006CLTJ3U',\n 'B000VZV9BI',\n 'B001BIMMZ6',\n 'B0181SNZBS',\n 'B00137GDIW',\n 'B001R6LA78',\n 'B01DWYWT8Q',\n 'B001EE6Q18',\n 'B00136PTZ6',\n 'B009YZU3OU',\n 'B003XX9X36',\n 'B00122A26W',\n 'B00137ILPU',\n 'B00137ODBG',\n 'B00UULECSK',\n 'B0011W7DXI',\n 'B000VZULDA',\n 'B005DOJ87Y',\n 'B00122OK1K',\n 'B00GAVAJC2',\n 'B00IXZDP42',\n 'B01EQH31T4',\n 'B0011Z7MBI',\n 'B009VQ1BLQ',\n 'B001GD6UAO',\n 'B0011W0FSI',\n 'B00BDNEVVM',\n 'B0012288VS',\n 'B002LEYUUY',\n 'B000WGL4YS',\n 'B00137OG54',\n 'B00GH5Q5PG',\n 'B0051U6XZU',\n 'B0042970G2',\n 'B00123FYD2',\n 'B000W0B62Y',\n 'B001227LXY',\n 'B0057UVLVK',\n 'B01BLYIT74',\n 'B009ZKNC2Y',\n 'B00RDEZAME',\n 'B00TYGGVKO',\n 'B00NDAGRFQ',\n 'B000VRWVYK',\n 'B00UULD92U',\n 'B00136JC4U',\n 'B00122PJ0G',\n 'B000V68ZHS',\n 'B000SZDX88',\n 'B00CWQE5UG',\n 'B001J29K6I',\n 'B00E82U84O',\n 'B000S55N3G',\n 'B0012EFZR6',\n 'B001NYCY6A',\n 'B006JETBVU',\n 'B0011W7GKS',\n 'B005MW6VM2',\n 'B000VWLEC0',\n 'B001J25KPS',\n 'B00QLXFO4M',\n 'B005IKZ1S8',\n 'B005ZBXVDW',\n 'B00HFEA0EK',\n 'B00ISG3RLM',\n 'B00122LS1K',\n 'B000SGWZMM',\n 'B00137TMKI',\n 'B00IHBSWH2',\n 'B001CF2CIA',\n 'B00136NV7Y',\n 'B000T02JFA',\n 'B0013L91LE',\n 'B001BZHEFC',\n 'B001J27EXE',\n 'B001246D68',\n 'B01B0393DK',\n 'B000TECOE2',\n 'B00EDCI8NM',\n 'B0043CPZ8S',\n 'B00M5LJQPM',\n 'B00EQO0QV4',\n 'B00JH1W452',\n 'B001BZDIDY',\n 'B0098HHWUW',\n 'B0076I3IWQ',\n 'B009EANFQ8',\n 'B00136RMD8',\n 'B001KEKXCK',\n 'B000V6392Y',\n 'B0011Z0YCM',\n 'B0012FC3IY',\n 'B00137RFPC',\n 'B001OGPRXO',\n 'B00137YXLQ',\n 'B00D4X0NMA',\n 'B00ADEINJI',\n 'B000W2166S',\n 'B00J924LIW',\n 'B004GNJWQK',\n 'B00BU2XSVK',\n 'B0013AE07U',\n 'B006N9AS36',\n 'B001NS1Z1G',\n 'B0034KBUAM',\n 'B00A0A5A6Y',\n 'B00N281JIO',\n 'B00IU9P3DC',\n 'B001KEU43I',\n 'B0011W3VXO',\n 'B001J25M1A',\n 'B000ZTI4ZE',\n 'B0012251CW',\n 'B007UTC3WC',\n 'B001G2HZG8',\n 'B00G7HG10I',\n 'B009PEN180',\n 'B001HE0KJE',\n 'B002VFDY9G',\n 'B00L8B22DI',\n 'B000ZC9OL4',\n 'B0057LULME',\n 'B004VQK63K',\n 'B00D058NQU',\n 'B00149BRIU',\n 'B00QNAIWRO',\n 'B00UP0P4N8',\n 'B00P7NCETA',\n 'B00DH71P7U',\n 'B00137O8MA',\n 'B00UIZS5WW',\n 'B0044BF4L6',\n 'B00137SVUU',\n 'B00136PV8Q',\n 'B00EUP7NT2',\n 'B00OLSUQJW',\n 'B00137G7KQ',\n 'B000TEMQTK',\n 'B001T5JFQ0',\n 'B001US272U',\n 'B002M9RLYK',\n 'B00KNTIDAM',\n 'B00MRQYYSO',\n 'B01731J0HM',\n 'B014SJOS1A',\n 'B000VRSX4M',\n 'B00GTZ7ROW',\n 'B00APCAZ3A',\n 'B000VIK4WK',\n 'B001NZJFYS',\n 'B007YR0LLK',\n 'B0013EZ1PQ',\n 'B00122DEFI',\n 'B00KM08QHC',\n 'B005UZ0KAU',\n 'B000ZK7YKO',\n 'B0013SGDUE',\n 'B001GEJ07I',\n 'B00EYAMFVE',\n 'B00136Q7FM',\n 'B003EYDYMA',\n 'B00C10MNN4',\n 'B00136JBBY',\n 'B00136PU9G',\n 'B001YXWAB4',\n 'B011DC3M6C',\n 'B000ZMYB0I',\n 'B00138F4IQ',\n 'B00GTWPM9C',\n 'B002FN1HR0',\n 'B00W6T4UTU',\n 'B000V61B4M',\n 'B008S50NEW',\n 'B0018AO430',\n 'B00122C0US',\n 'B0011Z0YF4',\n 'B00899E7VM',\n 'B000VZKNU6',\n 'B00136LM1Q',\n 'B00YRDOGKQ',\n 'B00658KG9G',\n 'B00FX8F6VM',\n 'B0042UDS6C',\n 'B00DANS9F2',\n 'B000V64UF4',\n 'B0018CKC0M',\n 'B0018ARJH8',\n 'B000VRNESM',\n 'B000WIRJ9U',\n 'B001382RIG',\n 'B00136LLTO',\n 'B000V652N8',\n 'B00EWS7KUY',\n 'B00F94U7G4',\n 'B004FXDYXI',\n 'B001B93N62',\n 'B000TPFPAG',\n 'B0181SN52C',\n 'B00123LHII',\n 'B0085LE53O',\n 'B002M9HYWO',\n 'B0018R0VOE',\n 'B001KV6MB4',\n 'B001NHETPQ',\n 'B0101H5U24',\n 'B00136M0O4',\n 'B000VB9WOI',\n 'B001OGNMX6',\n 'B004CBS3IY',\n 'B00138B2IW',\n 'B001A7DHW0',\n 'B00HFWY99E',\n 'B001B9DDKS',\n 'B000TS0VW0',\n 'B00122JWJ0',\n 'B009E2PKZ0',\n 'B0158D79GG',\n 'B002833YVO',\n 'B007Z546JO',\n 'B0043ZBJ6W',\n 'B00OVKKJR4',\n 'B00136JID0',\n 'B0011Z7M2C',\n 'B00OLSL0OM',\n 'B0011Z3F8M',\n 'B001HE2OUM',\n 'B000TRVDLE',\n 'B00136JMS6',\n 'B00126SGA2',\n 'B00137G6TI',\n 'B0050N8P0E',\n 'B0070X0PUA',\n 'B00WNX5IEK',\n 'B00OYB5MZY',\n 'B00D8WJBZM',\n 'B00136RO8Q',\n 'B000V68MDK',\n 'B001O3UGEW',\n 'B0012EEHO8',\n 'B004BS87XE',\n 'B00KOY9GNO',\n 'B004386MMU',\n 'B00122C1OS',\n 'B004FEZ4C6',\n 'B00N469184',\n 'B0011XFEDI',\n 'B002RDGQCO',\n 'B00PAV0NA6',\n 'B00920DUI8',\n 'B004GXVOD4',\n 'B002T9ZE3S',\n 'B002PZI7BC',\n 'B01GP32UUI',\n 'B00123NGGE',\n 'B00MX8RPMI',\n 'B003P07RVM',\n 'B00136LDKQ',\n 'B007GG4Q8I',\n 'B01DB0JBPU',\n 'B00B0POQ1I',\n 'B00BLZNCM6',\n 'B001NYEHQ0',\n 'B0013F232O',\n 'B00WARUNQW',\n 'B00137R46C',\n 'B00M0Q34UA',\n 'B0011ZN1ZO',\n 'B0033UL45O',\n 'B005BYUQB8',\n 'B00122PZ50',\n 'B016RWV6BG',\n 'B0013G42XG',\n 'B002DSAEGW',\n 'B006ZDS7Q0',\n 'B001KEFWKI',\n 'B00137MJXU',\n 'B00CMIEHPC',\n 'B00122X5VG',\n 'B00H2JATJO',\n 'B013H0WM00',\n 'B00IXZ9QP4',\n 'B005QIBOXS',\n 'B007NX6CEK',\n 'B001NB1C6G',\n 'B011AXYI12',\n 'B00140PN34',\n 'B0044JTID8',\n 'B000VZXCWW',\n 'B00B59OXKS',\n 'B00E0S52QU',\n 'B000W0YZUY',\n 'B001I8C7FO',\n 'B004QMR6KA',\n 'B001KW5TGM',\n 'B001CVSW92',\n 'B009FOBZL0',\n 'B000WLLWB8',\n 'B001NCH8P4',\n 'B00GM5Y4YK',\n 'B002LD61LQ',\n 'B0022EX06S',\n 'B001UQLTAI',\n 'B00260PFG6',\n 'B00OIK3WQW',\n 'B01DE7ER6I',\n 'B000V619CG',\n 'B005I0BRKY',\n 'B006H1ME5A',\n 'B000V63CRG',\n 'B00137KPMW',\n 'B00QFL1XVI',\n 'B00123IAVK',\n 'B0056D6CW6',\n 'B00123JUGE',\n 'B00137G8FK',\n 'B008TMR7KC',\n 'B00HUEXTV6',\n 'B001IAQUM8',\n 'B004EY31TK',\n 'B00IL81BMY',\n 'B004XRZC8Q',\n 'B00YHTN94E',\n 'B000ULATPU',\n 'B000TRV6AW',\n 'B00KQQYJPA',\n 'B003P28LR4',\n 'B01HGB68GK',\n 'B00R4PKGYE',\n 'B00MWFK7BI',\n 'B000W07CV8',\n 'B0013R62TW',\n 'B0011W0D6M',\n 'B001NSXNYI',\n 'B000W00IQE',\n 'B000T2K234',\n 'B004YPDZLS',\n 'B00MR8YBUS',\n 'B000V8A95C',\n 'B00A8U014C',\n 'B0170K9VGQ',\n 'B000ZDONOG',\n 'B000W23ISM',\n 'B00VHASLLW',\n 'B000VT7AI0',\n 'B01FTSA9GW',\n 'B00137TQJK',\n 'B0022F1Y5G',\n 'B00136RQKW',\n 'B00LP0DWBS',\n 'B01EPF15BI',\n 'B015D2NKPG',\n 'B001380RHY',\n 'B00NIK2QM4',\n 'B00136LUSQ',\n 'B00HFEC192',\n 'B00LF1RLDC',\n 'B007ZMC3UG',\n 'B00PGI49P8',\n 'B00U7J9JDS',\n 'B00138H3LC',\n 'B00136LFEA',\n 'B001NTWH8K',\n 'B000V64TW8',\n 'B016P0CA6U',\n 'B002FY1FK8',\n 'B00TJTBJBC',\n 'B001NTI9X2',\n 'B00130RC4S',\n 'B00MJVKB4I',\n 'B001UFT4LU',\n 'B00122KWPS',\n 'B004BRTTVO',\n 'B000W1W7JY',\n 'B00138KN0A',\n 'B001OFJRUE',\n 'B000W015S4',\n 'B00136RQ52',\n 'B001QUCG82',\n 'B001O03GNI',\n 'B001MD0GNK',\n 'B000VRNCBQ',\n 'B0011Z7JF2',\n 'B00138J7N4',\n 'B00122R1RU',\n 'B001J279RA',\n 'B004P1NRWI',\n 'B0011Z31FY',\n 'B0011Z2XUS',\n 'B00122JOIO',\n 'B0011Z0VPM',\n 'B005JBXNC2',\n 'B01BHC4C4Y',\n 'B00123KDR4',\n 'B01308CP9M',\n 'B00YDWLSC0',\n 'B001B6J6PW',\n 'B005F83A0O',\n 'B00SAE0ZKI',\n 'B00UK88SII',\n 'B006JHVRNW',\n 'B00137GK9O',\n 'B00136Q374',\n 'B015L1ZMQ4',\n 'B003YB1O4S',\n 'B00137KH6G',\n 'B00O0PV4QA',\n 'B000TEBKE2',\n 'B00B2IL2H4',\n 'B00137T2YO',\n 'B0013G43U8',\n 'B0051S9912',\n 'B009Y2KQEK',\n 'B00116ZIJK',\n 'B00UFZZ064',\n 'B003A9CLAA',\n 'B00IDXR9UK',\n 'B0012X46H2',\n 'B000SX8GB4',\n 'B00KGG22K4',\n 'B00136LPOU',\n 'B0011Z8QLI',\n 'B00137VDYG',\n 'B001NGNCUK',\n 'B000SX6NYQ',\n 'B00137RCEQ',\n 'B00137T1GI',\n 'B000W022JA',\n 'B001NYVYAW',\n 'B00492EOAW',\n 'B00M5J2M7I',\n 'B000W0CPME',\n 'B00136NVUG',\n 'B0154UNQXI',\n 'B00FQS44O4',\n 'B00136RRYW',\n 'B00BA5G1E8',\n 'B001NCO758',\n 'B003HJA28G',\n 'B00BWV9HUK',\n 'B001KYMR5Q',\n 'B015D2YOOC',\n 'B0016Q7A32',\n 'B004N04B4O',\n 'B00PR208L2',\n 'B0011Z1D1S',\n 'B005G4YNJO',\n 'B004BRTTWS',\n 'B00UY34QRQ',\n 'B0014DNFNQ',\n 'B008M4K38K',\n 'B01HGB5USC',\n 'B018ANV9R6',\n 'B00137GL0M',\n 'B005G26NVM',\n 'B00K3TVQYM',\n 'B000W29AR0',\n 'B00136NV42',\n 'B001NTZFOS',\n 'B0017CVGAI',\n 'B000W2922S',\n 'B0092MH94M',\n 'B00122D3I6',\n 'B001UNTB9W',\n 'B014VXCNHE',\n 'B00SR4VT4C',\n 'B00K9AA9TI',\n 'B00136JHUO',\n 'B00TKTK28M',\n 'B00137KKEK',\n 'B00JX38ACA',\n 'B004ID9L46',\n 'B01GL0OLHU',\n 'B00136LCG6',\n 'B004BUIT8U',\n 'B00C7D9QSU',\n 'B002EEY5UG',\n 'B0010P4BTU',\n 'B001AMZ494',\n 'B00137QR9M',\n 'B000S3JC9E',\n 'B00N23YW2Y',\n 'B00137SQA0',\n 'B0022WCL1U',\n 'B001NS3TW4',\n 'B008DZS678',\n 'B00K5RU72O',\n 'B00137XE66',\n 'B000SX8114',\n 'B00136LQUI',\n 'B000QLYCAC',\n 'B00AYNG9BC',\n 'B013GYRS2O',\n 'B00GLP4GC6',\n 'B004RS95XY',\n 'B0013G0OGU',\n 'B002CAAOF2',\n 'B00ASYVFEI',\n 'B00124H7FY',\n 'B00KB52T2Q',\n 'B0011Z1DEU',\n 'B00BKBJ13K',\n 'B00689IM02',\n 'B00VF1W7NQ',\n 'B000VZPH52',\n 'B013M3U182',\n 'B00U21FRHS',\n 'B001411WA6',\n 'B00EW0VRQ0',\n 'B01B6X0QC6',\n 'B00137GCDS',\n 'B00YIAXH58',\n 'B00CDX0UKC',\n 'B0041VID12',\n 'B00AO31BSI',\n 'B000VZWMPA',\n 'B007Y1AMPQ',\n 'B00AFIZJM6',\n 'B00AH34AUQ',\n 'B01ALB717M',\n 'B00124D8IY',\n 'B00137VC56',\n 'B005AABKMC',\n 'B00P4QNIPY',\n 'B009Y2KR4E',\n 'B004BRP7R4',\n 'B000VRQSVM',\n 'B00137QS0U',\n 'B009LUA9YW',\n 'B01BIUTD44',\n 'B004QBDB64',\n 'B00137OAD2',\n 'B00136LRQQ',\n 'B001NZZAVU',\n 'B000W08GNQ',\n 'B000TDF7VA',\n 'B004BCPXUA',\n 'B0012QNSG4',\n 'B00137IGVO',\n 'B00BPB8MBM',\n 'B004Q69TRY',\n 'B00260LMB8',\n 'B00IDXJXE0',\n 'B000SZDX1K',\n 'B00136PTMO',\n 'B0013ARLHQ',\n 'B000W1YZ80',\n 'B000YQBY3W',\n 'B01DXPUGNE',\n 'B000W11N6W',\n 'B00DZ9ULTS',\n 'B000W00K2Q',\n 'B00173C27S',\n 'B007YO7H1U',\n 'B00137IO6Q',\n 'B00136ROOA',\n 'B0036EG6QY',\n 'B0013G0PG4',\n 'B00V5O85M0',\n 'B00E91Q7Z8',\n 'B000SFFCTG',\n 'B001W0BHF4',\n 'B00MKC3EXG',\n 'B001458NFY',\n 'B0014KB8O2',\n 'B0012DJSZC',\n 'B004B72NSA',\n 'B009ANAAD0',\n 'B00136Q5T0',\n 'B00137X4Q6',\n 'B00YX1HFA0',\n 'B001NYBVXC',\n 'B00136JLV4',\n 'B0019K9JKC',\n 'B00CMAM8QA',\n 'B00KX0I2ES',\n 'B000VWGZ7O',\n 'B00137X52E',\n 'B0017F5YV2',\n 'B000VWOOVS',\n 'B0026P7SS4',\n 'B003VOUEQM',\n 'B00931JMWE',\n 'B001IBE3IK',\n 'B00KK5GZAY',\n 'B00136NTK8',\n 'B001CJO0UO',\n 'B0189VV154',\n 'B0011Z3GH2',\n 'B001J27EAW',\n 'B00CFS775Q',\n 'B005Y0R810',\n 'B00124BFPM',\n 'B000VRWV4U',\n 'B01C2567W0',\n 'B00AAAKH80',\n 'B004QNF0W0',\n 'B00U3WJHCW',\n 'B000V62SV2',\n 'B00VL4WWXM',\n 'B00I5T3BL8',\n 'B000V68P3M',\n 'B0010WVXLW',\n 'B016ELNMSK',\n 'B00B7L5E84',\n 'B00136PNN4',\n 'B005XRUQZE',\n 'B00122R5US',\n 'B00DANSRIQ',\n 'B004UVDGKG',\n 'B00YIB4B02',\n 'B00136JQ7I',\n 'B001OFZRXA',\n 'B000X71GK8',\n 'B00122JZ6A',\n 'B001244AOU',\n 'B005BYURBW',\n 'B00137ZDC4',\n 'B00MI6J9OC',\n 'B00KF2KMME',\n 'B00136LDG0',\n 'B007B6VOII',\n 'B0015PXF8S',\n 'B0011Z76ZK',\n 'B0012EG1YC',\n 'B001551ASA',\n 'B002CACL5S',\n 'B00137OCOE',\n 'B008GOL5G0',\n 'B009Y4EHZ2',\n 'B00153ZQ2S',\n 'B000V68LJ0',\n 'B00FHAER7K',\n 'B000TGZOL0',\n 'B001QP9FWC',\n 'B00VPR08UY',\n 'B000V66RKU',\n 'B00143VF92',\n 'B0189YMMF4',\n 'B00BIXCT70',\n 'B00LLMC78E',\n 'B00DPJ22JA',\n 'B00EE96CFU',\n 'B00TJTBO1W',\n 'B00FU2YV8A',\n 'B00137KI60',\n 'B001ES7Z5U',\n 'B00B22MWBK',\n 'B007UT46MM',\n 'B00C6MQ8J2',\n 'B003F19OFS',\n 'B009470G2C',\n 'B00B2IL0C6',\n 'B00MME5EH6',\n 'B004BTO7O6',\n 'B004YF9O68',\n 'B00137WSWM',\n 'B000WOT9K6',\n 'B01E8ZF3D6',\n 'B000V655OO',\n 'B01719S8SI',\n 'B002M9OTR2',\n 'B005FFV2GG',\n 'B001QUYGBW',\n 'B0154G7OUS',\n 'B00BJ94H0K',\n 'B000WLICQG',\n 'B00334PWXU',\n 'B00136LRVG',\n 'B00137GJK4',\n 'B001NB3C1O',\n 'B00136PYH4',\n 'B00B63731Y',\n 'B0092MIJRI',\n 'B000T1DMEG',\n 'B00137ZNAG',\n 'B00OSCEOLW',\n 'B001DD49LO',\n 'B005F1WL1A',\n 'B00PN1J19M',\n 'B0013AEG4C',\n 'B00122OP4M',\n 'B001NYVXX0',\n 'B001232NP4',\n 'B001FDIW9C',\n 'B00FGH1OOS',\n 'B005ZN95KS',\n 'B0011Z7JHU',\n 'B004YCOJVQ',\n 'B000QWOLVQ',\n 'B009MKFU5E',\n 'B001KQEEWI',\n 'B00140ZU1O',\n 'B0026P7SNO',\n 'B000V619UI',\n 'B000QMG34E',\n 'B007JNP9MK',\n 'B00122KLR2',\n 'B000SXKWXY',\n 'B000UBNXXU',\n 'B00L4LUUNG',\n 'B00137TMLC',\n 'B018V7H8DK',\n 'B00137SV0K',\n 'B00AKKZ3S4',\n 'B00C43UKRY',\n 'B000V66RH8',\n 'B00FY3LLKG',\n 'B001227LWA',\n 'B00FFJRPY0',\n 'B003UPIO5A',\n 'B004H028IG',\n 'B001NTGEKM',\n 'B00147FYXG',\n 'B004AWE2YO',\n 'B00FFUHD3W',\n 'B00HFECJCG',\n 'B002NXTHWE',\n 'B00C6BH8R4',\n 'B01BOBLK20',\n 'B00123N7RM',\n 'B000TPJ5FM',\n 'B00FNGG47E',\n 'B00367O71W',\n 'B001J2D906',\n 'B00C6MQ9VE',\n 'B00K5RU88W',\n 'B004REYNG2',\n 'B00137ZN8I',\n 'B0011Z0WQU',\n 'B00138H61Y',\n 'B001OG1YVI',\n 'B007Y1ANKK',\n 'B00137XKE2',\n 'B000WS2THW',\n 'B000X7S192',\n 'B009ZKNB8E',\n 'B004XKMSCQ',\n 'B00123JPBE',\n 'B01EYBGW4S',\n 'B00136NTF8',\n 'B000V9B41E',\n 'B0016DCUIA',\n 'B000WOUZZY',\n 'B0019B4M0S',\n 'B0070N03OI',\n 'B0011Z75H4',\n 'B004ZIGZL6',\n 'B001AMVNEE',\n 'B0081JATEO',\n 'B00B115OE4',\n 'B0013F0LD2',\n 'B00QWA82QG',\n 'B0011Z5IIW',\n 'B0013D4IK6',\n 'B00143VFMO',\n 'B00THRE5MG',\n 'B0043RIGFC',\n 'B00136NXNQ',\n 'B00124B5NY',\n 'B00124BD7M',\n 'B00136NQVU',\n 'B001226FDQ',\n 'B001IOX1XU',\n 'B00R1YFWV0',\n 'B00136NG9W',\n 'B019A70UQW',\n 'B0011Z5IJQ',\n 'B001HEZVDE',\n 'B00B6CDOFO',\n 'B015D33S7A',\n 'B00AHXDFWU',\n 'B00136LW3Y',\n 'B000VWGZL0',\n 'B01F2O06YS',\n 'B0091W8MJ4',\n 'B00C90T5FA',\n 'B0010XK96G',\n 'B000WHV4JC',\n 'B0012EGEJE',\n 'B001NTNI6U',\n 'B000W25BXM',\n 'B001KRU1QK',\n 'B01BI8H870',\n 'B001NZU9A2',\n 'B012KYGZ7K',\n 'B002RFVIPC',\n 'B00MP4072K',\n 'B004X2NL02',\n 'B000007UVW',\n 'B000TPHM5C',\n 'B004ZIGQOW',\n 'B009FO90NK',\n 'B001B8IJIA',\n 'B001BIJAWO',\n 'B0065KYB2W',\n 'B00137QLPW',\n 'B001226HUC',\n 'B0035RZU28',\n 'B00108F3I0',\n 'B003BMH92G',\n 'B00ILSJ0VI',\n 'B004J7ZG7C',\n 'B001DQH7EC',\n 'B000W1MCQW',\n 'B004UE3784',\n 'B00Q806GCC',\n 'B005ZN9B1Q',\n 'B00APCAXMS',\n 'B001KRS68U',\n 'B00136PY9M',\n 'B002KVE1NE',\n 'B00149EQTW',\n 'B001M05UW0',\n 'B0043VO41S',\n 'B00137UVUS',\n 'B0011Z94XM',\n 'B000UWR1AU',\n 'B00B5CEIRS',\n 'B0014J4V5Q',\n 'B00DIHZ6ZQ',\n 'B00137IKAQ',\n 'B005G8WE82',\n 'B003JON4RA',\n 'B00E32U98Y',\n 'B00B5CFVJW',\n 'B00136NV06',\n 'B00EELD9F4',\n 'B00T7G72OA',\n 'B01H5ZYNM8',\n 'B000QLO4IM',\n 'B005FOUXQC',\n 'B00ASETLUS',\n 'B00122CB7K',\n 'B001NSWEFM',\n 'B000W1WRAS',\n 'B000S53ZOK',\n 'B00123M8ZY',\n 'B00137INTO',\n 'B000W23KD0',\n 'B00137II62',\n 'B00FW68YKA',\n 'B0014LURKW',\n 'B00122Q7XO',\n 'B000WLVHTU',\n 'B00137YM8A',\n 'B00140I2K0',\n 'B000W11JU2',\n 'B001IYWHJ4',\n 'B000WH2IDS',\n 'B000W16ZPG',\n 'B00123D0HO',\n 'B00CV8G8KA',\n 'B014Y2N63W',\n 'B001MYOE5K',\n 'B00JVYU588',\n 'B0092MKTWQ',\n 'B01BKYPCIY',\n 'B013H1HRDG',\n 'B0011Z2Y7A',\n 'B00511C7RC',\n 'B0026EVP6Q',\n 'B00149CR66',\n 'B001220H5S',\n 'B003V9VSG2',\n 'B000WOXP1K',\n 'B011K82WTC',\n 'B000W1VDPI',\n 'B00138G74Q',\n 'B00136PP8W',\n 'B002NSOGZW',\n 'B0078ZC1IE',\n 'B0080XN3JE',\n 'B00136JXWG',\n 'B000VJWNHI',\n 'B000SXDCD6',\n 'B006U6460I',\n 'B00122EPH4',\n 'B001NYPOAS',\n 'B00137UYHS',\n 'B001KQEE8W',\n ...}"
     },
     "execution_count": 5,
     "metadata": {},
     "output_type": "execute_result"
    }
   ],
   "source": [
    "review_set"
   ],
   "metadata": {
    "collapsed": false,
    "pycharm": {
     "name": "#%%\n"
    }
   }
  },
  {
   "cell_type": "code",
   "execution_count": 6,
   "outputs": [
    {
     "name": "stdout",
     "output_type": "stream",
     "text": [
      "        overall  vote  verified   reviewTime      reviewerID        asin  \\\n",
      "0             5   3.0      True   06 3, 2013  A2TYZ821XXK2YZ  3426958910   \n",
      "1             5   NaN      True  10 11, 2014  A3OFSREZADFUDY  3426958910   \n",
      "2             5   NaN      True  02 11, 2014  A2VAMODP8M77NG  3426958910   \n",
      "3             4   3.0     False   12 7, 2013   AAKSLZ9IDTEH0  3426958910   \n",
      "4             5   NaN      True  06 12, 2016  A3OH43OZJLKI09  5557706259   \n",
      "...         ...   ...       ...          ...             ...         ...   \n",
      "169776        5   NaN      True  08 19, 2018  A1SR2T84IXOMAQ  B01HJ91MTW   \n",
      "169777        5   NaN      True  03 18, 2018  A2SR3DWJR1PYR6  B01HJ91MTW   \n",
      "169778        5   NaN      True   03 7, 2018  A24V7X30NIMOIY  B01HJ91MTW   \n",
      "169779        5   NaN      True  02 12, 2018  A1LW10GYP2EYM1  B01HJ91MTW   \n",
      "169780        5   NaN      True  01 27, 2018  A26TH3YW0QWPI7  B01HJ91MTW   \n",
      "\n",
      "                            style       reviewerName  \\\n",
      "0        {'Format:': ' Audio CD'}            Garrett   \n",
      "1        {'Format:': ' Audio CD'}                 Ad   \n",
      "2        {'Format:': ' Audio CD'}             JTGabq   \n",
      "3        {'Format:': ' Audio CD'}  john F&#039;n doe   \n",
      "4        {'Format:': ' Audio CD'}  melinda a goodman   \n",
      "...                           ...                ...   \n",
      "169776  {'Format:': ' MP3 Music'}           Diane B.   \n",
      "169777  {'Format:': ' MP3 Music'}             jan c.   \n",
      "169778  {'Format:': ' MP3 Music'}             Lori Y   \n",
      "169779  {'Format:': ' MP3 Music'}                N F   \n",
      "169780  {'Format:': ' MP3 Music'}         Susan Lane   \n",
      "\n",
      "                                               reviewText  \\\n",
      "0       This is awesome to listen to, A must-have for ...   \n",
      "1                                                    bien   \n",
      "2       It was great to hear the old stuff again and I...   \n",
      "3       well best of's are a bit poison normally but t...   \n",
      "4       What can I say? This is Casting Crowns!!!This ...   \n",
      "...                                                   ...   \n",
      "169776           Casting Crowns songs are all wonderful!!   \n",
      "169777         Just reminds you that you are never alone.   \n",
      "169778                        Good product, good service.   \n",
      "169779  I love every single song this group sings. The...   \n",
      "169780                                         Great song   \n",
      "\n",
      "                                                  summary  unixReviewTime  \\\n",
      "0                                           Slayer Rules!      1370217600   \n",
      "1                                              Five Stars      1412985600   \n",
      "2                             SLAYER!!!!!!!!!!!!!!!!!!!!!      1392076800   \n",
      "3       slayer greatest hits! you mean everything righ...      1386374400   \n",
      "4                         This is a good, blessing filled      1465689600   \n",
      "...                                                   ...             ...   \n",
      "169776                                       Great song!!      1534636800   \n",
      "169777                                         Five Stars      1521331200   \n",
      "169778                                         Five Stars      1520380800   \n",
      "169779                            Absolutely beautiful...      1518393600   \n",
      "169780                                         Five Stars      1517011200   \n",
      "\n",
      "       image  \n",
      "0        NaN  \n",
      "1        NaN  \n",
      "2        NaN  \n",
      "3        NaN  \n",
      "4        NaN  \n",
      "...      ...  \n",
      "169776   NaN  \n",
      "169777   NaN  \n",
      "169778   NaN  \n",
      "169779   NaN  \n",
      "169780   NaN  \n",
      "\n",
      "[169781 rows x 12 columns]\n",
      "to_lower\n",
      "clean_non_alphanumeric_and_nums\n",
      "trim_whitespaces\n"
     ]
    },
    {
     "name": "stderr",
     "output_type": "stream",
     "text": [
      "100%|██████████| 169623/169623 [00:00<00:00, 603020.68it/s]\n",
      "100%|██████████| 169623/169623 [00:01<00:00, 100389.48it/s]\n",
      "100%|██████████| 169623/169623 [00:01<00:00, 94045.24it/s] \n"
     ]
    }
   ],
   "source": [
    "unprocessed_df = amazon_dataloader.get_pandas_df()"
   ],
   "metadata": {
    "collapsed": false,
    "pycharm": {
     "name": "#%%\n"
    }
   }
  },
  {
   "cell_type": "code",
   "execution_count": 7,
   "outputs": [
    {
     "data": {
      "text/plain": "{'B00136NEX0',\n 'B0018CMBMY',\n 'B001NBNR7S',\n 'B004CTBWXO',\n 'B00137MH00',\n 'B002FVKMGE',\n 'B00CMD3RE4',\n 'B00123D00G',\n 'B00TKKKOUM',\n 'B000W11NQ2',\n 'B003MOHXBK',\n 'B00136JCGS',\n 'B005V0VIQY',\n 'B001NAZQPK',\n 'B00CM1NXHC',\n 'B00136JPIS',\n 'B00136NMRI',\n 'B0012UX108',\n 'B0013GH1ZM',\n 'B00AAQU5MM',\n 'B00137KEVO',\n 'B00AOMSQPU',\n 'B00DHMXLUY',\n 'B005UZ0L90',\n 'B003HB7OFS',\n 'B00CZXBA54',\n 'B0091LH1WE',\n 'B0025W8UVW',\n 'B00124B0MA',\n 'B001UQS29E',\n 'B000VO1LC6',\n 'B00BLZNBYA',\n 'B001KEMQFW',\n 'B00O2RCEVA',\n 'B000TDWOAM',\n 'B00L1XWPD0',\n 'B008XCJ0KI',\n 'B002A4VNSC',\n 'B005BIBRVC',\n 'B0013CROI0',\n 'B000W20GLO',\n 'B004AV2JZO',\n 'B00CMBUOJW',\n 'B00138E67G',\n 'B0011DNO12',\n 'B0014JAJYI',\n 'B00YX1GY0M',\n 'B001KWGTRU',\n 'B0011ZTUFO',\n 'B01167GBYO',\n 'B005JCU392',\n 'B00116D4MS',\n 'B01G9RNZXG',\n 'B00136Q5V8',\n 'B00138BJ58',\n 'B002NRW2YK',\n 'B01DHI4S22',\n 'B00C6MQ1S0',\n 'B00136PZ46',\n 'B00JX4PDJ2',\n 'B00137KH3Y',\n 'B00HZW27UM',\n 'B000W1Q010',\n 'B001AXKW9A',\n 'B0052Q3T6E',\n 'B0098HJ11U',\n 'B000W105XO',\n 'B00136PRI0',\n 'B00DH72QZA',\n 'B00LLMJAI4',\n 'B001O3Y7GK',\n 'B00137GDNC',\n 'B00CMIUNXM',\n 'B0186SEARQ',\n 'B00108H3OM',\n 'B0011Z4WT8',\n 'B015GU358W',\n 'B006W9T31K',\n 'B00IXBOM3O',\n 'B00121WWXO',\n 'B000TE54Q2',\n 'B00HZ4N664',\n 'B0014EVOCE',\n 'B0013FUMLI',\n 'B01C9VPMZU',\n 'B00160R70E',\n 'B002TSKCFY',\n 'B00JWNVU9G',\n 'B00UMI9A2Y',\n 'B000TE598U',\n 'B001CDKFYK',\n 'B00137MKC0',\n 'B0014LUQ9Y',\n 'B000VZLQ48',\n 'B0097BO2HK',\n 'B00TAJX7U2',\n 'B001C3FR70',\n 'B00IOMX72Y',\n 'B000WQ6XK8',\n 'B00JGEYCJG',\n 'B0011Z8PU0',\n 'B000VZYF9G',\n 'B000V64O3C',\n 'B00136M210',\n 'B001WB8RNI',\n 'B00330WF7K',\n 'B00122M0D0',\n 'B00CBUNUAO',\n 'B002QU9O4K',\n 'B00168MYM2',\n 'B00O0PV0U0',\n 'B002R9HWT4',\n 'B004EK6UGU',\n 'B013YY29EI',\n 'B001KP2E4Y',\n 'B00IL15I48',\n 'B0047FPY64',\n 'B00OJXK8PG',\n 'B0012F6U38',\n 'B001NCUEY6',\n 'B006CLTJ3U',\n 'B000VZV9BI',\n 'B001BIMMZ6',\n 'B0181SNZBS',\n 'B00137GDIW',\n 'B001R6LA78',\n 'B01DWYWT8Q',\n 'B001EE6Q18',\n 'B00136PTZ6',\n 'B009YZU3OU',\n 'B003XX9X36',\n 'B00122A26W',\n 'B00137ILPU',\n 'B00137ODBG',\n 'B00UULECSK',\n 'B0011W7DXI',\n 'B000VZULDA',\n 'B005DOJ87Y',\n 'B00122OK1K',\n 'B00GAVAJC2',\n 'B00IXZDP42',\n 'B01EQH31T4',\n 'B0011Z7MBI',\n 'B009VQ1BLQ',\n 'B001GD6UAO',\n 'B0011W0FSI',\n 'B00BDNEVVM',\n 'B0012288VS',\n 'B002LEYUUY',\n 'B000WGL4YS',\n 'B00137OG54',\n 'B00GH5Q5PG',\n 'B0051U6XZU',\n 'B0042970G2',\n 'B00123FYD2',\n 'B000W0B62Y',\n 'B001227LXY',\n 'B0057UVLVK',\n 'B01BLYIT74',\n 'B009ZKNC2Y',\n 'B00RDEZAME',\n 'B00TYGGVKO',\n 'B00NDAGRFQ',\n 'B000VRWVYK',\n 'B00UULD92U',\n 'B00136JC4U',\n 'B00122PJ0G',\n 'B000V68ZHS',\n 'B000SZDX88',\n 'B00CWQE5UG',\n 'B001J29K6I',\n 'B00E82U84O',\n 'B000S55N3G',\n 'B0012EFZR6',\n 'B001NYCY6A',\n 'B006JETBVU',\n 'B0011W7GKS',\n 'B005MW6VM2',\n 'B000VWLEC0',\n 'B001J25KPS',\n 'B00QLXFO4M',\n 'B005IKZ1S8',\n 'B005ZBXVDW',\n 'B00HFEA0EK',\n 'B00ISG3RLM',\n 'B00122LS1K',\n 'B000SGWZMM',\n 'B00137TMKI',\n 'B00IHBSWH2',\n 'B001CF2CIA',\n 'B00136NV7Y',\n 'B000T02JFA',\n 'B0013L91LE',\n 'B001BZHEFC',\n 'B001J27EXE',\n 'B001246D68',\n 'B01B0393DK',\n 'B000TECOE2',\n 'B00EDCI8NM',\n 'B0043CPZ8S',\n 'B00M5LJQPM',\n 'B00EQO0QV4',\n 'B00JH1W452',\n 'B001BZDIDY',\n 'B0098HHWUW',\n 'B0076I3IWQ',\n 'B009EANFQ8',\n 'B00136RMD8',\n 'B001KEKXCK',\n 'B000V6392Y',\n 'B0011Z0YCM',\n 'B0012FC3IY',\n 'B00137RFPC',\n 'B001OGPRXO',\n 'B00137YXLQ',\n 'B00D4X0NMA',\n 'B00ADEINJI',\n 'B000W2166S',\n 'B00J924LIW',\n 'B004GNJWQK',\n 'B00BU2XSVK',\n 'B0013AE07U',\n 'B006N9AS36',\n 'B001NS1Z1G',\n 'B0034KBUAM',\n 'B00A0A5A6Y',\n 'B00N281JIO',\n 'B00IU9P3DC',\n 'B001KEU43I',\n 'B0011W3VXO',\n 'B001J25M1A',\n 'B000ZTI4ZE',\n 'B0012251CW',\n 'B007UTC3WC',\n 'B001G2HZG8',\n 'B00G7HG10I',\n 'B009PEN180',\n 'B001HE0KJE',\n 'B002VFDY9G',\n 'B00L8B22DI',\n 'B000ZC9OL4',\n 'B0057LULME',\n 'B004VQK63K',\n 'B00D058NQU',\n 'B00149BRIU',\n 'B00QNAIWRO',\n 'B00UP0P4N8',\n 'B00P7NCETA',\n 'B00DH71P7U',\n 'B00137O8MA',\n 'B00UIZS5WW',\n 'B0044BF4L6',\n 'B00137SVUU',\n 'B00136PV8Q',\n 'B00EUP7NT2',\n 'B00OLSUQJW',\n 'B00137G7KQ',\n 'B000TEMQTK',\n 'B001T5JFQ0',\n 'B001US272U',\n 'B002M9RLYK',\n 'B00KNTIDAM',\n 'B00MRQYYSO',\n 'B01731J0HM',\n 'B014SJOS1A',\n 'B000VRSX4M',\n 'B00GTZ7ROW',\n 'B00APCAZ3A',\n 'B000VIK4WK',\n 'B001NZJFYS',\n 'B007YR0LLK',\n 'B0013EZ1PQ',\n 'B00122DEFI',\n 'B00KM08QHC',\n 'B005UZ0KAU',\n 'B000ZK7YKO',\n 'B0013SGDUE',\n 'B001GEJ07I',\n 'B00EYAMFVE',\n 'B00136Q7FM',\n 'B003EYDYMA',\n 'B00C10MNN4',\n 'B00136JBBY',\n 'B00136PU9G',\n 'B001YXWAB4',\n 'B011DC3M6C',\n 'B000ZMYB0I',\n 'B00138F4IQ',\n 'B00GTWPM9C',\n 'B002FN1HR0',\n 'B00W6T4UTU',\n 'B000V61B4M',\n 'B008S50NEW',\n 'B0018AO430',\n 'B00122C0US',\n 'B0011Z0YF4',\n 'B00899E7VM',\n 'B000VZKNU6',\n 'B00136LM1Q',\n 'B00YRDOGKQ',\n 'B00658KG9G',\n 'B00FX8F6VM',\n 'B0042UDS6C',\n 'B00DANS9F2',\n 'B000V64UF4',\n 'B0018CKC0M',\n 'B0018ARJH8',\n 'B000VRNESM',\n 'B000WIRJ9U',\n 'B001382RIG',\n 'B00136LLTO',\n 'B000V652N8',\n 'B00EWS7KUY',\n 'B00F94U7G4',\n 'B004FXDYXI',\n 'B001B93N62',\n 'B000TPFPAG',\n 'B0181SN52C',\n 'B00123LHII',\n 'B0085LE53O',\n 'B002M9HYWO',\n 'B0018R0VOE',\n 'B001KV6MB4',\n 'B001NHETPQ',\n 'B0101H5U24',\n 'B00136M0O4',\n 'B000VB9WOI',\n 'B001OGNMX6',\n 'B004CBS3IY',\n 'B00138B2IW',\n 'B001A7DHW0',\n 'B00HFWY99E',\n 'B001B9DDKS',\n 'B000TS0VW0',\n 'B00122JWJ0',\n 'B009E2PKZ0',\n 'B0158D79GG',\n 'B002833YVO',\n 'B007Z546JO',\n 'B0043ZBJ6W',\n 'B00OVKKJR4',\n 'B00136JID0',\n 'B0011Z7M2C',\n 'B00OLSL0OM',\n 'B0011Z3F8M',\n 'B001HE2OUM',\n 'B000TRVDLE',\n 'B00136JMS6',\n 'B00126SGA2',\n 'B00137G6TI',\n 'B0050N8P0E',\n 'B0070X0PUA',\n 'B00WNX5IEK',\n 'B00OYB5MZY',\n 'B00D8WJBZM',\n 'B00136RO8Q',\n 'B000V68MDK',\n 'B001O3UGEW',\n 'B0012EEHO8',\n 'B004BS87XE',\n 'B00KOY9GNO',\n 'B004386MMU',\n 'B00122C1OS',\n 'B004FEZ4C6',\n 'B00N469184',\n 'B0011XFEDI',\n 'B002RDGQCO',\n 'B00PAV0NA6',\n 'B00920DUI8',\n 'B004GXVOD4',\n 'B002T9ZE3S',\n 'B002PZI7BC',\n 'B01GP32UUI',\n 'B00123NGGE',\n 'B00MX8RPMI',\n 'B003P07RVM',\n 'B00136LDKQ',\n 'B007GG4Q8I',\n 'B01DB0JBPU',\n 'B00B0POQ1I',\n 'B00BLZNCM6',\n 'B001NYEHQ0',\n 'B0013F232O',\n 'B00WARUNQW',\n 'B00137R46C',\n 'B00M0Q34UA',\n 'B0011ZN1ZO',\n 'B0033UL45O',\n 'B005BYUQB8',\n 'B00122PZ50',\n 'B016RWV6BG',\n 'B0013G42XG',\n 'B002DSAEGW',\n 'B006ZDS7Q0',\n 'B001KEFWKI',\n 'B00137MJXU',\n 'B00CMIEHPC',\n 'B00122X5VG',\n 'B00H2JATJO',\n 'B013H0WM00',\n 'B00IXZ9QP4',\n 'B005QIBOXS',\n 'B007NX6CEK',\n 'B001NB1C6G',\n 'B011AXYI12',\n 'B00140PN34',\n 'B0044JTID8',\n 'B000VZXCWW',\n 'B00B59OXKS',\n 'B00E0S52QU',\n 'B000W0YZUY',\n 'B001I8C7FO',\n 'B004QMR6KA',\n 'B001KW5TGM',\n 'B001CVSW92',\n 'B009FOBZL0',\n 'B000WLLWB8',\n 'B001NCH8P4',\n 'B00GM5Y4YK',\n 'B002LD61LQ',\n 'B0022EX06S',\n 'B001UQLTAI',\n 'B00260PFG6',\n 'B00OIK3WQW',\n 'B01DE7ER6I',\n 'B000V619CG',\n 'B005I0BRKY',\n 'B006H1ME5A',\n 'B000V63CRG',\n 'B00137KPMW',\n 'B00QFL1XVI',\n 'B00123IAVK',\n 'B0056D6CW6',\n 'B00123JUGE',\n 'B00137G8FK',\n 'B008TMR7KC',\n 'B00HUEXTV6',\n 'B001IAQUM8',\n 'B004EY31TK',\n 'B00IL81BMY',\n 'B004XRZC8Q',\n 'B00YHTN94E',\n 'B000ULATPU',\n 'B000TRV6AW',\n 'B00KQQYJPA',\n 'B003P28LR4',\n 'B01HGB68GK',\n 'B00R4PKGYE',\n 'B00MWFK7BI',\n 'B000W07CV8',\n 'B0013R62TW',\n 'B0011W0D6M',\n 'B001NSXNYI',\n 'B000W00IQE',\n 'B000T2K234',\n 'B004YPDZLS',\n 'B00MR8YBUS',\n 'B000V8A95C',\n 'B00A8U014C',\n 'B0170K9VGQ',\n 'B000ZDONOG',\n 'B000W23ISM',\n 'B00VHASLLW',\n 'B000VT7AI0',\n 'B01FTSA9GW',\n 'B00137TQJK',\n 'B0022F1Y5G',\n 'B00136RQKW',\n 'B00LP0DWBS',\n 'B01EPF15BI',\n 'B015D2NKPG',\n 'B001380RHY',\n 'B00NIK2QM4',\n 'B00136LUSQ',\n 'B00HFEC192',\n 'B00LF1RLDC',\n 'B007ZMC3UG',\n 'B00PGI49P8',\n 'B00U7J9JDS',\n 'B00138H3LC',\n 'B00136LFEA',\n 'B001NTWH8K',\n 'B000V64TW8',\n 'B016P0CA6U',\n 'B002FY1FK8',\n 'B00TJTBJBC',\n 'B001NTI9X2',\n 'B00130RC4S',\n 'B00MJVKB4I',\n 'B001UFT4LU',\n 'B00122KWPS',\n 'B004BRTTVO',\n 'B000W1W7JY',\n 'B00138KN0A',\n 'B001OFJRUE',\n 'B000W015S4',\n 'B00136RQ52',\n 'B001QUCG82',\n 'B001O03GNI',\n 'B001MD0GNK',\n 'B000VRNCBQ',\n 'B0011Z7JF2',\n 'B00138J7N4',\n 'B00122R1RU',\n 'B001J279RA',\n 'B004P1NRWI',\n 'B0011Z31FY',\n 'B0011Z2XUS',\n 'B00122JOIO',\n 'B0011Z0VPM',\n 'B005JBXNC2',\n 'B01BHC4C4Y',\n 'B00123KDR4',\n 'B01308CP9M',\n 'B00YDWLSC0',\n 'B001B6J6PW',\n 'B005F83A0O',\n 'B00SAE0ZKI',\n 'B00UK88SII',\n 'B006JHVRNW',\n 'B00137GK9O',\n 'B00136Q374',\n 'B015L1ZMQ4',\n 'B003YB1O4S',\n 'B00137KH6G',\n 'B00O0PV4QA',\n 'B000TEBKE2',\n 'B00B2IL2H4',\n 'B00137T2YO',\n 'B0013G43U8',\n 'B0051S9912',\n 'B009Y2KQEK',\n 'B00116ZIJK',\n 'B00UFZZ064',\n 'B003A9CLAA',\n 'B00IDXR9UK',\n 'B0012X46H2',\n 'B000SX8GB4',\n 'B00KGG22K4',\n 'B00136LPOU',\n 'B0011Z8QLI',\n 'B00137VDYG',\n 'B001NGNCUK',\n 'B000SX6NYQ',\n 'B00137RCEQ',\n 'B00137T1GI',\n 'B000W022JA',\n 'B001NYVYAW',\n 'B00492EOAW',\n 'B00M5J2M7I',\n 'B000W0CPME',\n 'B00136NVUG',\n 'B0154UNQXI',\n 'B00FQS44O4',\n 'B00136RRYW',\n 'B00BA5G1E8',\n 'B001NCO758',\n 'B003HJA28G',\n 'B00BWV9HUK',\n 'B001KYMR5Q',\n 'B015D2YOOC',\n 'B0016Q7A32',\n 'B004N04B4O',\n 'B00PR208L2',\n 'B0011Z1D1S',\n 'B005G4YNJO',\n 'B004BRTTWS',\n 'B00UY34QRQ',\n 'B0014DNFNQ',\n 'B008M4K38K',\n 'B01HGB5USC',\n 'B018ANV9R6',\n 'B00137GL0M',\n 'B005G26NVM',\n 'B00K3TVQYM',\n 'B000W29AR0',\n 'B00136NV42',\n 'B001NTZFOS',\n 'B0017CVGAI',\n 'B000W2922S',\n 'B0092MH94M',\n 'B00122D3I6',\n 'B001UNTB9W',\n 'B014VXCNHE',\n 'B00SR4VT4C',\n 'B00K9AA9TI',\n 'B00136JHUO',\n 'B00TKTK28M',\n 'B00137KKEK',\n 'B00JX38ACA',\n 'B004ID9L46',\n 'B01GL0OLHU',\n 'B00136LCG6',\n 'B004BUIT8U',\n 'B00C7D9QSU',\n 'B002EEY5UG',\n 'B0010P4BTU',\n 'B001AMZ494',\n 'B00137QR9M',\n 'B000S3JC9E',\n 'B00N23YW2Y',\n 'B00137SQA0',\n 'B0022WCL1U',\n 'B001NS3TW4',\n 'B008DZS678',\n 'B00K5RU72O',\n 'B00137XE66',\n 'B000SX8114',\n 'B00136LQUI',\n 'B000QLYCAC',\n 'B00AYNG9BC',\n 'B013GYRS2O',\n 'B00GLP4GC6',\n 'B004RS95XY',\n 'B0013G0OGU',\n 'B002CAAOF2',\n 'B00ASYVFEI',\n 'B00124H7FY',\n 'B00KB52T2Q',\n 'B0011Z1DEU',\n 'B00BKBJ13K',\n 'B00689IM02',\n 'B00VF1W7NQ',\n 'B000VZPH52',\n 'B013M3U182',\n 'B00U21FRHS',\n 'B001411WA6',\n 'B00EW0VRQ0',\n 'B01B6X0QC6',\n 'B00137GCDS',\n 'B00YIAXH58',\n 'B00CDX0UKC',\n 'B0041VID12',\n 'B00AO31BSI',\n 'B000VZWMPA',\n 'B007Y1AMPQ',\n 'B00AFIZJM6',\n 'B00AH34AUQ',\n 'B01ALB717M',\n 'B00124D8IY',\n 'B00137VC56',\n 'B005AABKMC',\n 'B00P4QNIPY',\n 'B009Y2KR4E',\n 'B004BRP7R4',\n 'B000VRQSVM',\n 'B00137QS0U',\n 'B009LUA9YW',\n 'B01BIUTD44',\n 'B004QBDB64',\n 'B00137OAD2',\n 'B00136LRQQ',\n 'B001NZZAVU',\n 'B000W08GNQ',\n 'B000TDF7VA',\n 'B004BCPXUA',\n 'B0012QNSG4',\n 'B00137IGVO',\n 'B00BPB8MBM',\n 'B004Q69TRY',\n 'B00260LMB8',\n 'B00IDXJXE0',\n 'B000SZDX1K',\n 'B00136PTMO',\n 'B0013ARLHQ',\n 'B000W1YZ80',\n 'B000YQBY3W',\n 'B01DXPUGNE',\n 'B000W11N6W',\n 'B00DZ9ULTS',\n 'B000W00K2Q',\n 'B00173C27S',\n 'B007YO7H1U',\n 'B00137IO6Q',\n 'B00136ROOA',\n 'B0036EG6QY',\n 'B0013G0PG4',\n 'B00V5O85M0',\n 'B00E91Q7Z8',\n 'B000SFFCTG',\n 'B001W0BHF4',\n 'B00MKC3EXG',\n 'B001458NFY',\n 'B0014KB8O2',\n 'B0012DJSZC',\n 'B004B72NSA',\n 'B009ANAAD0',\n 'B00136Q5T0',\n 'B00137X4Q6',\n 'B00YX1HFA0',\n 'B001NYBVXC',\n 'B00136JLV4',\n 'B0019K9JKC',\n 'B00CMAM8QA',\n 'B00KX0I2ES',\n 'B000VWGZ7O',\n 'B00137X52E',\n 'B0017F5YV2',\n 'B000VWOOVS',\n 'B0026P7SS4',\n 'B003VOUEQM',\n 'B00931JMWE',\n 'B001IBE3IK',\n 'B00KK5GZAY',\n 'B00136NTK8',\n 'B001CJO0UO',\n 'B0189VV154',\n 'B0011Z3GH2',\n 'B001J27EAW',\n 'B00CFS775Q',\n 'B005Y0R810',\n 'B00124BFPM',\n 'B000VRWV4U',\n 'B01C2567W0',\n 'B00AAAKH80',\n 'B004QNF0W0',\n 'B00U3WJHCW',\n 'B000V62SV2',\n 'B00VL4WWXM',\n 'B00I5T3BL8',\n 'B000V68P3M',\n 'B0010WVXLW',\n 'B016ELNMSK',\n 'B00B7L5E84',\n 'B00136PNN4',\n 'B005XRUQZE',\n 'B00122R5US',\n 'B00DANSRIQ',\n 'B004UVDGKG',\n 'B00YIB4B02',\n 'B00136JQ7I',\n 'B001OFZRXA',\n 'B000X71GK8',\n 'B00122JZ6A',\n 'B001244AOU',\n 'B005BYURBW',\n 'B00137ZDC4',\n 'B00MI6J9OC',\n 'B00KF2KMME',\n 'B00136LDG0',\n 'B007B6VOII',\n 'B0015PXF8S',\n 'B0011Z76ZK',\n 'B0012EG1YC',\n 'B001551ASA',\n 'B002CACL5S',\n 'B00137OCOE',\n 'B008GOL5G0',\n 'B009Y4EHZ2',\n 'B00153ZQ2S',\n 'B000V68LJ0',\n 'B00FHAER7K',\n 'B000TGZOL0',\n 'B001QP9FWC',\n 'B00VPR08UY',\n 'B000V66RKU',\n 'B00143VF92',\n 'B0189YMMF4',\n 'B00BIXCT70',\n 'B00LLMC78E',\n 'B00DPJ22JA',\n 'B00EE96CFU',\n 'B00TJTBO1W',\n 'B00FU2YV8A',\n 'B00137KI60',\n 'B001ES7Z5U',\n 'B00B22MWBK',\n 'B007UT46MM',\n 'B00C6MQ8J2',\n 'B003F19OFS',\n 'B009470G2C',\n 'B00B2IL0C6',\n 'B00MME5EH6',\n 'B004BTO7O6',\n 'B004YF9O68',\n 'B00137WSWM',\n 'B000WOT9K6',\n 'B01E8ZF3D6',\n 'B000V655OO',\n 'B01719S8SI',\n 'B002M9OTR2',\n 'B005FFV2GG',\n 'B001QUYGBW',\n 'B0154G7OUS',\n 'B00BJ94H0K',\n 'B000WLICQG',\n 'B00334PWXU',\n 'B00136LRVG',\n 'B00137GJK4',\n 'B001NB3C1O',\n 'B00136PYH4',\n 'B00B63731Y',\n 'B0092MIJRI',\n 'B000T1DMEG',\n 'B00137ZNAG',\n 'B00OSCEOLW',\n 'B001DD49LO',\n 'B005F1WL1A',\n 'B00PN1J19M',\n 'B0013AEG4C',\n 'B00122OP4M',\n 'B001NYVXX0',\n 'B001232NP4',\n 'B001FDIW9C',\n 'B00FGH1OOS',\n 'B005ZN95KS',\n 'B0011Z7JHU',\n 'B004YCOJVQ',\n 'B000QWOLVQ',\n 'B009MKFU5E',\n 'B001KQEEWI',\n 'B00140ZU1O',\n 'B0026P7SNO',\n 'B000V619UI',\n 'B000QMG34E',\n 'B007JNP9MK',\n 'B00122KLR2',\n 'B000SXKWXY',\n 'B000UBNXXU',\n 'B00L4LUUNG',\n 'B00137TMLC',\n 'B018V7H8DK',\n 'B00137SV0K',\n 'B00AKKZ3S4',\n 'B00C43UKRY',\n 'B000V66RH8',\n 'B00FY3LLKG',\n 'B001227LWA',\n 'B00FFJRPY0',\n 'B003UPIO5A',\n 'B004H028IG',\n 'B001NTGEKM',\n 'B00147FYXG',\n 'B004AWE2YO',\n 'B00FFUHD3W',\n 'B00HFECJCG',\n 'B002NXTHWE',\n 'B00C6BH8R4',\n 'B01BOBLK20',\n 'B00123N7RM',\n 'B000TPJ5FM',\n 'B00FNGG47E',\n 'B00367O71W',\n 'B001J2D906',\n 'B00C6MQ9VE',\n 'B00K5RU88W',\n 'B004REYNG2',\n 'B00137ZN8I',\n 'B0011Z0WQU',\n 'B00138H61Y',\n 'B001OG1YVI',\n 'B007Y1ANKK',\n 'B00137XKE2',\n 'B000WS2THW',\n 'B000X7S192',\n 'B009ZKNB8E',\n 'B004XKMSCQ',\n 'B00123JPBE',\n 'B01EYBGW4S',\n 'B00136NTF8',\n 'B000V9B41E',\n 'B0016DCUIA',\n 'B000WOUZZY',\n 'B0019B4M0S',\n 'B0070N03OI',\n 'B0011Z75H4',\n 'B004ZIGZL6',\n 'B001AMVNEE',\n 'B0081JATEO',\n 'B00B115OE4',\n 'B0013F0LD2',\n 'B00QWA82QG',\n 'B0011Z5IIW',\n 'B0013D4IK6',\n 'B00143VFMO',\n 'B00THRE5MG',\n 'B0043RIGFC',\n 'B00136NXNQ',\n 'B00124B5NY',\n 'B00124BD7M',\n 'B00136NQVU',\n 'B001226FDQ',\n 'B001IOX1XU',\n 'B00R1YFWV0',\n 'B00136NG9W',\n 'B019A70UQW',\n 'B0011Z5IJQ',\n 'B001HEZVDE',\n 'B00B6CDOFO',\n 'B015D33S7A',\n 'B00AHXDFWU',\n 'B00136LW3Y',\n 'B000VWGZL0',\n 'B01F2O06YS',\n 'B0091W8MJ4',\n 'B00C90T5FA',\n 'B0010XK96G',\n 'B000WHV4JC',\n 'B0012EGEJE',\n 'B001NTNI6U',\n 'B000W25BXM',\n 'B001KRU1QK',\n 'B01BI8H870',\n 'B001NZU9A2',\n 'B012KYGZ7K',\n 'B002RFVIPC',\n 'B00MP4072K',\n 'B004X2NL02',\n 'B000007UVW',\n 'B000TPHM5C',\n 'B004ZIGQOW',\n 'B009FO90NK',\n 'B001B8IJIA',\n 'B001BIJAWO',\n 'B0065KYB2W',\n 'B00137QLPW',\n 'B001226HUC',\n 'B0035RZU28',\n 'B00108F3I0',\n 'B003BMH92G',\n 'B00ILSJ0VI',\n 'B004J7ZG7C',\n 'B001DQH7EC',\n 'B000W1MCQW',\n 'B004UE3784',\n 'B00Q806GCC',\n 'B005ZN9B1Q',\n 'B00APCAXMS',\n 'B001KRS68U',\n 'B00136PY9M',\n 'B002KVE1NE',\n 'B00149EQTW',\n 'B001M05UW0',\n 'B0043VO41S',\n 'B00137UVUS',\n 'B0011Z94XM',\n 'B000UWR1AU',\n 'B00B5CEIRS',\n 'B0014J4V5Q',\n 'B00DIHZ6ZQ',\n 'B00137IKAQ',\n 'B005G8WE82',\n 'B003JON4RA',\n 'B00E32U98Y',\n 'B00B5CFVJW',\n 'B00136NV06',\n 'B00EELD9F4',\n 'B00T7G72OA',\n 'B01H5ZYNM8',\n 'B000QLO4IM',\n 'B005FOUXQC',\n 'B00ASETLUS',\n 'B00122CB7K',\n 'B001NSWEFM',\n 'B000W1WRAS',\n 'B000S53ZOK',\n 'B00123M8ZY',\n 'B00137INTO',\n 'B000W23KD0',\n 'B00137II62',\n 'B00FW68YKA',\n 'B0014LURKW',\n 'B00122Q7XO',\n 'B000WLVHTU',\n 'B00137YM8A',\n 'B00140I2K0',\n 'B000W11JU2',\n 'B001IYWHJ4',\n 'B000WH2IDS',\n 'B000W16ZPG',\n 'B00123D0HO',\n 'B00CV8G8KA',\n 'B014Y2N63W',\n 'B001MYOE5K',\n 'B00JVYU588',\n 'B0092MKTWQ',\n 'B01BKYPCIY',\n 'B013H1HRDG',\n 'B0011Z2Y7A',\n 'B00511C7RC',\n 'B0026EVP6Q',\n 'B00149CR66',\n 'B001220H5S',\n 'B003V9VSG2',\n 'B000WOXP1K',\n 'B011K82WTC',\n 'B000W1VDPI',\n 'B00138G74Q',\n 'B00136PP8W',\n 'B002NSOGZW',\n 'B0078ZC1IE',\n 'B0080XN3JE',\n 'B00136JXWG',\n 'B000VJWNHI',\n 'B000SXDCD6',\n 'B006U6460I',\n 'B00122EPH4',\n 'B001NYPOAS',\n 'B00137UYHS',\n 'B001KQEE8W',\n ...}"
     },
     "execution_count": 7,
     "metadata": {},
     "output_type": "execute_result"
    }
   ],
   "source": [
    "unprocessed_set = set(reviews_df.loc[:,\"itemID\"])\n",
    "unprocessed_set"
   ],
   "metadata": {
    "collapsed": false,
    "pycharm": {
     "name": "#%%\n"
    }
   }
  },
  {
   "cell_type": "code",
   "execution_count": 8,
   "outputs": [
    {
     "name": "stdout",
     "output_type": "stream",
     "text": [
      "Intersection:  46\n",
      "Metadata/Review:  9741\n",
      "Review/Metadata 11751\n"
     ]
    }
   ],
   "source": [
    "l = len(unprocessed_set.intersection(metadata_set))\n",
    "print('Intersection: ', l)\n",
    "print('Metadata/Review: ', len(metadata_set) - l)\n",
    "print('Review/Metadata', len(unprocessed_set) - l)"
   ],
   "metadata": {
    "collapsed": false,
    "pycharm": {
     "name": "#%%\n"
    }
   }
  },
  {
   "cell_type": "code",
   "execution_count": null,
   "outputs": [],
   "source": [],
   "metadata": {
    "collapsed": false,
    "pycharm": {
     "name": "#%%\n"
    }
   }
  }
 ],
 "metadata": {
  "kernelspec": {
   "display_name": "Python 3",
   "language": "python",
   "name": "python3"
  },
  "language_info": {
   "codemirror_mode": {
    "name": "ipython",
    "version": 2
   },
   "file_extension": ".py",
   "mimetype": "text/x-python",
   "name": "python",
   "nbconvert_exporter": "python",
   "pygments_lexer": "ipython2",
   "version": "2.7.6"
  }
 },
 "nbformat": 4,
 "nbformat_minor": 0
}