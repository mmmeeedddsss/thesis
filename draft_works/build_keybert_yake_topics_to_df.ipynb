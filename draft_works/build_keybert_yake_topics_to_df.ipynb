{
 "cells": [
  {
   "cell_type": "code",
   "execution_count": 3,
   "metadata": {
    "collapsed": true
   },
   "outputs": [
    {
     "name": "stdout",
     "output_type": "stream",
     "text": [
      "        overall  vote  verified   reviewTime      reviewerID        asin  \\\n",
      "0             5   3.0      True   06 3, 2013  A2TYZ821XXK2YZ  3426958910   \n",
      "1             5   NaN      True  10 11, 2014  A3OFSREZADFUDY  3426958910   \n",
      "2             5   NaN      True  02 11, 2014  A2VAMODP8M77NG  3426958910   \n",
      "3             4   3.0     False   12 7, 2013   AAKSLZ9IDTEH0  3426958910   \n",
      "4             5   NaN      True  06 12, 2016  A3OH43OZJLKI09  5557706259   \n",
      "...         ...   ...       ...          ...             ...         ...   \n",
      "169776        5   NaN      True  08 19, 2018  A1SR2T84IXOMAQ  B01HJ91MTW   \n",
      "169777        5   NaN      True  03 18, 2018  A2SR3DWJR1PYR6  B01HJ91MTW   \n",
      "169778        5   NaN      True   03 7, 2018  A24V7X30NIMOIY  B01HJ91MTW   \n",
      "169779        5   NaN      True  02 12, 2018  A1LW10GYP2EYM1  B01HJ91MTW   \n",
      "169780        5   NaN      True  01 27, 2018  A26TH3YW0QWPI7  B01HJ91MTW   \n",
      "\n",
      "                            style       reviewerName  \\\n",
      "0        {'Format:': ' Audio CD'}            Garrett   \n",
      "1        {'Format:': ' Audio CD'}                 Ad   \n",
      "2        {'Format:': ' Audio CD'}             JTGabq   \n",
      "3        {'Format:': ' Audio CD'}  john F&#039;n doe   \n",
      "4        {'Format:': ' Audio CD'}  melinda a goodman   \n",
      "...                           ...                ...   \n",
      "169776  {'Format:': ' MP3 Music'}           Diane B.   \n",
      "169777  {'Format:': ' MP3 Music'}             jan c.   \n",
      "169778  {'Format:': ' MP3 Music'}             Lori Y   \n",
      "169779  {'Format:': ' MP3 Music'}                N F   \n",
      "169780  {'Format:': ' MP3 Music'}         Susan Lane   \n",
      "\n",
      "                                               reviewText  \\\n",
      "0       This is awesome to listen to, A must-have for ...   \n",
      "1                                                    bien   \n",
      "2       It was great to hear the old stuff again and I...   \n",
      "3       well best of's are a bit poison normally but t...   \n",
      "4       What can I say? This is Casting Crowns!!!This ...   \n",
      "...                                                   ...   \n",
      "169776           Casting Crowns songs are all wonderful!!   \n",
      "169777         Just reminds you that you are never alone.   \n",
      "169778                        Good product, good service.   \n",
      "169779  I love every single song this group sings. The...   \n",
      "169780                                         Great song   \n",
      "\n",
      "                                                  summary  unixReviewTime  \\\n",
      "0                                           Slayer Rules!      1370217600   \n",
      "1                                              Five Stars      1412985600   \n",
      "2                             SLAYER!!!!!!!!!!!!!!!!!!!!!      1392076800   \n",
      "3       slayer greatest hits! you mean everything righ...      1386374400   \n",
      "4                         This is a good, blessing filled      1465689600   \n",
      "...                                                   ...             ...   \n",
      "169776                                       Great song!!      1534636800   \n",
      "169777                                         Five Stars      1521331200   \n",
      "169778                                         Five Stars      1520380800   \n",
      "169779                            Absolutely beautiful...      1518393600   \n",
      "169780                                         Five Stars      1517011200   \n",
      "\n",
      "       image  \n",
      "0        NaN  \n",
      "1        NaN  \n",
      "2        NaN  \n",
      "3        NaN  \n",
      "4        NaN  \n",
      "...      ...  \n",
      "169776   NaN  \n",
      "169777   NaN  \n",
      "169778   NaN  \n",
      "169779   NaN  \n",
      "169780   NaN  \n",
      "\n",
      "[169781 rows x 12 columns]\n"
     ]
    }
   ],
   "source": [
    "\n",
    "import pandas as pd\n",
    "import numpy as np\n",
    "from dataset.amazon.loader import AmazonDatasetLoader\n",
    "from dataset.yelp.loader import YelpDatasetLoader\n",
    "from models.nlp.KeyBERT import KeyBERTExtractor\n",
    "from models.nlp.yake import YakeExtractor\n",
    "\n",
    "\n",
    "amazon_dataloader = AmazonDatasetLoader()\n",
    "yelp_dataloader = YelpDatasetLoader()\n",
    "\n",
    "df = amazon_dataloader.get_pandas_df()\n"
   ]
  },
  {
   "cell_type": "code",
   "execution_count": 2,
   "outputs": [
    {
     "data": {
      "text/plain": "Pandas Apply:   0%|          | 0/169623 [00:00<?, ?it/s]",
      "application/vnd.jupyter.widget-view+json": {
       "version_major": 2,
       "version_minor": 0,
       "model_id": "a804afcf33b04ecdac043b1faf97d438"
      }
     },
     "metadata": {},
     "output_type": "display_data"
    }
   ],
   "source": [
    "df = YakeExtractor().extract_keywords(df)"
   ],
   "metadata": {
    "collapsed": false,
    "pycharm": {
     "name": "#%%\n"
    }
   }
  },
  {
   "cell_type": "code",
   "execution_count": 3,
   "outputs": [
    {
     "data": {
      "text/plain": "Pandas Apply:   0%|          | 0/169623 [00:00<?, ?it/s]",
      "application/vnd.jupyter.widget-view+json": {
       "version_major": 2,
       "version_minor": 0,
       "model_id": "0c1e0a45645f4884b891caacc375e302"
      }
     },
     "metadata": {},
     "output_type": "display_data"
    }
   ],
   "source": [
    "df = KeyBERTExtractor().extract_keywords(df, {'top_n':10})"
   ],
   "metadata": {
    "collapsed": false,
    "pycharm": {
     "name": "#%%\n"
    }
   }
  },
  {
   "cell_type": "code",
   "execution_count": 4,
   "outputs": [],
   "source": [
    "df.to_pickle('Amazon_Digital_Music_5_with_extracted_topics.gzip')"
   ],
   "metadata": {
    "collapsed": false,
    "pycharm": {
     "name": "#%%\n"
    }
   }
  },
  {
   "cell_type": "code",
   "execution_count": 5,
   "outputs": [
    {
     "data": {
      "text/plain": "        rating  vote  verified   reviewTime          userID      itemID  \\\n0            5   3.0      True   06 3, 2013  A2TYZ821XXK2YZ  3426958910   \n1            5   NaN      True  10 11, 2014  A3OFSREZADFUDY  3426958910   \n2            5   NaN      True  02 11, 2014  A2VAMODP8M77NG  3426958910   \n3            4   3.0     False   12 7, 2013   AAKSLZ9IDTEH0  3426958910   \n4            5   NaN      True  06 12, 2016  A3OH43OZJLKI09  5557706259   \n...        ...   ...       ...          ...             ...         ...   \n169776       5   NaN      True  08 19, 2018  A1SR2T84IXOMAQ  B01HJ91MTW   \n169777       5   NaN      True  03 18, 2018  A2SR3DWJR1PYR6  B01HJ91MTW   \n169778       5   NaN      True   03 7, 2018  A24V7X30NIMOIY  B01HJ91MTW   \n169779       5   NaN      True  02 12, 2018  A1LW10GYP2EYM1  B01HJ91MTW   \n169780       5   NaN      True  01 27, 2018  A26TH3YW0QWPI7  B01HJ91MTW   \n\n                            style       reviewerName  \\\n0        {'Format:': ' Audio CD'}            Garrett   \n1        {'Format:': ' Audio CD'}                 Ad   \n2        {'Format:': ' Audio CD'}             JTGabq   \n3        {'Format:': ' Audio CD'}  john F&#039;n doe   \n4        {'Format:': ' Audio CD'}  melinda a goodman   \n...                           ...                ...   \n169776  {'Format:': ' MP3 Music'}           Diane B.   \n169777  {'Format:': ' MP3 Music'}             jan c.   \n169778  {'Format:': ' MP3 Music'}             Lori Y   \n169779  {'Format:': ' MP3 Music'}                N F   \n169780  {'Format:': ' MP3 Music'}         Susan Lane   \n\n                                                   review  \\\n0       this is awesome to listen to a must have for a...   \n1                                                    bien   \n2       it was great to hear the old stuff again and i...   \n3       well best of s are a bit poison normally but t...   \n4       what can i say this is casting crowns this is ...   \n...                                                   ...   \n169776             casting crowns songs are all wonderful   \n169777          just reminds you that you are never alone   \n169778                          good product good service   \n169779  i love every single song this group sings they...   \n169780                                         great song   \n\n                                                  summary  unixReviewTime  \\\n0                                           Slayer Rules!      1370217600   \n1                                              Five Stars      1412985600   \n2                             SLAYER!!!!!!!!!!!!!!!!!!!!!      1392076800   \n3       slayer greatest hits! you mean everything righ...      1386374400   \n4                         This is a good, blessing filled      1465689600   \n...                                                   ...             ...   \n169776                                       Great song!!      1534636800   \n169777                                         Five Stars      1521331200   \n169778                                         Five Stars      1520380800   \n169779                            Absolutely beautiful...      1518393600   \n169780                                         Five Stars      1517011200   \n\n       image                               topics_YakeExtractor  \\\n0        NaN  [(hits, 0.0771485953923296), (awesome, 0.11553...   \n1        NaN                      [(bien, 0.04491197687864554)]   \n2        NaN  [(fan, 0.11369206228658875), (stuff, 0.1345383...   \n3        NaN  [(put, 0.050345260229954614), (bad, 0.05280262...   \n4        NaN  [(casting, 0.15831692877998726), (crowns, 0.15...   \n...      ...                                                ...   \n169776   NaN  [(casting, 0.15831692877998726), (wonderful, 0...   \n169777   NaN                   [(reminds, 0.15831692877998726)]   \n169778   NaN  [(service, 0.11984314898676356), (good, 0.1432...   \n169779   NaN  [(song, 0.12922594861139264), (love, 0.1799547...   \n169780   NaN  [(great, 0.15831692877998726), (song, 0.158316...   \n\n                                  topics_KeyBERTExtractor  \n0       [(slayer, 0.2328), (hits, 0.2305), (triple, 0....  \n1                                           [(bien, 1.0)]  \n2       [(slayer, 0.3), (fan, 0.2337), (great, 0.1165)...  \n3       [(murder, 0.194), (poison, 0.1504), (skeletons...  \n4       [(crowns, 0.6668), (cd, 0.6098), (blessing, 0....  \n...                                                   ...  \n169776  [(crowns, 0.5951), (songs, 0.5676), (wonderful...  \n169777                [(reminds, 0.7215), (just, 0.6506)]  \n169778  [(good, 0.7224), (product, 0.6006), (service, ...  \n169779  [(love, 0.3022), (sings, 0.2639), (song, 0.191...  \n169780                   [(song, 0.752), (great, 0.6899)]  \n\n[169623 rows x 14 columns]",
      "text/html": "<div>\n<style scoped>\n    .dataframe tbody tr th:only-of-type {\n        vertical-align: middle;\n    }\n\n    .dataframe tbody tr th {\n        vertical-align: top;\n    }\n\n    .dataframe thead th {\n        text-align: right;\n    }\n</style>\n<table border=\"1\" class=\"dataframe\">\n  <thead>\n    <tr style=\"text-align: right;\">\n      <th></th>\n      <th>rating</th>\n      <th>vote</th>\n      <th>verified</th>\n      <th>reviewTime</th>\n      <th>userID</th>\n      <th>itemID</th>\n      <th>style</th>\n      <th>reviewerName</th>\n      <th>review</th>\n      <th>summary</th>\n      <th>unixReviewTime</th>\n      <th>image</th>\n      <th>topics_YakeExtractor</th>\n      <th>topics_KeyBERTExtractor</th>\n    </tr>\n  </thead>\n  <tbody>\n    <tr>\n      <th>0</th>\n      <td>5</td>\n      <td>3.0</td>\n      <td>True</td>\n      <td>06 3, 2013</td>\n      <td>A2TYZ821XXK2YZ</td>\n      <td>3426958910</td>\n      <td>{'Format:': ' Audio CD'}</td>\n      <td>Garrett</td>\n      <td>this is awesome to listen to a must have for a...</td>\n      <td>Slayer Rules!</td>\n      <td>1370217600</td>\n      <td>NaN</td>\n      <td>[(hits, 0.0771485953923296), (awesome, 0.11553...</td>\n      <td>[(slayer, 0.2328), (hits, 0.2305), (triple, 0....</td>\n    </tr>\n    <tr>\n      <th>1</th>\n      <td>5</td>\n      <td>NaN</td>\n      <td>True</td>\n      <td>10 11, 2014</td>\n      <td>A3OFSREZADFUDY</td>\n      <td>3426958910</td>\n      <td>{'Format:': ' Audio CD'}</td>\n      <td>Ad</td>\n      <td>bien</td>\n      <td>Five Stars</td>\n      <td>1412985600</td>\n      <td>NaN</td>\n      <td>[(bien, 0.04491197687864554)]</td>\n      <td>[(bien, 1.0)]</td>\n    </tr>\n    <tr>\n      <th>2</th>\n      <td>5</td>\n      <td>NaN</td>\n      <td>True</td>\n      <td>02 11, 2014</td>\n      <td>A2VAMODP8M77NG</td>\n      <td>3426958910</td>\n      <td>{'Format:': ' Audio CD'}</td>\n      <td>JTGabq</td>\n      <td>it was great to hear the old stuff again and i...</td>\n      <td>SLAYER!!!!!!!!!!!!!!!!!!!!!</td>\n      <td>1392076800</td>\n      <td>NaN</td>\n      <td>[(fan, 0.11369206228658875), (stuff, 0.1345383...</td>\n      <td>[(slayer, 0.3), (fan, 0.2337), (great, 0.1165)...</td>\n    </tr>\n    <tr>\n      <th>3</th>\n      <td>4</td>\n      <td>3.0</td>\n      <td>False</td>\n      <td>12 7, 2013</td>\n      <td>AAKSLZ9IDTEH0</td>\n      <td>3426958910</td>\n      <td>{'Format:': ' Audio CD'}</td>\n      <td>john F&amp;#039;n doe</td>\n      <td>well best of s are a bit poison normally but t...</td>\n      <td>slayer greatest hits! you mean everything righ...</td>\n      <td>1386374400</td>\n      <td>NaN</td>\n      <td>[(put, 0.050345260229954614), (bad, 0.05280262...</td>\n      <td>[(murder, 0.194), (poison, 0.1504), (skeletons...</td>\n    </tr>\n    <tr>\n      <th>4</th>\n      <td>5</td>\n      <td>NaN</td>\n      <td>True</td>\n      <td>06 12, 2016</td>\n      <td>A3OH43OZJLKI09</td>\n      <td>5557706259</td>\n      <td>{'Format:': ' Audio CD'}</td>\n      <td>melinda a goodman</td>\n      <td>what can i say this is casting crowns this is ...</td>\n      <td>This is a good, blessing filled</td>\n      <td>1465689600</td>\n      <td>NaN</td>\n      <td>[(casting, 0.15831692877998726), (crowns, 0.15...</td>\n      <td>[(crowns, 0.6668), (cd, 0.6098), (blessing, 0....</td>\n    </tr>\n    <tr>\n      <th>...</th>\n      <td>...</td>\n      <td>...</td>\n      <td>...</td>\n      <td>...</td>\n      <td>...</td>\n      <td>...</td>\n      <td>...</td>\n      <td>...</td>\n      <td>...</td>\n      <td>...</td>\n      <td>...</td>\n      <td>...</td>\n      <td>...</td>\n      <td>...</td>\n    </tr>\n    <tr>\n      <th>169776</th>\n      <td>5</td>\n      <td>NaN</td>\n      <td>True</td>\n      <td>08 19, 2018</td>\n      <td>A1SR2T84IXOMAQ</td>\n      <td>B01HJ91MTW</td>\n      <td>{'Format:': ' MP3 Music'}</td>\n      <td>Diane B.</td>\n      <td>casting crowns songs are all wonderful</td>\n      <td>Great song!!</td>\n      <td>1534636800</td>\n      <td>NaN</td>\n      <td>[(casting, 0.15831692877998726), (wonderful, 0...</td>\n      <td>[(crowns, 0.5951), (songs, 0.5676), (wonderful...</td>\n    </tr>\n    <tr>\n      <th>169777</th>\n      <td>5</td>\n      <td>NaN</td>\n      <td>True</td>\n      <td>03 18, 2018</td>\n      <td>A2SR3DWJR1PYR6</td>\n      <td>B01HJ91MTW</td>\n      <td>{'Format:': ' MP3 Music'}</td>\n      <td>jan c.</td>\n      <td>just reminds you that you are never alone</td>\n      <td>Five Stars</td>\n      <td>1521331200</td>\n      <td>NaN</td>\n      <td>[(reminds, 0.15831692877998726)]</td>\n      <td>[(reminds, 0.7215), (just, 0.6506)]</td>\n    </tr>\n    <tr>\n      <th>169778</th>\n      <td>5</td>\n      <td>NaN</td>\n      <td>True</td>\n      <td>03 7, 2018</td>\n      <td>A24V7X30NIMOIY</td>\n      <td>B01HJ91MTW</td>\n      <td>{'Format:': ' MP3 Music'}</td>\n      <td>Lori Y</td>\n      <td>good product good service</td>\n      <td>Five Stars</td>\n      <td>1520380800</td>\n      <td>NaN</td>\n      <td>[(service, 0.11984314898676356), (good, 0.1432...</td>\n      <td>[(good, 0.7224), (product, 0.6006), (service, ...</td>\n    </tr>\n    <tr>\n      <th>169779</th>\n      <td>5</td>\n      <td>NaN</td>\n      <td>True</td>\n      <td>02 12, 2018</td>\n      <td>A1LW10GYP2EYM1</td>\n      <td>B01HJ91MTW</td>\n      <td>{'Format:': ' MP3 Music'}</td>\n      <td>N F</td>\n      <td>i love every single song this group sings they...</td>\n      <td>Absolutely beautiful...</td>\n      <td>1518393600</td>\n      <td>NaN</td>\n      <td>[(song, 0.12922594861139264), (love, 0.1799547...</td>\n      <td>[(love, 0.3022), (sings, 0.2639), (song, 0.191...</td>\n    </tr>\n    <tr>\n      <th>169780</th>\n      <td>5</td>\n      <td>NaN</td>\n      <td>True</td>\n      <td>01 27, 2018</td>\n      <td>A26TH3YW0QWPI7</td>\n      <td>B01HJ91MTW</td>\n      <td>{'Format:': ' MP3 Music'}</td>\n      <td>Susan Lane</td>\n      <td>great song</td>\n      <td>Five Stars</td>\n      <td>1517011200</td>\n      <td>NaN</td>\n      <td>[(great, 0.15831692877998726), (song, 0.158316...</td>\n      <td>[(song, 0.752), (great, 0.6899)]</td>\n    </tr>\n  </tbody>\n</table>\n<p>169623 rows × 14 columns</p>\n</div>"
     },
     "execution_count": 5,
     "metadata": {},
     "output_type": "execute_result"
    }
   ],
   "source": [
    "df\n",
    "\n"
   ],
   "metadata": {
    "collapsed": false,
    "pycharm": {
     "name": "#%%\n"
    }
   }
  },
  {
   "cell_type": "code",
   "execution_count": 3,
   "outputs": [
    {
     "name": "stderr",
     "output_type": "stream",
     "text": [
      "/Users/mert.tunc/.virtualenvs/personal/lib/python3.9/site-packages/keybert/model.py:116: UserWarning: Although extracting keywords for multiple documents is faster than iterating over single documents, it requires significantly more memory to hold all word embeddings. Use this at your own discretion!\n",
      "  warnings.warn(\"Although extracting keywords for multiple documents is faster \"\n",
      "100it [00:00, 1583.05it/s]\n"
     ]
    }
   ],
   "source": [
    "#reviews = df['review'].to_list()\n",
    "#res = KeyBERTExtractor().model.extract_keywords(reviews)\n"
   ],
   "metadata": {
    "collapsed": false,
    "pycharm": {
     "name": "#%%\n"
    }
   }
  },
  {
   "cell_type": "code",
   "execution_count": 4,
   "outputs": [],
   "source": [
    "from models.nlp.tfidf import tfidfExtractor\n",
    "\n",
    "\n",
    "df = amazon_dataloader.get_processed_pandas_df()\n",
    "\n",
    "df = tfidfExtractor().extract_keywords(df)"
   ],
   "metadata": {
    "collapsed": false,
    "pycharm": {
     "name": "#%%\n"
    }
   }
  },
  {
   "cell_type": "code",
   "execution_count": 5,
   "outputs": [],
   "source": [
    "df.to_pickle('Digital_Music_5_with_extracted_topics.gzip')"
   ],
   "metadata": {
    "collapsed": false,
    "pycharm": {
     "name": "#%%\n"
    }
   }
  },
  {
   "cell_type": "code",
   "execution_count": 6,
   "outputs": [
    {
     "data": {
      "text/plain": "        rating  vote  verified   reviewTime          userID      itemID  \\\n0            5   3.0      True   06 3, 2013  A2TYZ821XXK2YZ  3426958910   \n1            5   NaN      True  10 11, 2014  A3OFSREZADFUDY  3426958910   \n2            5   NaN      True  02 11, 2014  A2VAMODP8M77NG  3426958910   \n3            4   3.0     False   12 7, 2013   AAKSLZ9IDTEH0  3426958910   \n4            5   NaN      True  06 12, 2016  A3OH43OZJLKI09  5557706259   \n...        ...   ...       ...          ...             ...         ...   \n169776       5   NaN      True  08 19, 2018  A1SR2T84IXOMAQ  B01HJ91MTW   \n169777       5   NaN      True  03 18, 2018  A2SR3DWJR1PYR6  B01HJ91MTW   \n169778       5   NaN      True   03 7, 2018  A24V7X30NIMOIY  B01HJ91MTW   \n169779       5   NaN      True  02 12, 2018  A1LW10GYP2EYM1  B01HJ91MTW   \n169780       5   NaN      True  01 27, 2018  A26TH3YW0QWPI7  B01HJ91MTW   \n\n                            style       reviewerName  \\\n0        {'Format:': ' Audio CD'}            Garrett   \n1        {'Format:': ' Audio CD'}                 Ad   \n2        {'Format:': ' Audio CD'}             JTGabq   \n3        {'Format:': ' Audio CD'}  john F&#039;n doe   \n4        {'Format:': ' Audio CD'}  melinda a goodman   \n...                           ...                ...   \n169776  {'Format:': ' MP3 Music'}           Diane B.   \n169777  {'Format:': ' MP3 Music'}             jan c.   \n169778  {'Format:': ' MP3 Music'}             Lori Y   \n169779  {'Format:': ' MP3 Music'}                N F   \n169780  {'Format:': ' MP3 Music'}         Susan Lane   \n\n                                                   review  \\\n0       this is awesome to listen to a must have for a...   \n1                                                    bien   \n2       it was great to hear the old stuff again and i...   \n3       well best of s are a bit poison normally but t...   \n4       what can i say this is casting crowns this is ...   \n...                                                   ...   \n169776             casting crowns songs are all wonderful   \n169777          just reminds you that you are never alone   \n169778                          good product good service   \n169779  i love every single song this group sings they...   \n169780                                         great song   \n\n                                                  summary  unixReviewTime  \\\n0                                           Slayer Rules!      1370217600   \n1                                              Five Stars      1412985600   \n2                             SLAYER!!!!!!!!!!!!!!!!!!!!!      1392076800   \n3       slayer greatest hits! you mean everything righ...      1386374400   \n4                         This is a good, blessing filled      1465689600   \n...                                                   ...             ...   \n169776                                       Great song!!      1534636800   \n169777                                         Five Stars      1521331200   \n169778                                         Five Stars      1520380800   \n169779                            Absolutely beautiful...      1518393600   \n169780                                         Five Stars      1517011200   \n\n       image                               topics_YakeExtractor  \\\n0        NaN  [(hits, 0.0771485953923296), (awesome, 0.11553...   \n1        NaN                      [(bien, 0.04491197687864554)]   \n2        NaN  [(fan, 0.11369206228658875), (stuff, 0.1345383...   \n3        NaN  [(put, 0.050345260229954614), (bad, 0.05280262...   \n4        NaN  [(casting, 0.15831692877998726), (crowns, 0.15...   \n...      ...                                                ...   \n169776   NaN  [(casting, 0.15831692877998726), (wonderful, 0...   \n169777   NaN                   [(reminds, 0.15831692877998726)]   \n169778   NaN  [(service, 0.11984314898676356), (good, 0.1432...   \n169779   NaN  [(song, 0.12922594861139264), (love, 0.1799547...   \n169780   NaN  [(great, 0.15831692877998726), (song, 0.158316...   \n\n                                  topics_KeyBERTExtractor  \\\n0       [(slayer, 0.2328), (hits, 0.2305), (triple, 0....   \n1                                           [(bien, 1.0)]   \n2       [(slayer, 0.3), (fan, 0.2337), (great, 0.1165)...   \n3       [(murder, 0.194), (poison, 0.1504), (skeletons...   \n4       [(crowns, 0.6668), (cd, 0.6098), (blessing, 0....   \n...                                                   ...   \n169776  [(crowns, 0.5951), (songs, 0.5676), (wonderful...   \n169777                [(reminds, 0.7215), (just, 0.6506)]   \n169778  [(good, 0.7224), (product, 0.6006), (service, ...   \n169779  [(love, 0.3022), (sings, 0.2639), (song, 0.191...   \n169780                   [(song, 0.752), (great, 0.6899)]   \n\n                                    topics_tfidfExtractor  \n0       [(awesome, 0.747808887564659), (listen, 0.6639...  \n1                                                      []  \n2       [(fan, 0.43822935289547155), (recommend, 0.436...  \n3       [(track, 0.4691617632862605), (cd, 0.428001514...  \n4       [(say, 0.6558348037485904), (cd, 0.62383989693...  \n...                                                   ...  \n169776  [(wonderful, 0.8369439633991801), (songs, 0.54...  \n169777                                      [(just, 1.0)]  \n169778                                      [(good, 1.0)]  \n169779                                 [(beautiful, 1.0)]  \n169780                                                 []  \n\n[169623 rows x 15 columns]",
      "text/html": "<div>\n<style scoped>\n    .dataframe tbody tr th:only-of-type {\n        vertical-align: middle;\n    }\n\n    .dataframe tbody tr th {\n        vertical-align: top;\n    }\n\n    .dataframe thead th {\n        text-align: right;\n    }\n</style>\n<table border=\"1\" class=\"dataframe\">\n  <thead>\n    <tr style=\"text-align: right;\">\n      <th></th>\n      <th>rating</th>\n      <th>vote</th>\n      <th>verified</th>\n      <th>reviewTime</th>\n      <th>userID</th>\n      <th>itemID</th>\n      <th>style</th>\n      <th>reviewerName</th>\n      <th>review</th>\n      <th>summary</th>\n      <th>unixReviewTime</th>\n      <th>image</th>\n      <th>topics_YakeExtractor</th>\n      <th>topics_KeyBERTExtractor</th>\n      <th>topics_tfidfExtractor</th>\n    </tr>\n  </thead>\n  <tbody>\n    <tr>\n      <th>0</th>\n      <td>5</td>\n      <td>3.0</td>\n      <td>True</td>\n      <td>06 3, 2013</td>\n      <td>A2TYZ821XXK2YZ</td>\n      <td>3426958910</td>\n      <td>{'Format:': ' Audio CD'}</td>\n      <td>Garrett</td>\n      <td>this is awesome to listen to a must have for a...</td>\n      <td>Slayer Rules!</td>\n      <td>1370217600</td>\n      <td>NaN</td>\n      <td>[(hits, 0.0771485953923296), (awesome, 0.11553...</td>\n      <td>[(slayer, 0.2328), (hits, 0.2305), (triple, 0....</td>\n      <td>[(awesome, 0.747808887564659), (listen, 0.6639...</td>\n    </tr>\n    <tr>\n      <th>1</th>\n      <td>5</td>\n      <td>NaN</td>\n      <td>True</td>\n      <td>10 11, 2014</td>\n      <td>A3OFSREZADFUDY</td>\n      <td>3426958910</td>\n      <td>{'Format:': ' Audio CD'}</td>\n      <td>Ad</td>\n      <td>bien</td>\n      <td>Five Stars</td>\n      <td>1412985600</td>\n      <td>NaN</td>\n      <td>[(bien, 0.04491197687864554)]</td>\n      <td>[(bien, 1.0)]</td>\n      <td>[]</td>\n    </tr>\n    <tr>\n      <th>2</th>\n      <td>5</td>\n      <td>NaN</td>\n      <td>True</td>\n      <td>02 11, 2014</td>\n      <td>A2VAMODP8M77NG</td>\n      <td>3426958910</td>\n      <td>{'Format:': ' Audio CD'}</td>\n      <td>JTGabq</td>\n      <td>it was great to hear the old stuff again and i...</td>\n      <td>SLAYER!!!!!!!!!!!!!!!!!!!!!</td>\n      <td>1392076800</td>\n      <td>NaN</td>\n      <td>[(fan, 0.11369206228658875), (stuff, 0.1345383...</td>\n      <td>[(slayer, 0.3), (fan, 0.2337), (great, 0.1165)...</td>\n      <td>[(fan, 0.43822935289547155), (recommend, 0.436...</td>\n    </tr>\n    <tr>\n      <th>3</th>\n      <td>4</td>\n      <td>3.0</td>\n      <td>False</td>\n      <td>12 7, 2013</td>\n      <td>AAKSLZ9IDTEH0</td>\n      <td>3426958910</td>\n      <td>{'Format:': ' Audio CD'}</td>\n      <td>john F&amp;#039;n doe</td>\n      <td>well best of s are a bit poison normally but t...</td>\n      <td>slayer greatest hits! you mean everything righ...</td>\n      <td>1386374400</td>\n      <td>NaN</td>\n      <td>[(put, 0.050345260229954614), (bad, 0.05280262...</td>\n      <td>[(murder, 0.194), (poison, 0.1504), (skeletons...</td>\n      <td>[(track, 0.4691617632862605), (cd, 0.428001514...</td>\n    </tr>\n    <tr>\n      <th>4</th>\n      <td>5</td>\n      <td>NaN</td>\n      <td>True</td>\n      <td>06 12, 2016</td>\n      <td>A3OH43OZJLKI09</td>\n      <td>5557706259</td>\n      <td>{'Format:': ' Audio CD'}</td>\n      <td>melinda a goodman</td>\n      <td>what can i say this is casting crowns this is ...</td>\n      <td>This is a good, blessing filled</td>\n      <td>1465689600</td>\n      <td>NaN</td>\n      <td>[(casting, 0.15831692877998726), (crowns, 0.15...</td>\n      <td>[(crowns, 0.6668), (cd, 0.6098), (blessing, 0....</td>\n      <td>[(say, 0.6558348037485904), (cd, 0.62383989693...</td>\n    </tr>\n    <tr>\n      <th>...</th>\n      <td>...</td>\n      <td>...</td>\n      <td>...</td>\n      <td>...</td>\n      <td>...</td>\n      <td>...</td>\n      <td>...</td>\n      <td>...</td>\n      <td>...</td>\n      <td>...</td>\n      <td>...</td>\n      <td>...</td>\n      <td>...</td>\n      <td>...</td>\n      <td>...</td>\n    </tr>\n    <tr>\n      <th>169776</th>\n      <td>5</td>\n      <td>NaN</td>\n      <td>True</td>\n      <td>08 19, 2018</td>\n      <td>A1SR2T84IXOMAQ</td>\n      <td>B01HJ91MTW</td>\n      <td>{'Format:': ' MP3 Music'}</td>\n      <td>Diane B.</td>\n      <td>casting crowns songs are all wonderful</td>\n      <td>Great song!!</td>\n      <td>1534636800</td>\n      <td>NaN</td>\n      <td>[(casting, 0.15831692877998726), (wonderful, 0...</td>\n      <td>[(crowns, 0.5951), (songs, 0.5676), (wonderful...</td>\n      <td>[(wonderful, 0.8369439633991801), (songs, 0.54...</td>\n    </tr>\n    <tr>\n      <th>169777</th>\n      <td>5</td>\n      <td>NaN</td>\n      <td>True</td>\n      <td>03 18, 2018</td>\n      <td>A2SR3DWJR1PYR6</td>\n      <td>B01HJ91MTW</td>\n      <td>{'Format:': ' MP3 Music'}</td>\n      <td>jan c.</td>\n      <td>just reminds you that you are never alone</td>\n      <td>Five Stars</td>\n      <td>1521331200</td>\n      <td>NaN</td>\n      <td>[(reminds, 0.15831692877998726)]</td>\n      <td>[(reminds, 0.7215), (just, 0.6506)]</td>\n      <td>[(just, 1.0)]</td>\n    </tr>\n    <tr>\n      <th>169778</th>\n      <td>5</td>\n      <td>NaN</td>\n      <td>True</td>\n      <td>03 7, 2018</td>\n      <td>A24V7X30NIMOIY</td>\n      <td>B01HJ91MTW</td>\n      <td>{'Format:': ' MP3 Music'}</td>\n      <td>Lori Y</td>\n      <td>good product good service</td>\n      <td>Five Stars</td>\n      <td>1520380800</td>\n      <td>NaN</td>\n      <td>[(service, 0.11984314898676356), (good, 0.1432...</td>\n      <td>[(good, 0.7224), (product, 0.6006), (service, ...</td>\n      <td>[(good, 1.0)]</td>\n    </tr>\n    <tr>\n      <th>169779</th>\n      <td>5</td>\n      <td>NaN</td>\n      <td>True</td>\n      <td>02 12, 2018</td>\n      <td>A1LW10GYP2EYM1</td>\n      <td>B01HJ91MTW</td>\n      <td>{'Format:': ' MP3 Music'}</td>\n      <td>N F</td>\n      <td>i love every single song this group sings they...</td>\n      <td>Absolutely beautiful...</td>\n      <td>1518393600</td>\n      <td>NaN</td>\n      <td>[(song, 0.12922594861139264), (love, 0.1799547...</td>\n      <td>[(love, 0.3022), (sings, 0.2639), (song, 0.191...</td>\n      <td>[(beautiful, 1.0)]</td>\n    </tr>\n    <tr>\n      <th>169780</th>\n      <td>5</td>\n      <td>NaN</td>\n      <td>True</td>\n      <td>01 27, 2018</td>\n      <td>A26TH3YW0QWPI7</td>\n      <td>B01HJ91MTW</td>\n      <td>{'Format:': ' MP3 Music'}</td>\n      <td>Susan Lane</td>\n      <td>great song</td>\n      <td>Five Stars</td>\n      <td>1517011200</td>\n      <td>NaN</td>\n      <td>[(great, 0.15831692877998726), (song, 0.158316...</td>\n      <td>[(song, 0.752), (great, 0.6899)]</td>\n      <td>[]</td>\n    </tr>\n  </tbody>\n</table>\n<p>169623 rows × 15 columns</p>\n</div>"
     },
     "execution_count": 6,
     "metadata": {},
     "output_type": "execute_result"
    }
   ],
   "source": [
    "df\n"
   ],
   "metadata": {
    "collapsed": false,
    "pycharm": {
     "name": "#%%\n"
    }
   }
  },
  {
   "cell_type": "code",
   "execution_count": 9,
   "outputs": [],
   "source": [],
   "metadata": {
    "collapsed": false,
    "pycharm": {
     "name": "#%%\n"
    }
   }
  },
  {
   "cell_type": "code",
   "execution_count": null,
   "outputs": [],
   "source": [],
   "metadata": {
    "collapsed": false,
    "pycharm": {
     "name": "#%%\n"
    }
   }
  }
 ],
 "metadata": {
  "kernelspec": {
   "display_name": "Python 3",
   "language": "python",
   "name": "python3"
  },
  "language_info": {
   "codemirror_mode": {
    "name": "ipython",
    "version": 2
   },
   "file_extension": ".py",
   "mimetype": "text/x-python",
   "name": "python",
   "nbconvert_exporter": "python",
   "pygments_lexer": "ipython2",
   "version": "2.7.6"
  }
 },
 "nbformat": 4,
 "nbformat_minor": 0
}